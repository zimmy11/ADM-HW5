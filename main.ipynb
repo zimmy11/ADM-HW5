{
 "cells": [
  {
   "cell_type": "markdown",
   "metadata": {},
   "source": [
    "# **Homework 5 - USA Airport Flight Analysis**\n",
    "\n",
    "*Group#12*\n",
    "\n",
    "- **Marco Zimmatore** - [zimmatore.1947442@studenti.uniroma1.it](mailto:zimmatore.1947442@studenti.uniroma1.it)\n",
    "- **Davide Vitale** - [vitale.1794386@studenti.uniroma1.it](mailto:vitale.1794386@studenti.uniroma1.it)\n",
    "- **Darkhan Maksutov** - [maksutov.2113209@studenti.uniroma1.it](mailto:maksutov.2113209@studenti.uniroma1.it)\n",
    "- **Riccardo Soleo** - [soleo.1911063@studenti.uniroma1.it](mailto:soleo.1911063@studenti.uniroma1.it)\n",
    "\n",
    "___"
   ]
  },
  {
   "cell_type": "code",
   "execution_count": 1,
   "metadata": {},
   "outputs": [],
   "source": [
    "import functions\n",
    "import pandas as pd\n",
    "import matplotlib.pyplot as plt\n",
    "import numpy as np \n",
    "from IPython.display import display, Markdown\n",
    "import warnings\n",
    "import plotly.graph_objects as go\n",
    "from plotly.subplots import make_subplots\n",
    "\n",
    "# Suppress all warnings\n",
    "warnings.filterwarnings(\"ignore\")\n",
    "dataset_path = \"../archive/Airports2.csv\"       "
   ]
  },
  {
   "cell_type": "code",
   "execution_count": 2,
   "metadata": {},
   "outputs": [
    {
     "data": {
      "text/plain": [
       "<module 'functions' from 'c:\\\\Users\\\\Marco\\\\Desktop\\\\Magistrale\\\\ADM\\\\ADM-HW5\\\\ADM-HW5\\\\functions.py'>"
      ]
     },
     "execution_count": 2,
     "metadata": {},
     "output_type": "execute_result"
    }
   ],
   "source": [
    "import importlib\n",
    "importlib.reload(functions)"
   ]
  },
  {
   "cell_type": "code",
   "execution_count": 3,
   "metadata": {},
   "outputs": [
    {
     "data": {
      "text/html": [
       "<div>\n",
       "<style scoped>\n",
       "    .dataframe tbody tr th:only-of-type {\n",
       "        vertical-align: middle;\n",
       "    }\n",
       "\n",
       "    .dataframe tbody tr th {\n",
       "        vertical-align: top;\n",
       "    }\n",
       "\n",
       "    .dataframe thead th {\n",
       "        text-align: right;\n",
       "    }\n",
       "</style>\n",
       "<table border=\"1\" class=\"dataframe\">\n",
       "  <thead>\n",
       "    <tr style=\"text-align: right;\">\n",
       "      <th></th>\n",
       "      <th>Origin_airport</th>\n",
       "      <th>Destination_airport</th>\n",
       "      <th>Origin_city</th>\n",
       "      <th>Destination_city</th>\n",
       "      <th>Passengers</th>\n",
       "      <th>Seats</th>\n",
       "      <th>Flights</th>\n",
       "      <th>Distance</th>\n",
       "      <th>Fly_date</th>\n",
       "      <th>Origin_population</th>\n",
       "      <th>Destination_population</th>\n",
       "      <th>Org_airport_lat</th>\n",
       "      <th>Org_airport_long</th>\n",
       "      <th>Dest_airport_lat</th>\n",
       "      <th>Dest_airport_long</th>\n",
       "    </tr>\n",
       "  </thead>\n",
       "  <tbody>\n",
       "    <tr>\n",
       "      <th>0</th>\n",
       "      <td>MHK</td>\n",
       "      <td>AMW</td>\n",
       "      <td>Manhattan, KS</td>\n",
       "      <td>Ames, IA</td>\n",
       "      <td>21</td>\n",
       "      <td>30</td>\n",
       "      <td>1</td>\n",
       "      <td>254</td>\n",
       "      <td>2008-10-01</td>\n",
       "      <td>122049</td>\n",
       "      <td>86219</td>\n",
       "      <td>39.140999</td>\n",
       "      <td>-96.670799</td>\n",
       "      <td>NaN</td>\n",
       "      <td>NaN</td>\n",
       "    </tr>\n",
       "    <tr>\n",
       "      <th>1</th>\n",
       "      <td>EUG</td>\n",
       "      <td>RDM</td>\n",
       "      <td>Eugene, OR</td>\n",
       "      <td>Bend, OR</td>\n",
       "      <td>41</td>\n",
       "      <td>396</td>\n",
       "      <td>22</td>\n",
       "      <td>103</td>\n",
       "      <td>1990-11-01</td>\n",
       "      <td>284093</td>\n",
       "      <td>76034</td>\n",
       "      <td>44.124599</td>\n",
       "      <td>-123.211998</td>\n",
       "      <td>44.254101</td>\n",
       "      <td>-121.150002</td>\n",
       "    </tr>\n",
       "    <tr>\n",
       "      <th>2</th>\n",
       "      <td>EUG</td>\n",
       "      <td>RDM</td>\n",
       "      <td>Eugene, OR</td>\n",
       "      <td>Bend, OR</td>\n",
       "      <td>88</td>\n",
       "      <td>342</td>\n",
       "      <td>19</td>\n",
       "      <td>103</td>\n",
       "      <td>1990-12-01</td>\n",
       "      <td>284093</td>\n",
       "      <td>76034</td>\n",
       "      <td>44.124599</td>\n",
       "      <td>-123.211998</td>\n",
       "      <td>44.254101</td>\n",
       "      <td>-121.150002</td>\n",
       "    </tr>\n",
       "    <tr>\n",
       "      <th>3</th>\n",
       "      <td>EUG</td>\n",
       "      <td>RDM</td>\n",
       "      <td>Eugene, OR</td>\n",
       "      <td>Bend, OR</td>\n",
       "      <td>11</td>\n",
       "      <td>72</td>\n",
       "      <td>4</td>\n",
       "      <td>103</td>\n",
       "      <td>1990-10-01</td>\n",
       "      <td>284093</td>\n",
       "      <td>76034</td>\n",
       "      <td>44.124599</td>\n",
       "      <td>-123.211998</td>\n",
       "      <td>44.254101</td>\n",
       "      <td>-121.150002</td>\n",
       "    </tr>\n",
       "    <tr>\n",
       "      <th>4</th>\n",
       "      <td>MFR</td>\n",
       "      <td>RDM</td>\n",
       "      <td>Medford, OR</td>\n",
       "      <td>Bend, OR</td>\n",
       "      <td>0</td>\n",
       "      <td>18</td>\n",
       "      <td>1</td>\n",
       "      <td>156</td>\n",
       "      <td>1990-02-01</td>\n",
       "      <td>147300</td>\n",
       "      <td>76034</td>\n",
       "      <td>42.374199</td>\n",
       "      <td>-122.873001</td>\n",
       "      <td>44.254101</td>\n",
       "      <td>-121.150002</td>\n",
       "    </tr>\n",
       "  </tbody>\n",
       "</table>\n",
       "</div>"
      ],
      "text/plain": [
       "  Origin_airport Destination_airport    Origin_city Destination_city  \\\n",
       "0            MHK                 AMW  Manhattan, KS         Ames, IA   \n",
       "1            EUG                 RDM     Eugene, OR         Bend, OR   \n",
       "2            EUG                 RDM     Eugene, OR         Bend, OR   \n",
       "3            EUG                 RDM     Eugene, OR         Bend, OR   \n",
       "4            MFR                 RDM    Medford, OR         Bend, OR   \n",
       "\n",
       "   Passengers  Seats  Flights  Distance    Fly_date  Origin_population  \\\n",
       "0          21     30        1       254  2008-10-01             122049   \n",
       "1          41    396       22       103  1990-11-01             284093   \n",
       "2          88    342       19       103  1990-12-01             284093   \n",
       "3          11     72        4       103  1990-10-01             284093   \n",
       "4           0     18        1       156  1990-02-01             147300   \n",
       "\n",
       "   Destination_population  Org_airport_lat  Org_airport_long  \\\n",
       "0                   86219        39.140999        -96.670799   \n",
       "1                   76034        44.124599       -123.211998   \n",
       "2                   76034        44.124599       -123.211998   \n",
       "3                   76034        44.124599       -123.211998   \n",
       "4                   76034        42.374199       -122.873001   \n",
       "\n",
       "   Dest_airport_lat  Dest_airport_long  \n",
       "0               NaN                NaN  \n",
       "1         44.254101        -121.150002  \n",
       "2         44.254101        -121.150002  \n",
       "3         44.254101        -121.150002  \n",
       "4         44.254101        -121.150002  "
      ]
     },
     "execution_count": 3,
     "metadata": {},
     "output_type": "execute_result"
    }
   ],
   "source": [
    "df = pd.read_csv(dataset_path)\n",
    "df.head()"
   ]
  },
  {
   "cell_type": "markdown",
   "metadata": {},
   "source": [
    "> We wanna build a graph with edges for each route, where each node represents an airport and eac edge is the existent route between two airports, with all the infos on that route. For this reason, we decide to remove all the rows with *NA* values in them, because each information is crucial for the next exercises computations."
   ]
  },
  {
   "cell_type": "markdown",
   "metadata": {},
   "source": [
    "> We delete also all the flights that have happened between the same airports, because they make no sense for our graph"
   ]
  },
  {
   "cell_type": "code",
   "execution_count": 7,
   "metadata": {},
   "outputs": [
    {
     "data": {
      "text/html": [
       "<div>\n",
       "<style scoped>\n",
       "    .dataframe tbody tr th:only-of-type {\n",
       "        vertical-align: middle;\n",
       "    }\n",
       "\n",
       "    .dataframe tbody tr th {\n",
       "        vertical-align: top;\n",
       "    }\n",
       "\n",
       "    .dataframe thead th {\n",
       "        text-align: right;\n",
       "    }\n",
       "</style>\n",
       "<table border=\"1\" class=\"dataframe\">\n",
       "  <thead>\n",
       "    <tr style=\"text-align: right;\">\n",
       "      <th></th>\n",
       "      <th>Origin_airport</th>\n",
       "      <th>Destination_airport</th>\n",
       "      <th>Origin_city</th>\n",
       "      <th>Destination_city</th>\n",
       "      <th>Passengers</th>\n",
       "      <th>Seats</th>\n",
       "      <th>Flights</th>\n",
       "      <th>Distance</th>\n",
       "      <th>Fly_date</th>\n",
       "      <th>Origin_population</th>\n",
       "      <th>Destination_population</th>\n",
       "      <th>Org_airport_lat</th>\n",
       "      <th>Org_airport_long</th>\n",
       "      <th>Dest_airport_lat</th>\n",
       "      <th>Dest_airport_long</th>\n",
       "    </tr>\n",
       "  </thead>\n",
       "  <tbody>\n",
       "    <tr>\n",
       "      <th>1</th>\n",
       "      <td>EUG</td>\n",
       "      <td>RDM</td>\n",
       "      <td>Eugene, OR</td>\n",
       "      <td>Bend, OR</td>\n",
       "      <td>41</td>\n",
       "      <td>396</td>\n",
       "      <td>22</td>\n",
       "      <td>103</td>\n",
       "      <td>1990-11-01</td>\n",
       "      <td>284093</td>\n",
       "      <td>76034</td>\n",
       "      <td>44.124599</td>\n",
       "      <td>-123.211998</td>\n",
       "      <td>44.254101</td>\n",
       "      <td>-121.150002</td>\n",
       "    </tr>\n",
       "    <tr>\n",
       "      <th>2</th>\n",
       "      <td>EUG</td>\n",
       "      <td>RDM</td>\n",
       "      <td>Eugene, OR</td>\n",
       "      <td>Bend, OR</td>\n",
       "      <td>88</td>\n",
       "      <td>342</td>\n",
       "      <td>19</td>\n",
       "      <td>103</td>\n",
       "      <td>1990-12-01</td>\n",
       "      <td>284093</td>\n",
       "      <td>76034</td>\n",
       "      <td>44.124599</td>\n",
       "      <td>-123.211998</td>\n",
       "      <td>44.254101</td>\n",
       "      <td>-121.150002</td>\n",
       "    </tr>\n",
       "    <tr>\n",
       "      <th>3</th>\n",
       "      <td>EUG</td>\n",
       "      <td>RDM</td>\n",
       "      <td>Eugene, OR</td>\n",
       "      <td>Bend, OR</td>\n",
       "      <td>11</td>\n",
       "      <td>72</td>\n",
       "      <td>4</td>\n",
       "      <td>103</td>\n",
       "      <td>1990-10-01</td>\n",
       "      <td>284093</td>\n",
       "      <td>76034</td>\n",
       "      <td>44.124599</td>\n",
       "      <td>-123.211998</td>\n",
       "      <td>44.254101</td>\n",
       "      <td>-121.150002</td>\n",
       "    </tr>\n",
       "    <tr>\n",
       "      <th>4</th>\n",
       "      <td>MFR</td>\n",
       "      <td>RDM</td>\n",
       "      <td>Medford, OR</td>\n",
       "      <td>Bend, OR</td>\n",
       "      <td>0</td>\n",
       "      <td>18</td>\n",
       "      <td>1</td>\n",
       "      <td>156</td>\n",
       "      <td>1990-02-01</td>\n",
       "      <td>147300</td>\n",
       "      <td>76034</td>\n",
       "      <td>42.374199</td>\n",
       "      <td>-122.873001</td>\n",
       "      <td>44.254101</td>\n",
       "      <td>-121.150002</td>\n",
       "    </tr>\n",
       "    <tr>\n",
       "      <th>5</th>\n",
       "      <td>MFR</td>\n",
       "      <td>RDM</td>\n",
       "      <td>Medford, OR</td>\n",
       "      <td>Bend, OR</td>\n",
       "      <td>11</td>\n",
       "      <td>18</td>\n",
       "      <td>1</td>\n",
       "      <td>156</td>\n",
       "      <td>1990-03-01</td>\n",
       "      <td>147300</td>\n",
       "      <td>76034</td>\n",
       "      <td>42.374199</td>\n",
       "      <td>-122.873001</td>\n",
       "      <td>44.254101</td>\n",
       "      <td>-121.150002</td>\n",
       "    </tr>\n",
       "  </tbody>\n",
       "</table>\n",
       "</div>"
      ],
      "text/plain": [
       "  Origin_airport Destination_airport  Origin_city Destination_city  \\\n",
       "1            EUG                 RDM   Eugene, OR         Bend, OR   \n",
       "2            EUG                 RDM   Eugene, OR         Bend, OR   \n",
       "3            EUG                 RDM   Eugene, OR         Bend, OR   \n",
       "4            MFR                 RDM  Medford, OR         Bend, OR   \n",
       "5            MFR                 RDM  Medford, OR         Bend, OR   \n",
       "\n",
       "   Passengers  Seats  Flights  Distance    Fly_date  Origin_population  \\\n",
       "1          41    396       22       103  1990-11-01             284093   \n",
       "2          88    342       19       103  1990-12-01             284093   \n",
       "3          11     72        4       103  1990-10-01             284093   \n",
       "4           0     18        1       156  1990-02-01             147300   \n",
       "5          11     18        1       156  1990-03-01             147300   \n",
       "\n",
       "   Destination_population  Org_airport_lat  Org_airport_long  \\\n",
       "1                   76034        44.124599       -123.211998   \n",
       "2                   76034        44.124599       -123.211998   \n",
       "3                   76034        44.124599       -123.211998   \n",
       "4                   76034        42.374199       -122.873001   \n",
       "5                   76034        42.374199       -122.873001   \n",
       "\n",
       "   Dest_airport_lat  Dest_airport_long  \n",
       "1         44.254101        -121.150002  \n",
       "2         44.254101        -121.150002  \n",
       "3         44.254101        -121.150002  \n",
       "4         44.254101        -121.150002  \n",
       "5         44.254101        -121.150002  "
      ]
     },
     "execution_count": 7,
     "metadata": {},
     "output_type": "execute_result"
    }
   ],
   "source": [
    "df = df.dropna()\n",
    "df_filtered = df[df['Distance'] > 0]\n",
    "df.head()"
   ]
  },
  {
   "cell_type": "markdown",
   "metadata": {},
   "source": [
    "## **Flight Network Analysis (Q1)**"
   ]
  },
  {
   "cell_type": "markdown",
   "metadata": {},
   "source": [
    "##### **Function** `create_airport_graph`"
   ]
  },
  {
   "cell_type": "code",
   "execution_count": 8,
   "metadata": {},
   "outputs": [],
   "source": [
    "graph = functions.create_airport_graph(df)"
   ]
  },
  {
   "cell_type": "markdown",
   "metadata": {},
   "source": [
    "1. Implement a function `analyze_graph_features(flight_network)` that takes the flight network as input and computes the following:\n",
    "\n",
    "    - Count the number of airports (`nodes`) and flights (`edges`) in the graph.\n",
    "\n",
    "    - Compute the density of the graph using the formula: $ Density = \\frac{2\\times E}{N(N − 1)}$\n",
    "\n",
    "    - Calculate both `in-degree` and `out-degree` for each airport and visualize them using histograms.\n",
    "\n",
    "    - Identify airports with degrees higher than the 90th percentile and list them as \"`hubs`\".\n",
    "    \n",
    "    - Determine if the graph is sparse or dense based on its density.\n",
    "\n"
   ]
  },
  {
   "cell_type": "code",
   "execution_count": 95,
   "metadata": {},
   "outputs": [],
   "source": [
    "def analyze_graph_features(flight_network):\n",
    "\n",
    "    number_of_nodes = 0\n",
    "    number_of_edges = len(flight_network.edges())\n",
    "    dict_degrees_edges = dict()\n",
    "\n",
    "    for node in flight_network.nodes:\n",
    "        number_of_nodes = number_of_nodes + 1\n",
    "\n",
    "        in_edges = 0\n",
    "        out_edges = 0\n",
    "\n",
    "        for _, _, attr in flight_network.edges(node, data = True):\n",
    "            out_edges+=1\n",
    "\n",
    "        for _, _, attr in flight_network.in_edges(node, data = True):\n",
    "            in_edges+=1\n",
    "            \n",
    "\n",
    "        dict_degrees_edges[node] = [in_edges, out_edges]\n",
    "\n",
    "    graph_density = (2 * number_of_edges) / (number_of_nodes* (number_of_nodes -1))\n",
    "    \n",
    "\n",
    "    in_degrees = [edge_degree[0] for edge_degree in dict_degrees_edges.values()]\n",
    "    out_degrees = [edge_degree[1] for edge_degree in dict_degrees_edges.values()]\n",
    "    \n",
    "\n",
    "\n",
    "    # Create a subplot with 1 row, 2 columns\n",
    "    fig = make_subplots(rows=1, cols=2, subplot_titles=('In-degree Histogram', 'Out-degree Histogram'))\n",
    "\n",
    "    # Add in-degree histogram in the first subplot (left)\n",
    "    fig.add_trace(\n",
    "        go.Histogram(x=in_degrees, nbinsx=20, name='In-degree', marker=dict(color='steelblue')),\n",
    "        row=1, col=1\n",
    "    )\n",
    "\n",
    "    # Add out-degree histogram in the second subplot (right)\n",
    "    fig.add_trace(\n",
    "        go.Histogram(x=out_degrees, nbinsx=20, name='Out-degree', marker=dict(color='darkorange')),\n",
    "        row=1, col=2\n",
    "    )\n",
    "\n",
    "    # Update layout for better aesthetics\n",
    "    fig.update_layout(\n",
    "        title=\"In-degree vs Out-degree Histograms\",\n",
    "        xaxis_title=\"Degree\",\n",
    "        yaxis_title=\"Frequency\",\n",
    "        showlegend=True,\n",
    "        height=500,  # adjust the height of the figure\n",
    "        width=1000   # adjust the width of the figure\n",
    "    )\n",
    "\n",
    "\n",
    "\n",
    "    # Calculate 90th percentile for in-degrees and out-degrees\n",
    "\n",
    "    # Firstly we build a dictionary to compute the total degree value for each airport(node)\n",
    "    dict_degrees = dict()\n",
    "\n",
    "    for node, degrees in dict_degrees_edges.items():\n",
    "        dict_degrees[node] = degrees[0] + degrees[1]\n",
    "    \n",
    "\n",
    "    # wE use np.precentile to obtaine the percentile from the dictionary of the degrees for each node \n",
    "    degree_percentile = np.percentile(list(dict_degrees.values()), 90)\n",
    "    \n",
    "    # Identify airports that are \"hubs\" (in-degree or out-degree greater than 90th percentile)\n",
    "    hubs = []\n",
    "    \n",
    "    # Check for hubs\n",
    "    for node,degree in dict_degrees.items():\n",
    "        if degree > degree_percentile:\n",
    "            hubs.append((node, degree))\n",
    "\n",
    "    threshold = 0.5\n",
    "    # We check if the Graph is dense or sparse\n",
    "    if graph_density > threshold:\n",
    "        is_sparse = False\n",
    "    else:\n",
    "        is_sparse = True\n",
    "\n",
    "    return number_of_nodes, number_of_edges, fig, hubs, is_sparse"
   ]
  },
  {
   "cell_type": "markdown",
   "metadata": {},
   "source": [
    "2. Write a function `summarize_graph_features(flight_network)` that generates a detailed report of the graph's features. A summary report needs to include:\n",
    "\n",
    "    - The number of nodes and edges.\n",
    "    \n",
    "    - The graph density.\n",
    "    \n",
    "    - Degree distribution plots for in-degree and out-degree.\n",
    "    \n",
    "    - A table of identified hubs.\n",
    "\n"
   ]
  },
  {
   "cell_type": "code",
   "execution_count": 96,
   "metadata": {},
   "outputs": [],
   "source": [
    "def summarize_graph_features(flight_network):\n",
    "    # Analyze graph features\n",
    "    number_of_nodes, number_of_edges, degree_histogram, hubs, is_sparse = analyze_graph_features(flight_network)\n",
    "\n",
    "    # Create a textual summary\n",
    "    density_description = \"dense\" if not is_sparse else \"sparse\"\n",
    "    summary_table = f\"\"\"\n",
    "| Metric                  | Value                      |\n",
    "|-------------------------|----------------------------|\n",
    "| **Number of Airports**      | {number_of_nodes}          |\n",
    "| **Number of Flights**       | {number_of_edges}          |\n",
    "| **Graph Density**           | {'{:.4f}'.format((2 * number_of_edges) / (number_of_nodes * (number_of_nodes - 1)))}|\n",
    "| **Graph Classification**    | {density_description.capitalize()} |\n",
    "\"\"\"\n",
    "\n",
    "    row_labels = \"| Hubs (Airports)          | \" + \" | \".join([hub[0] for hub in hubs]) + \" |\\n\"\n",
    "    separator_row = \"|-----------------| \" + \" | \".join([\"---\"] * len(hubs)) + \" |\\n\"\n",
    "    # Create the degree row\n",
    "    degree_row = \"| **Degrees**          | \" + \" | \".join([str(hub[1]) for hub in hubs]) + \" |\\n\"\n",
    "\n",
    "    # Combine rows into the Markdown table\n",
    "    hubs_table = row_labels + separator_row + degree_row\n",
    "\n",
    "    display(Markdown(\"## **Graph Features Summary**\"))\n",
    "\n",
    "    # Display summary\n",
    "    display(Markdown(summary_table))\n",
    "\n",
    "    display(Markdown(\"### **Identified Hubs**\"))\n",
    "    # Display the hubs table\n",
    "    display(Markdown(hubs_table))\n",
    "\n",
    "    # Display the degree distribution histogram\n",
    "    display(Markdown(\"### **Degree Distribution**\"))\n",
    "    degree_histogram.show()\n",
    "\n"
   ]
  },
  {
   "cell_type": "markdown",
   "metadata": {},
   "source": [
    "3. Now let's dive deeper into the analysis of the dataset. Do the following:\n",
    "    \n",
    "    - Compute total passenger flow between origin and destination cities.\n",
    "\n",
    "    - Identify and visualize the busiest routes by passenger traffic.\n",
    "\n",
    "    - Calculate the average passengers per flight for each route and highlight under/over-utilized connections.\n",
    "\n",
    "    - Create an interactive map visualizing the geographic spread of the flight network."
   ]
  },
  {
   "cell_type": "code",
   "execution_count": 104,
   "metadata": {},
   "outputs": [
    {
     "data": {
      "application/vnd.plotly.v1+json": {
       "config": {
        "plotlyServerURL": "https://plot.ly"
       },
       "data": [
        {
         "alignmentgroup": "True",
         "hovertemplate": "Route=%{x}<br>Total Number of Passengers=%{marker.color}<extra></extra>",
         "legendgroup": "",
         "marker": {
          "color": [
           32364612,
           29744742,
           28964154,
           28632161,
           26333721,
           26177809,
           25661782,
           25458207,
           23483751,
           22979359
          ],
          "coloraxis": "coloraxis",
          "pattern": {
           "shape": ""
          }
         },
         "name": "",
         "offsetgroup": "",
         "orientation": "v",
         "showlegend": false,
         "textposition": "auto",
         "type": "bar",
         "x": [
          "OGG -> HNL",
          "HNL -> OGG",
          "LAX -> HNL",
          "HNL -> LAX",
          "LAS -> LAX",
          "LAX -> LAS",
          "LAX -> SFO",
          "SFO -> LAX",
          "ATL -> MCO",
          "ORD -> LAX"
         ],
         "xaxis": "x",
         "y": [
          32364612,
          29744742,
          28964154,
          28632161,
          26333721,
          26177809,
          25661782,
          25458207,
          23483751,
          22979359
         ],
         "yaxis": "y"
        }
       ],
       "layout": {
        "barmode": "group",
        "coloraxis": {
         "colorbar": {
          "title": {
           "text": "Total Number of Passengers"
          }
         },
         "colorscale": [
          [
           0,
           "#0d0887"
          ],
          [
           0.1111111111111111,
           "#46039f"
          ],
          [
           0.2222222222222222,
           "#7201a8"
          ],
          [
           0.3333333333333333,
           "#9c179e"
          ],
          [
           0.4444444444444444,
           "#bd3786"
          ],
          [
           0.5555555555555556,
           "#d8576b"
          ],
          [
           0.6666666666666666,
           "#ed7953"
          ],
          [
           0.7777777777777778,
           "#fb9f3a"
          ],
          [
           0.8888888888888888,
           "#fdca26"
          ],
          [
           1,
           "#f0f921"
          ]
         ]
        },
        "legend": {
         "tracegroupgap": 0
        },
        "template": {
         "data": {
          "bar": [
           {
            "error_x": {
             "color": "#2a3f5f"
            },
            "error_y": {
             "color": "#2a3f5f"
            },
            "marker": {
             "line": {
              "color": "#E5ECF6",
              "width": 0.5
             },
             "pattern": {
              "fillmode": "overlay",
              "size": 10,
              "solidity": 0.2
             }
            },
            "type": "bar"
           }
          ],
          "barpolar": [
           {
            "marker": {
             "line": {
              "color": "#E5ECF6",
              "width": 0.5
             },
             "pattern": {
              "fillmode": "overlay",
              "size": 10,
              "solidity": 0.2
             }
            },
            "type": "barpolar"
           }
          ],
          "carpet": [
           {
            "aaxis": {
             "endlinecolor": "#2a3f5f",
             "gridcolor": "white",
             "linecolor": "white",
             "minorgridcolor": "white",
             "startlinecolor": "#2a3f5f"
            },
            "baxis": {
             "endlinecolor": "#2a3f5f",
             "gridcolor": "white",
             "linecolor": "white",
             "minorgridcolor": "white",
             "startlinecolor": "#2a3f5f"
            },
            "type": "carpet"
           }
          ],
          "choropleth": [
           {
            "colorbar": {
             "outlinewidth": 0,
             "ticks": ""
            },
            "type": "choropleth"
           }
          ],
          "contour": [
           {
            "colorbar": {
             "outlinewidth": 0,
             "ticks": ""
            },
            "colorscale": [
             [
              0,
              "#0d0887"
             ],
             [
              0.1111111111111111,
              "#46039f"
             ],
             [
              0.2222222222222222,
              "#7201a8"
             ],
             [
              0.3333333333333333,
              "#9c179e"
             ],
             [
              0.4444444444444444,
              "#bd3786"
             ],
             [
              0.5555555555555556,
              "#d8576b"
             ],
             [
              0.6666666666666666,
              "#ed7953"
             ],
             [
              0.7777777777777778,
              "#fb9f3a"
             ],
             [
              0.8888888888888888,
              "#fdca26"
             ],
             [
              1,
              "#f0f921"
             ]
            ],
            "type": "contour"
           }
          ],
          "contourcarpet": [
           {
            "colorbar": {
             "outlinewidth": 0,
             "ticks": ""
            },
            "type": "contourcarpet"
           }
          ],
          "heatmap": [
           {
            "colorbar": {
             "outlinewidth": 0,
             "ticks": ""
            },
            "colorscale": [
             [
              0,
              "#0d0887"
             ],
             [
              0.1111111111111111,
              "#46039f"
             ],
             [
              0.2222222222222222,
              "#7201a8"
             ],
             [
              0.3333333333333333,
              "#9c179e"
             ],
             [
              0.4444444444444444,
              "#bd3786"
             ],
             [
              0.5555555555555556,
              "#d8576b"
             ],
             [
              0.6666666666666666,
              "#ed7953"
             ],
             [
              0.7777777777777778,
              "#fb9f3a"
             ],
             [
              0.8888888888888888,
              "#fdca26"
             ],
             [
              1,
              "#f0f921"
             ]
            ],
            "type": "heatmap"
           }
          ],
          "heatmapgl": [
           {
            "colorbar": {
             "outlinewidth": 0,
             "ticks": ""
            },
            "colorscale": [
             [
              0,
              "#0d0887"
             ],
             [
              0.1111111111111111,
              "#46039f"
             ],
             [
              0.2222222222222222,
              "#7201a8"
             ],
             [
              0.3333333333333333,
              "#9c179e"
             ],
             [
              0.4444444444444444,
              "#bd3786"
             ],
             [
              0.5555555555555556,
              "#d8576b"
             ],
             [
              0.6666666666666666,
              "#ed7953"
             ],
             [
              0.7777777777777778,
              "#fb9f3a"
             ],
             [
              0.8888888888888888,
              "#fdca26"
             ],
             [
              1,
              "#f0f921"
             ]
            ],
            "type": "heatmapgl"
           }
          ],
          "histogram": [
           {
            "marker": {
             "pattern": {
              "fillmode": "overlay",
              "size": 10,
              "solidity": 0.2
             }
            },
            "type": "histogram"
           }
          ],
          "histogram2d": [
           {
            "colorbar": {
             "outlinewidth": 0,
             "ticks": ""
            },
            "colorscale": [
             [
              0,
              "#0d0887"
             ],
             [
              0.1111111111111111,
              "#46039f"
             ],
             [
              0.2222222222222222,
              "#7201a8"
             ],
             [
              0.3333333333333333,
              "#9c179e"
             ],
             [
              0.4444444444444444,
              "#bd3786"
             ],
             [
              0.5555555555555556,
              "#d8576b"
             ],
             [
              0.6666666666666666,
              "#ed7953"
             ],
             [
              0.7777777777777778,
              "#fb9f3a"
             ],
             [
              0.8888888888888888,
              "#fdca26"
             ],
             [
              1,
              "#f0f921"
             ]
            ],
            "type": "histogram2d"
           }
          ],
          "histogram2dcontour": [
           {
            "colorbar": {
             "outlinewidth": 0,
             "ticks": ""
            },
            "colorscale": [
             [
              0,
              "#0d0887"
             ],
             [
              0.1111111111111111,
              "#46039f"
             ],
             [
              0.2222222222222222,
              "#7201a8"
             ],
             [
              0.3333333333333333,
              "#9c179e"
             ],
             [
              0.4444444444444444,
              "#bd3786"
             ],
             [
              0.5555555555555556,
              "#d8576b"
             ],
             [
              0.6666666666666666,
              "#ed7953"
             ],
             [
              0.7777777777777778,
              "#fb9f3a"
             ],
             [
              0.8888888888888888,
              "#fdca26"
             ],
             [
              1,
              "#f0f921"
             ]
            ],
            "type": "histogram2dcontour"
           }
          ],
          "mesh3d": [
           {
            "colorbar": {
             "outlinewidth": 0,
             "ticks": ""
            },
            "type": "mesh3d"
           }
          ],
          "parcoords": [
           {
            "line": {
             "colorbar": {
              "outlinewidth": 0,
              "ticks": ""
             }
            },
            "type": "parcoords"
           }
          ],
          "pie": [
           {
            "automargin": true,
            "type": "pie"
           }
          ],
          "scatter": [
           {
            "fillpattern": {
             "fillmode": "overlay",
             "size": 10,
             "solidity": 0.2
            },
            "type": "scatter"
           }
          ],
          "scatter3d": [
           {
            "line": {
             "colorbar": {
              "outlinewidth": 0,
              "ticks": ""
             }
            },
            "marker": {
             "colorbar": {
              "outlinewidth": 0,
              "ticks": ""
             }
            },
            "type": "scatter3d"
           }
          ],
          "scattercarpet": [
           {
            "marker": {
             "colorbar": {
              "outlinewidth": 0,
              "ticks": ""
             }
            },
            "type": "scattercarpet"
           }
          ],
          "scattergeo": [
           {
            "marker": {
             "colorbar": {
              "outlinewidth": 0,
              "ticks": ""
             }
            },
            "type": "scattergeo"
           }
          ],
          "scattergl": [
           {
            "marker": {
             "colorbar": {
              "outlinewidth": 0,
              "ticks": ""
             }
            },
            "type": "scattergl"
           }
          ],
          "scattermapbox": [
           {
            "marker": {
             "colorbar": {
              "outlinewidth": 0,
              "ticks": ""
             }
            },
            "type": "scattermapbox"
           }
          ],
          "scatterpolar": [
           {
            "marker": {
             "colorbar": {
              "outlinewidth": 0,
              "ticks": ""
             }
            },
            "type": "scatterpolar"
           }
          ],
          "scatterpolargl": [
           {
            "marker": {
             "colorbar": {
              "outlinewidth": 0,
              "ticks": ""
             }
            },
            "type": "scatterpolargl"
           }
          ],
          "scatterternary": [
           {
            "marker": {
             "colorbar": {
              "outlinewidth": 0,
              "ticks": ""
             }
            },
            "type": "scatterternary"
           }
          ],
          "surface": [
           {
            "colorbar": {
             "outlinewidth": 0,
             "ticks": ""
            },
            "colorscale": [
             [
              0,
              "#0d0887"
             ],
             [
              0.1111111111111111,
              "#46039f"
             ],
             [
              0.2222222222222222,
              "#7201a8"
             ],
             [
              0.3333333333333333,
              "#9c179e"
             ],
             [
              0.4444444444444444,
              "#bd3786"
             ],
             [
              0.5555555555555556,
              "#d8576b"
             ],
             [
              0.6666666666666666,
              "#ed7953"
             ],
             [
              0.7777777777777778,
              "#fb9f3a"
             ],
             [
              0.8888888888888888,
              "#fdca26"
             ],
             [
              1,
              "#f0f921"
             ]
            ],
            "type": "surface"
           }
          ],
          "table": [
           {
            "cells": {
             "fill": {
              "color": "#EBF0F8"
             },
             "line": {
              "color": "white"
             }
            },
            "header": {
             "fill": {
              "color": "#C8D4E3"
             },
             "line": {
              "color": "white"
             }
            },
            "type": "table"
           }
          ]
         },
         "layout": {
          "annotationdefaults": {
           "arrowcolor": "#2a3f5f",
           "arrowhead": 0,
           "arrowwidth": 1
          },
          "autotypenumbers": "strict",
          "coloraxis": {
           "colorbar": {
            "outlinewidth": 0,
            "ticks": ""
           }
          },
          "colorscale": {
           "diverging": [
            [
             0,
             "#8e0152"
            ],
            [
             0.1,
             "#c51b7d"
            ],
            [
             0.2,
             "#de77ae"
            ],
            [
             0.3,
             "#f1b6da"
            ],
            [
             0.4,
             "#fde0ef"
            ],
            [
             0.5,
             "#f7f7f7"
            ],
            [
             0.6,
             "#e6f5d0"
            ],
            [
             0.7,
             "#b8e186"
            ],
            [
             0.8,
             "#7fbc41"
            ],
            [
             0.9,
             "#4d9221"
            ],
            [
             1,
             "#276419"
            ]
           ],
           "sequential": [
            [
             0,
             "#0d0887"
            ],
            [
             0.1111111111111111,
             "#46039f"
            ],
            [
             0.2222222222222222,
             "#7201a8"
            ],
            [
             0.3333333333333333,
             "#9c179e"
            ],
            [
             0.4444444444444444,
             "#bd3786"
            ],
            [
             0.5555555555555556,
             "#d8576b"
            ],
            [
             0.6666666666666666,
             "#ed7953"
            ],
            [
             0.7777777777777778,
             "#fb9f3a"
            ],
            [
             0.8888888888888888,
             "#fdca26"
            ],
            [
             1,
             "#f0f921"
            ]
           ],
           "sequentialminus": [
            [
             0,
             "#0d0887"
            ],
            [
             0.1111111111111111,
             "#46039f"
            ],
            [
             0.2222222222222222,
             "#7201a8"
            ],
            [
             0.3333333333333333,
             "#9c179e"
            ],
            [
             0.4444444444444444,
             "#bd3786"
            ],
            [
             0.5555555555555556,
             "#d8576b"
            ],
            [
             0.6666666666666666,
             "#ed7953"
            ],
            [
             0.7777777777777778,
             "#fb9f3a"
            ],
            [
             0.8888888888888888,
             "#fdca26"
            ],
            [
             1,
             "#f0f921"
            ]
           ]
          },
          "colorway": [
           "#636efa",
           "#EF553B",
           "#00cc96",
           "#ab63fa",
           "#FFA15A",
           "#19d3f3",
           "#FF6692",
           "#B6E880",
           "#FF97FF",
           "#FECB52"
          ],
          "font": {
           "color": "#2a3f5f"
          },
          "geo": {
           "bgcolor": "white",
           "lakecolor": "white",
           "landcolor": "#E5ECF6",
           "showlakes": true,
           "showland": true,
           "subunitcolor": "white"
          },
          "hoverlabel": {
           "align": "left"
          },
          "hovermode": "closest",
          "mapbox": {
           "style": "light"
          },
          "paper_bgcolor": "white",
          "plot_bgcolor": "#E5ECF6",
          "polar": {
           "angularaxis": {
            "gridcolor": "white",
            "linecolor": "white",
            "ticks": ""
           },
           "bgcolor": "#E5ECF6",
           "radialaxis": {
            "gridcolor": "white",
            "linecolor": "white",
            "ticks": ""
           }
          },
          "scene": {
           "xaxis": {
            "backgroundcolor": "#E5ECF6",
            "gridcolor": "white",
            "gridwidth": 2,
            "linecolor": "white",
            "showbackground": true,
            "ticks": "",
            "zerolinecolor": "white"
           },
           "yaxis": {
            "backgroundcolor": "#E5ECF6",
            "gridcolor": "white",
            "gridwidth": 2,
            "linecolor": "white",
            "showbackground": true,
            "ticks": "",
            "zerolinecolor": "white"
           },
           "zaxis": {
            "backgroundcolor": "#E5ECF6",
            "gridcolor": "white",
            "gridwidth": 2,
            "linecolor": "white",
            "showbackground": true,
            "ticks": "",
            "zerolinecolor": "white"
           }
          },
          "shapedefaults": {
           "line": {
            "color": "#2a3f5f"
           }
          },
          "ternary": {
           "aaxis": {
            "gridcolor": "white",
            "linecolor": "white",
            "ticks": ""
           },
           "baxis": {
            "gridcolor": "white",
            "linecolor": "white",
            "ticks": ""
           },
           "bgcolor": "#E5ECF6",
           "caxis": {
            "gridcolor": "white",
            "linecolor": "white",
            "ticks": ""
           }
          },
          "title": {
           "x": 0.05
          },
          "xaxis": {
           "automargin": true,
           "gridcolor": "white",
           "linecolor": "white",
           "ticks": "",
           "title": {
            "standoff": 15
           },
           "zerolinecolor": "white",
           "zerolinewidth": 2
          },
          "yaxis": {
           "automargin": true,
           "gridcolor": "white",
           "linecolor": "white",
           "ticks": "",
           "title": {
            "standoff": 15
           },
           "zerolinecolor": "white",
           "zerolinewidth": 2
          }
         }
        },
        "title": {
         "text": "Busiest Routes"
        },
        "xaxis": {
         "anchor": "y",
         "domain": [
          0,
          1
         ],
         "title": {
          "text": "Route"
         }
        },
        "yaxis": {
         "anchor": "x",
         "domain": [
          0,
          1
         ],
         "title": {
          "text": "Total Number of Passengers"
         }
        }
       }
      }
     },
     "metadata": {},
     "output_type": "display_data"
    }
   ],
   "source": [
    "df_sorted_passengers, fig, df_most_traffic, df_least_traffic = functions.analysis_traffic_passengers(df) \n",
    "fig.show()\n"
   ]
  },
  {
   "cell_type": "markdown",
   "metadata": {},
   "source": []
  },
  {
   "cell_type": "code",
   "execution_count": 131,
   "metadata": {},
   "outputs": [
    {
     "name": "stdout",
     "output_type": "stream",
     "text": [
      "Saved map as 'flight_network_map.html'.\n"
     ]
    }
   ],
   "source": [
    "functions.create_interactive_map(df)"
   ]
  },
  {
   "cell_type": "markdown",
   "metadata": {},
   "source": []
  },
  {
   "cell_type": "markdown",
   "metadata": {},
   "source": [
    "> Once you have created and tested the previous functions, the results should be presented in a tidy way. Your summary report should contain:\n",
    "\n",
    "- The number of nodes and edges.\n",
    "\n",
    "-    The graph density.\n",
    "\n",
    "-    Degree distribution plots for in-degree and out-degree.\n",
    "\n",
    "-    A table of identified hubs.\n",
    "\n",
    "-    Top routes by passenger flow (table and bar chart).\n",
    "\n",
    "-    Top routes by passenger efficiency (table and bar chart).\n",
    "\n",
    "-    An interactive map showing flight routes.\n"
   ]
  },
  {
   "cell_type": "code",
   "execution_count": null,
   "metadata": {},
   "outputs": [
    {
     "data": {
      "text/markdown": [
       "## **Graph Features Summary**"
      ],
      "text/plain": [
       "<IPython.core.display.Markdown object>"
      ]
     },
     "metadata": {},
     "output_type": "display_data"
    },
    {
     "data": {
      "text/markdown": [
       "\n",
       "| Metric                  | Value                      |\n",
       "|-------------------------|----------------------------|\n",
       "| **Number of Airports (Nodes)**      | 483          |\n",
       "| **Number of Flights (Edges)**       | 34775          |\n",
       "| **Graph Density**           | 0.2987|\n",
       "| **Graph Classification**    | Sparse |\n"
      ],
      "text/plain": [
       "<IPython.core.display.Markdown object>"
      ]
     },
     "metadata": {},
     "output_type": "display_data"
    },
    {
     "data": {
      "text/markdown": [
       "### **Identified Hubs**"
      ],
      "text/plain": [
       "<IPython.core.display.Markdown object>"
      ]
     },
     "metadata": {},
     "output_type": "display_data"
    },
    {
     "data": {
      "text/markdown": [
       "| Hubs (Airports)          | SEA | SFO | LAX | FLL | PHX | TUS | DFW | SLC | LAS | ICT | OKC | IAH | ELP | TUL | OMA | RFD | MKE | LIT | SHV | MCI | SAT | MSP | ORD | STL | BNA | MEM | IND | CLE | DTW | DAY | CVG | CMH | PIT | BOS | ATL | MDW | PHL | EWR | CLT | JFK | YIP | MCO | IAD | MSY | RDU | BWI | TYS | MIA | DAL |\n",
       "|-----------------| --- | --- | --- | --- | --- | --- | --- | --- | --- | --- | --- | --- | --- | --- | --- | --- | --- | --- | --- | --- | --- | --- | --- | --- | --- | --- | --- | --- | --- | --- | --- | --- | --- | --- | --- | --- | --- | --- | --- | --- | --- | --- | --- | --- | --- | --- | --- | --- | --- |\n",
       "| **Degrees**          | 392 | 368 | 437 | 376 | 476 | 417 | 496 | 459 | 463 | 386 | 455 | 439 | 391 | 367 | 383 | 383 | 453 | 404 | 403 | 498 | 384 | 568 | 514 | 501 | 430 | 525 | 498 | 429 | 457 | 375 | 438 | 397 | 435 | 387 | 511 | 408 | 423 | 424 | 412 | 406 | 543 | 411 | 469 | 387 | 409 | 441 | 384 | 481 | 384 |\n"
      ],
      "text/plain": [
       "<IPython.core.display.Markdown object>"
      ]
     },
     "metadata": {},
     "output_type": "display_data"
    },
    {
     "data": {
      "text/markdown": [
       "### **Degree Distribution**"
      ],
      "text/plain": [
       "<IPython.core.display.Markdown object>"
      ]
     },
     "metadata": {},
     "output_type": "display_data"
    },
    {
     "data": {
      "application/vnd.plotly.v1+json": {
       "config": {
        "plotlyServerURL": "https://plot.ly"
       },
       "data": [
        {
         "marker": {
          "color": "steelblue"
         },
         "name": "In-degree",
         "nbinsx": 20,
         "type": "histogram",
         "x": [
          77,
          52,
          51,
          180,
          155,
          21,
          162,
          202,
          18,
          68,
          149,
          16,
          126,
          49,
          55,
          3,
          11,
          15,
          144,
          23,
          47,
          116,
          176,
          221,
          135,
          106,
          88,
          111,
          206,
          55,
          108,
          238,
          217,
          79,
          154,
          13,
          107,
          77,
          11,
          23,
          175,
          105,
          222,
          185,
          74,
          111,
          12,
          227,
          140,
          17,
          33,
          170,
          207,
          184,
          40,
          54,
          180,
          182,
          146,
          20,
          173,
          162,
          79,
          121,
          102,
          174,
          128,
          45,
          122,
          114,
          18,
          30,
          134,
          43,
          74,
          89,
          18,
          127,
          28,
          80,
          162,
          149,
          84,
          203,
          118,
          103,
          49,
          218,
          36,
          14,
          167,
          61,
          19,
          126,
          204,
          217,
          245,
          102,
          50,
          185,
          281,
          148,
          79,
          148,
          51,
          148,
          57,
          59,
          32,
          137,
          67,
          103,
          62,
          108,
          31,
          236,
          65,
          21,
          82,
          64,
          41,
          108,
          128,
          123,
          246,
          214,
          131,
          260,
          132,
          21,
          115,
          41,
          248,
          113,
          74,
          163,
          140,
          45,
          202,
          133,
          221,
          122,
          179,
          201,
          40,
          193,
          156,
          159,
          97,
          158,
          18,
          98,
          68,
          90,
          24,
          78,
          168,
          10,
          87,
          60,
          13,
          53,
          119,
          22,
          41,
          207,
          85,
          45,
          39,
          45,
          166,
          244,
          197,
          195,
          143,
          129,
          175,
          189,
          133,
          188,
          184,
          155,
          140,
          149,
          263,
          114,
          145,
          130,
          162,
          177,
          114,
          192,
          103,
          73,
          138,
          38,
          224,
          127,
          183,
          105,
          87,
          126,
          190,
          164,
          83,
          102,
          142,
          125,
          159,
          91,
          98,
          157,
          160,
          169,
          19,
          95,
          91,
          28,
          53,
          205,
          145,
          46,
          191,
          155,
          67,
          120,
          68,
          86,
          9,
          99,
          124,
          30,
          124,
          119,
          51,
          67,
          121,
          19,
          90,
          67,
          224,
          135,
          79,
          41,
          129,
          44,
          45,
          161,
          85,
          9,
          10,
          13,
          45,
          90,
          15,
          22,
          6,
          82,
          10,
          45,
          5,
          2,
          202,
          63,
          119,
          19,
          103,
          121,
          93,
          14,
          119,
          23,
          52,
          134,
          68,
          144,
          109,
          108,
          28,
          108,
          104,
          22,
          135,
          9,
          7,
          22,
          89,
          16,
          80,
          12,
          59,
          10,
          27,
          67,
          74,
          17,
          52,
          97,
          42,
          44,
          83,
          40,
          43,
          19,
          27,
          72,
          136,
          117,
          27,
          14,
          2,
          6,
          56,
          24,
          6,
          22,
          59,
          17,
          22,
          7,
          75,
          42,
          17,
          49,
          20,
          25,
          10,
          6,
          47,
          6,
          49,
          7,
          18,
          1,
          8,
          10,
          5,
          42,
          15,
          113,
          24,
          45,
          61,
          21,
          28,
          63,
          37,
          12,
          33,
          18,
          54,
          14,
          16,
          23,
          42,
          31,
          9,
          16,
          11,
          12,
          52,
          18,
          60,
          6,
          59,
          48,
          4,
          25,
          20,
          30,
          17,
          43,
          7,
          7,
          11,
          27,
          22,
          12,
          11,
          32,
          48,
          34,
          34,
          13,
          8,
          4,
          67,
          25,
          7,
          11,
          10,
          53,
          8,
          16,
          7,
          3,
          3,
          46,
          54,
          6,
          10,
          24,
          18,
          12,
          8,
          24,
          32,
          7,
          7,
          8,
          12,
          20,
          3,
          12,
          10,
          47,
          27,
          3,
          6,
          19,
          19,
          27,
          9,
          8,
          22,
          28,
          18,
          13,
          17,
          22,
          38,
          11,
          2,
          7,
          7,
          9,
          4,
          15,
          5,
          23,
          6,
          14,
          6,
          1,
          10,
          16,
          3,
          1,
          1,
          6,
          2,
          7,
          1,
          6,
          13,
          3,
          9,
          7,
          13,
          3,
          16,
          6,
          14,
          4,
          6,
          7,
          11,
          3,
          1,
          7,
          3,
          4,
          6,
          4,
          18,
          1,
          8,
          5,
          1,
          2,
          1,
          2,
          1
         ],
         "xaxis": "x",
         "yaxis": "y"
        },
        {
         "marker": {
          "color": "darkorange"
         },
         "name": "Out-degree",
         "nbinsx": 20,
         "type": "histogram",
         "x": [
          82,
          44,
          62,
          212,
          199,
          18,
          206,
          235,
          14,
          42,
          148,
          11,
          130,
          48,
          56,
          4,
          14,
          15,
          170,
          28,
          44,
          140,
          200,
          255,
          138,
          51,
          93,
          114,
          211,
          42,
          112,
          258,
          242,
          65,
          182,
          14,
          127,
          73,
          17,
          27,
          190,
          93,
          241,
          201,
          79,
          76,
          13,
          228,
          193,
          20,
          36,
          191,
          232,
          207,
          35,
          61,
          187,
          201,
          108,
          24,
          191,
          136,
          70,
          77,
          101,
          163,
          95,
          44,
          45,
          55,
          26,
          18,
          116,
          35,
          60,
          100,
          20,
          115,
          31,
          62,
          170,
          147,
          78,
          180,
          115,
          62,
          57,
          235,
          32,
          12,
          187,
          30,
          16,
          112,
          200,
          186,
          253,
          94,
          56,
          199,
          287,
          142,
          60,
          142,
          52,
          144,
          58,
          58,
          29,
          149,
          52,
          56,
          61,
          69,
          26,
          278,
          78,
          24,
          94,
          67,
          39,
          102,
          106,
          77,
          255,
          216,
          127,
          265,
          138,
          14,
          124,
          41,
          250,
          83,
          38,
          175,
          129,
          48,
          227,
          101,
          236,
          60,
          196,
          237,
          64,
          204,
          154,
          159,
          85,
          172,
          19,
          44,
          30,
          88,
          24,
          60,
          175,
          11,
          91,
          33,
          15,
          55,
          97,
          24,
          36,
          228,
          75,
          63,
          37,
          43,
          221,
          267,
          211,
          228,
          171,
          104,
          179,
          235,
          151,
          224,
          222,
          153,
          167,
          170,
          280,
          121,
          188,
          142,
          175,
          172,
          113,
          219,
          88,
          94,
          140,
          43,
          245,
          129,
          204,
          118,
          94,
          133,
          219,
          177,
          110,
          105,
          159,
          171,
          123,
          82,
          105,
          127,
          178,
          183,
          17,
          121,
          86,
          36,
          59,
          236,
          152,
          61,
          193,
          158,
          56,
          99,
          52,
          93,
          10,
          100,
          88,
          31,
          117,
          119,
          53,
          70,
          110,
          28,
          103,
          72,
          257,
          144,
          77,
          48,
          119,
          43,
          54,
          191,
          140,
          10,
          11,
          14,
          58,
          87,
          21,
          30,
          11,
          100,
          7,
          39,
          5,
          1,
          182,
          64,
          92,
          23,
          60,
          130,
          106,
          13,
          147,
          17,
          54,
          97,
          28,
          173,
          126,
          128,
          21,
          57,
          80,
          16,
          82,
          9,
          10,
          19,
          88,
          12,
          74,
          12,
          61,
          8,
          23,
          58,
          71,
          18,
          51,
          95,
          44,
          31,
          76,
          39,
          43,
          17,
          32,
          60,
          88,
          101,
          25,
          19,
          2,
          7,
          44,
          22,
          7,
          23,
          52,
          13,
          26,
          6,
          51,
          38,
          12,
          42,
          28,
          47,
          9,
          6,
          32,
          8,
          57,
          8,
          9,
          5,
          11,
          10,
          7,
          37,
          13,
          43,
          25,
          42,
          45,
          37,
          37,
          62,
          44,
          10,
          35,
          22,
          48,
          12,
          20,
          27,
          37,
          30,
          11,
          19,
          10,
          6,
          44,
          20,
          61,
          8,
          44,
          49,
          3,
          25,
          19,
          30,
          19,
          36,
          9,
          8,
          11,
          25,
          26,
          10,
          16,
          30,
          49,
          27,
          26,
          17,
          8,
          5,
          61,
          23,
          11,
          11,
          14,
          34,
          14,
          13,
          4,
          3,
          2,
          28,
          61,
          3,
          10,
          26,
          17,
          17,
          7,
          18,
          42,
          7,
          8,
          7,
          15,
          14,
          2,
          12,
          14,
          25,
          33,
          1,
          5,
          18,
          18,
          30,
          13,
          11,
          14,
          8,
          14,
          13,
          18,
          9,
          23,
          8,
          0,
          10,
          6,
          8,
          5,
          14,
          9,
          20,
          9,
          11,
          4,
          1,
          9,
          13,
          3,
          0,
          1,
          7,
          2,
          8,
          1,
          6,
          15,
          0,
          6,
          4,
          15,
          2,
          10,
          15,
          10,
          3,
          6,
          7,
          7,
          2,
          0,
          6,
          2,
          3,
          3,
          4,
          13,
          1,
          6,
          4,
          1,
          1,
          0,
          1,
          0
         ],
         "xaxis": "x2",
         "yaxis": "y2"
        }
       ],
       "layout": {
        "annotations": [
         {
          "font": {
           "size": 16
          },
          "showarrow": false,
          "text": "In-degree Histogram",
          "x": 0.225,
          "xanchor": "center",
          "xref": "paper",
          "y": 1,
          "yanchor": "bottom",
          "yref": "paper"
         },
         {
          "font": {
           "size": 16
          },
          "showarrow": false,
          "text": "Out-degree Histogram",
          "x": 0.775,
          "xanchor": "center",
          "xref": "paper",
          "y": 1,
          "yanchor": "bottom",
          "yref": "paper"
         }
        ],
        "height": 500,
        "showlegend": true,
        "template": {
         "data": {
          "bar": [
           {
            "error_x": {
             "color": "#2a3f5f"
            },
            "error_y": {
             "color": "#2a3f5f"
            },
            "marker": {
             "line": {
              "color": "#E5ECF6",
              "width": 0.5
             },
             "pattern": {
              "fillmode": "overlay",
              "size": 10,
              "solidity": 0.2
             }
            },
            "type": "bar"
           }
          ],
          "barpolar": [
           {
            "marker": {
             "line": {
              "color": "#E5ECF6",
              "width": 0.5
             },
             "pattern": {
              "fillmode": "overlay",
              "size": 10,
              "solidity": 0.2
             }
            },
            "type": "barpolar"
           }
          ],
          "carpet": [
           {
            "aaxis": {
             "endlinecolor": "#2a3f5f",
             "gridcolor": "white",
             "linecolor": "white",
             "minorgridcolor": "white",
             "startlinecolor": "#2a3f5f"
            },
            "baxis": {
             "endlinecolor": "#2a3f5f",
             "gridcolor": "white",
             "linecolor": "white",
             "minorgridcolor": "white",
             "startlinecolor": "#2a3f5f"
            },
            "type": "carpet"
           }
          ],
          "choropleth": [
           {
            "colorbar": {
             "outlinewidth": 0,
             "ticks": ""
            },
            "type": "choropleth"
           }
          ],
          "contour": [
           {
            "colorbar": {
             "outlinewidth": 0,
             "ticks": ""
            },
            "colorscale": [
             [
              0,
              "#0d0887"
             ],
             [
              0.1111111111111111,
              "#46039f"
             ],
             [
              0.2222222222222222,
              "#7201a8"
             ],
             [
              0.3333333333333333,
              "#9c179e"
             ],
             [
              0.4444444444444444,
              "#bd3786"
             ],
             [
              0.5555555555555556,
              "#d8576b"
             ],
             [
              0.6666666666666666,
              "#ed7953"
             ],
             [
              0.7777777777777778,
              "#fb9f3a"
             ],
             [
              0.8888888888888888,
              "#fdca26"
             ],
             [
              1,
              "#f0f921"
             ]
            ],
            "type": "contour"
           }
          ],
          "contourcarpet": [
           {
            "colorbar": {
             "outlinewidth": 0,
             "ticks": ""
            },
            "type": "contourcarpet"
           }
          ],
          "heatmap": [
           {
            "colorbar": {
             "outlinewidth": 0,
             "ticks": ""
            },
            "colorscale": [
             [
              0,
              "#0d0887"
             ],
             [
              0.1111111111111111,
              "#46039f"
             ],
             [
              0.2222222222222222,
              "#7201a8"
             ],
             [
              0.3333333333333333,
              "#9c179e"
             ],
             [
              0.4444444444444444,
              "#bd3786"
             ],
             [
              0.5555555555555556,
              "#d8576b"
             ],
             [
              0.6666666666666666,
              "#ed7953"
             ],
             [
              0.7777777777777778,
              "#fb9f3a"
             ],
             [
              0.8888888888888888,
              "#fdca26"
             ],
             [
              1,
              "#f0f921"
             ]
            ],
            "type": "heatmap"
           }
          ],
          "heatmapgl": [
           {
            "colorbar": {
             "outlinewidth": 0,
             "ticks": ""
            },
            "colorscale": [
             [
              0,
              "#0d0887"
             ],
             [
              0.1111111111111111,
              "#46039f"
             ],
             [
              0.2222222222222222,
              "#7201a8"
             ],
             [
              0.3333333333333333,
              "#9c179e"
             ],
             [
              0.4444444444444444,
              "#bd3786"
             ],
             [
              0.5555555555555556,
              "#d8576b"
             ],
             [
              0.6666666666666666,
              "#ed7953"
             ],
             [
              0.7777777777777778,
              "#fb9f3a"
             ],
             [
              0.8888888888888888,
              "#fdca26"
             ],
             [
              1,
              "#f0f921"
             ]
            ],
            "type": "heatmapgl"
           }
          ],
          "histogram": [
           {
            "marker": {
             "pattern": {
              "fillmode": "overlay",
              "size": 10,
              "solidity": 0.2
             }
            },
            "type": "histogram"
           }
          ],
          "histogram2d": [
           {
            "colorbar": {
             "outlinewidth": 0,
             "ticks": ""
            },
            "colorscale": [
             [
              0,
              "#0d0887"
             ],
             [
              0.1111111111111111,
              "#46039f"
             ],
             [
              0.2222222222222222,
              "#7201a8"
             ],
             [
              0.3333333333333333,
              "#9c179e"
             ],
             [
              0.4444444444444444,
              "#bd3786"
             ],
             [
              0.5555555555555556,
              "#d8576b"
             ],
             [
              0.6666666666666666,
              "#ed7953"
             ],
             [
              0.7777777777777778,
              "#fb9f3a"
             ],
             [
              0.8888888888888888,
              "#fdca26"
             ],
             [
              1,
              "#f0f921"
             ]
            ],
            "type": "histogram2d"
           }
          ],
          "histogram2dcontour": [
           {
            "colorbar": {
             "outlinewidth": 0,
             "ticks": ""
            },
            "colorscale": [
             [
              0,
              "#0d0887"
             ],
             [
              0.1111111111111111,
              "#46039f"
             ],
             [
              0.2222222222222222,
              "#7201a8"
             ],
             [
              0.3333333333333333,
              "#9c179e"
             ],
             [
              0.4444444444444444,
              "#bd3786"
             ],
             [
              0.5555555555555556,
              "#d8576b"
             ],
             [
              0.6666666666666666,
              "#ed7953"
             ],
             [
              0.7777777777777778,
              "#fb9f3a"
             ],
             [
              0.8888888888888888,
              "#fdca26"
             ],
             [
              1,
              "#f0f921"
             ]
            ],
            "type": "histogram2dcontour"
           }
          ],
          "mesh3d": [
           {
            "colorbar": {
             "outlinewidth": 0,
             "ticks": ""
            },
            "type": "mesh3d"
           }
          ],
          "parcoords": [
           {
            "line": {
             "colorbar": {
              "outlinewidth": 0,
              "ticks": ""
             }
            },
            "type": "parcoords"
           }
          ],
          "pie": [
           {
            "automargin": true,
            "type": "pie"
           }
          ],
          "scatter": [
           {
            "fillpattern": {
             "fillmode": "overlay",
             "size": 10,
             "solidity": 0.2
            },
            "type": "scatter"
           }
          ],
          "scatter3d": [
           {
            "line": {
             "colorbar": {
              "outlinewidth": 0,
              "ticks": ""
             }
            },
            "marker": {
             "colorbar": {
              "outlinewidth": 0,
              "ticks": ""
             }
            },
            "type": "scatter3d"
           }
          ],
          "scattercarpet": [
           {
            "marker": {
             "colorbar": {
              "outlinewidth": 0,
              "ticks": ""
             }
            },
            "type": "scattercarpet"
           }
          ],
          "scattergeo": [
           {
            "marker": {
             "colorbar": {
              "outlinewidth": 0,
              "ticks": ""
             }
            },
            "type": "scattergeo"
           }
          ],
          "scattergl": [
           {
            "marker": {
             "colorbar": {
              "outlinewidth": 0,
              "ticks": ""
             }
            },
            "type": "scattergl"
           }
          ],
          "scattermapbox": [
           {
            "marker": {
             "colorbar": {
              "outlinewidth": 0,
              "ticks": ""
             }
            },
            "type": "scattermapbox"
           }
          ],
          "scatterpolar": [
           {
            "marker": {
             "colorbar": {
              "outlinewidth": 0,
              "ticks": ""
             }
            },
            "type": "scatterpolar"
           }
          ],
          "scatterpolargl": [
           {
            "marker": {
             "colorbar": {
              "outlinewidth": 0,
              "ticks": ""
             }
            },
            "type": "scatterpolargl"
           }
          ],
          "scatterternary": [
           {
            "marker": {
             "colorbar": {
              "outlinewidth": 0,
              "ticks": ""
             }
            },
            "type": "scatterternary"
           }
          ],
          "surface": [
           {
            "colorbar": {
             "outlinewidth": 0,
             "ticks": ""
            },
            "colorscale": [
             [
              0,
              "#0d0887"
             ],
             [
              0.1111111111111111,
              "#46039f"
             ],
             [
              0.2222222222222222,
              "#7201a8"
             ],
             [
              0.3333333333333333,
              "#9c179e"
             ],
             [
              0.4444444444444444,
              "#bd3786"
             ],
             [
              0.5555555555555556,
              "#d8576b"
             ],
             [
              0.6666666666666666,
              "#ed7953"
             ],
             [
              0.7777777777777778,
              "#fb9f3a"
             ],
             [
              0.8888888888888888,
              "#fdca26"
             ],
             [
              1,
              "#f0f921"
             ]
            ],
            "type": "surface"
           }
          ],
          "table": [
           {
            "cells": {
             "fill": {
              "color": "#EBF0F8"
             },
             "line": {
              "color": "white"
             }
            },
            "header": {
             "fill": {
              "color": "#C8D4E3"
             },
             "line": {
              "color": "white"
             }
            },
            "type": "table"
           }
          ]
         },
         "layout": {
          "annotationdefaults": {
           "arrowcolor": "#2a3f5f",
           "arrowhead": 0,
           "arrowwidth": 1
          },
          "autotypenumbers": "strict",
          "coloraxis": {
           "colorbar": {
            "outlinewidth": 0,
            "ticks": ""
           }
          },
          "colorscale": {
           "diverging": [
            [
             0,
             "#8e0152"
            ],
            [
             0.1,
             "#c51b7d"
            ],
            [
             0.2,
             "#de77ae"
            ],
            [
             0.3,
             "#f1b6da"
            ],
            [
             0.4,
             "#fde0ef"
            ],
            [
             0.5,
             "#f7f7f7"
            ],
            [
             0.6,
             "#e6f5d0"
            ],
            [
             0.7,
             "#b8e186"
            ],
            [
             0.8,
             "#7fbc41"
            ],
            [
             0.9,
             "#4d9221"
            ],
            [
             1,
             "#276419"
            ]
           ],
           "sequential": [
            [
             0,
             "#0d0887"
            ],
            [
             0.1111111111111111,
             "#46039f"
            ],
            [
             0.2222222222222222,
             "#7201a8"
            ],
            [
             0.3333333333333333,
             "#9c179e"
            ],
            [
             0.4444444444444444,
             "#bd3786"
            ],
            [
             0.5555555555555556,
             "#d8576b"
            ],
            [
             0.6666666666666666,
             "#ed7953"
            ],
            [
             0.7777777777777778,
             "#fb9f3a"
            ],
            [
             0.8888888888888888,
             "#fdca26"
            ],
            [
             1,
             "#f0f921"
            ]
           ],
           "sequentialminus": [
            [
             0,
             "#0d0887"
            ],
            [
             0.1111111111111111,
             "#46039f"
            ],
            [
             0.2222222222222222,
             "#7201a8"
            ],
            [
             0.3333333333333333,
             "#9c179e"
            ],
            [
             0.4444444444444444,
             "#bd3786"
            ],
            [
             0.5555555555555556,
             "#d8576b"
            ],
            [
             0.6666666666666666,
             "#ed7953"
            ],
            [
             0.7777777777777778,
             "#fb9f3a"
            ],
            [
             0.8888888888888888,
             "#fdca26"
            ],
            [
             1,
             "#f0f921"
            ]
           ]
          },
          "colorway": [
           "#636efa",
           "#EF553B",
           "#00cc96",
           "#ab63fa",
           "#FFA15A",
           "#19d3f3",
           "#FF6692",
           "#B6E880",
           "#FF97FF",
           "#FECB52"
          ],
          "font": {
           "color": "#2a3f5f"
          },
          "geo": {
           "bgcolor": "white",
           "lakecolor": "white",
           "landcolor": "#E5ECF6",
           "showlakes": true,
           "showland": true,
           "subunitcolor": "white"
          },
          "hoverlabel": {
           "align": "left"
          },
          "hovermode": "closest",
          "mapbox": {
           "style": "light"
          },
          "paper_bgcolor": "white",
          "plot_bgcolor": "#E5ECF6",
          "polar": {
           "angularaxis": {
            "gridcolor": "white",
            "linecolor": "white",
            "ticks": ""
           },
           "bgcolor": "#E5ECF6",
           "radialaxis": {
            "gridcolor": "white",
            "linecolor": "white",
            "ticks": ""
           }
          },
          "scene": {
           "xaxis": {
            "backgroundcolor": "#E5ECF6",
            "gridcolor": "white",
            "gridwidth": 2,
            "linecolor": "white",
            "showbackground": true,
            "ticks": "",
            "zerolinecolor": "white"
           },
           "yaxis": {
            "backgroundcolor": "#E5ECF6",
            "gridcolor": "white",
            "gridwidth": 2,
            "linecolor": "white",
            "showbackground": true,
            "ticks": "",
            "zerolinecolor": "white"
           },
           "zaxis": {
            "backgroundcolor": "#E5ECF6",
            "gridcolor": "white",
            "gridwidth": 2,
            "linecolor": "white",
            "showbackground": true,
            "ticks": "",
            "zerolinecolor": "white"
           }
          },
          "shapedefaults": {
           "line": {
            "color": "#2a3f5f"
           }
          },
          "ternary": {
           "aaxis": {
            "gridcolor": "white",
            "linecolor": "white",
            "ticks": ""
           },
           "baxis": {
            "gridcolor": "white",
            "linecolor": "white",
            "ticks": ""
           },
           "bgcolor": "#E5ECF6",
           "caxis": {
            "gridcolor": "white",
            "linecolor": "white",
            "ticks": ""
           }
          },
          "title": {
           "x": 0.05
          },
          "xaxis": {
           "automargin": true,
           "gridcolor": "white",
           "linecolor": "white",
           "ticks": "",
           "title": {
            "standoff": 15
           },
           "zerolinecolor": "white",
           "zerolinewidth": 2
          },
          "yaxis": {
           "automargin": true,
           "gridcolor": "white",
           "linecolor": "white",
           "ticks": "",
           "title": {
            "standoff": 15
           },
           "zerolinecolor": "white",
           "zerolinewidth": 2
          }
         }
        },
        "title": {
         "text": "In-degree vs Out-degree Histograms"
        },
        "width": 1000,
        "xaxis": {
         "anchor": "y",
         "domain": [
          0,
          0.45
         ],
         "title": {
          "text": "Degree"
         }
        },
        "xaxis2": {
         "anchor": "y2",
         "domain": [
          0.55,
          1
         ]
        },
        "yaxis": {
         "anchor": "x",
         "domain": [
          0,
          1
         ],
         "title": {
          "text": "Frequency"
         }
        },
        "yaxis2": {
         "anchor": "x2",
         "domain": [
          0,
          1
         ]
        }
       }
      }
     },
     "metadata": {},
     "output_type": "display_data"
    },
    {
     "data": {
      "text/markdown": [
       "### **Top Routes by Passenger Flow**"
      ],
      "text/plain": [
       "<IPython.core.display.Markdown object>"
      ]
     },
     "metadata": {},
     "output_type": "display_data"
    },
    {
     "data": {
      "text/html": [
       "<style type=\"text/css\">\n",
       "</style>\n",
       "<table id=\"T_ee555\">\n",
       "  <thead>\n",
       "    <tr>\n",
       "      <th id=\"T_ee555_level0_col0\" class=\"col_heading level0 col0\" >Origin_airport</th>\n",
       "      <th id=\"T_ee555_level0_col1\" class=\"col_heading level0 col1\" >Destination_airport</th>\n",
       "      <th id=\"T_ee555_level0_col2\" class=\"col_heading level0 col2\" >Total_Passengers</th>\n",
       "    </tr>\n",
       "  </thead>\n",
       "  <tbody>\n",
       "    <tr>\n",
       "      <td id=\"T_ee555_row0_col0\" class=\"data row0 col0\" >OGG</td>\n",
       "      <td id=\"T_ee555_row0_col1\" class=\"data row0 col1\" >HNL</td>\n",
       "      <td id=\"T_ee555_row0_col2\" class=\"data row0 col2\" >32364612</td>\n",
       "    </tr>\n",
       "    <tr>\n",
       "      <td id=\"T_ee555_row1_col0\" class=\"data row1 col0\" >HNL</td>\n",
       "      <td id=\"T_ee555_row1_col1\" class=\"data row1 col1\" >OGG</td>\n",
       "      <td id=\"T_ee555_row1_col2\" class=\"data row1 col2\" >29744742</td>\n",
       "    </tr>\n",
       "    <tr>\n",
       "      <td id=\"T_ee555_row2_col0\" class=\"data row2 col0\" >LAX</td>\n",
       "      <td id=\"T_ee555_row2_col1\" class=\"data row2 col1\" >HNL</td>\n",
       "      <td id=\"T_ee555_row2_col2\" class=\"data row2 col2\" >28964154</td>\n",
       "    </tr>\n",
       "    <tr>\n",
       "      <td id=\"T_ee555_row3_col0\" class=\"data row3 col0\" >HNL</td>\n",
       "      <td id=\"T_ee555_row3_col1\" class=\"data row3 col1\" >LAX</td>\n",
       "      <td id=\"T_ee555_row3_col2\" class=\"data row3 col2\" >28632161</td>\n",
       "    </tr>\n",
       "    <tr>\n",
       "      <td id=\"T_ee555_row4_col0\" class=\"data row4 col0\" >LAS</td>\n",
       "      <td id=\"T_ee555_row4_col1\" class=\"data row4 col1\" >LAX</td>\n",
       "      <td id=\"T_ee555_row4_col2\" class=\"data row4 col2\" >26333721</td>\n",
       "    </tr>\n",
       "    <tr>\n",
       "      <td id=\"T_ee555_row5_col0\" class=\"data row5 col0\" >LAX</td>\n",
       "      <td id=\"T_ee555_row5_col1\" class=\"data row5 col1\" >LAS</td>\n",
       "      <td id=\"T_ee555_row5_col2\" class=\"data row5 col2\" >26177809</td>\n",
       "    </tr>\n",
       "    <tr>\n",
       "      <td id=\"T_ee555_row6_col0\" class=\"data row6 col0\" >LAX</td>\n",
       "      <td id=\"T_ee555_row6_col1\" class=\"data row6 col1\" >SFO</td>\n",
       "      <td id=\"T_ee555_row6_col2\" class=\"data row6 col2\" >25661782</td>\n",
       "    </tr>\n",
       "    <tr>\n",
       "      <td id=\"T_ee555_row7_col0\" class=\"data row7 col0\" >SFO</td>\n",
       "      <td id=\"T_ee555_row7_col1\" class=\"data row7 col1\" >LAX</td>\n",
       "      <td id=\"T_ee555_row7_col2\" class=\"data row7 col2\" >25458207</td>\n",
       "    </tr>\n",
       "    <tr>\n",
       "      <td id=\"T_ee555_row8_col0\" class=\"data row8 col0\" >ATL</td>\n",
       "      <td id=\"T_ee555_row8_col1\" class=\"data row8 col1\" >MCO</td>\n",
       "      <td id=\"T_ee555_row8_col2\" class=\"data row8 col2\" >23483751</td>\n",
       "    </tr>\n",
       "    <tr>\n",
       "      <td id=\"T_ee555_row9_col0\" class=\"data row9 col0\" >ORD</td>\n",
       "      <td id=\"T_ee555_row9_col1\" class=\"data row9 col1\" >LAX</td>\n",
       "      <td id=\"T_ee555_row9_col2\" class=\"data row9 col2\" >22979359</td>\n",
       "    </tr>\n",
       "  </tbody>\n",
       "</table>\n"
      ],
      "text/plain": [
       "<pandas.io.formats.style.Styler at 0x28533e68d10>"
      ]
     },
     "metadata": {},
     "output_type": "display_data"
    },
    {
     "data": {
      "application/vnd.plotly.v1+json": {
       "config": {
        "plotlyServerURL": "https://plot.ly"
       },
       "data": [
        {
         "alignmentgroup": "True",
         "hovertemplate": "Route=%{x}<br>Total Number of Passengers=%{marker.color}<extra></extra>",
         "legendgroup": "",
         "marker": {
          "color": [
           32364612,
           29744742,
           28964154,
           28632161,
           26333721,
           26177809,
           25661782,
           25458207,
           23483751,
           22979359
          ],
          "coloraxis": "coloraxis",
          "pattern": {
           "shape": ""
          }
         },
         "name": "",
         "offsetgroup": "",
         "orientation": "v",
         "showlegend": false,
         "textposition": "auto",
         "type": "bar",
         "x": [
          "OGG -> HNL",
          "HNL -> OGG",
          "LAX -> HNL",
          "HNL -> LAX",
          "LAS -> LAX",
          "LAX -> LAS",
          "LAX -> SFO",
          "SFO -> LAX",
          "ATL -> MCO",
          "ORD -> LAX"
         ],
         "xaxis": "x",
         "y": [
          32364612,
          29744742,
          28964154,
          28632161,
          26333721,
          26177809,
          25661782,
          25458207,
          23483751,
          22979359
         ],
         "yaxis": "y"
        }
       ],
       "layout": {
        "barmode": "group",
        "coloraxis": {
         "colorbar": {
          "title": {
           "text": "Total Number of Passengers"
          }
         },
         "colorscale": [
          [
           0,
           "#0d0887"
          ],
          [
           0.1111111111111111,
           "#46039f"
          ],
          [
           0.2222222222222222,
           "#7201a8"
          ],
          [
           0.3333333333333333,
           "#9c179e"
          ],
          [
           0.4444444444444444,
           "#bd3786"
          ],
          [
           0.5555555555555556,
           "#d8576b"
          ],
          [
           0.6666666666666666,
           "#ed7953"
          ],
          [
           0.7777777777777778,
           "#fb9f3a"
          ],
          [
           0.8888888888888888,
           "#fdca26"
          ],
          [
           1,
           "#f0f921"
          ]
         ]
        },
        "legend": {
         "tracegroupgap": 0
        },
        "template": {
         "data": {
          "bar": [
           {
            "error_x": {
             "color": "#2a3f5f"
            },
            "error_y": {
             "color": "#2a3f5f"
            },
            "marker": {
             "line": {
              "color": "#E5ECF6",
              "width": 0.5
             },
             "pattern": {
              "fillmode": "overlay",
              "size": 10,
              "solidity": 0.2
             }
            },
            "type": "bar"
           }
          ],
          "barpolar": [
           {
            "marker": {
             "line": {
              "color": "#E5ECF6",
              "width": 0.5
             },
             "pattern": {
              "fillmode": "overlay",
              "size": 10,
              "solidity": 0.2
             }
            },
            "type": "barpolar"
           }
          ],
          "carpet": [
           {
            "aaxis": {
             "endlinecolor": "#2a3f5f",
             "gridcolor": "white",
             "linecolor": "white",
             "minorgridcolor": "white",
             "startlinecolor": "#2a3f5f"
            },
            "baxis": {
             "endlinecolor": "#2a3f5f",
             "gridcolor": "white",
             "linecolor": "white",
             "minorgridcolor": "white",
             "startlinecolor": "#2a3f5f"
            },
            "type": "carpet"
           }
          ],
          "choropleth": [
           {
            "colorbar": {
             "outlinewidth": 0,
             "ticks": ""
            },
            "type": "choropleth"
           }
          ],
          "contour": [
           {
            "colorbar": {
             "outlinewidth": 0,
             "ticks": ""
            },
            "colorscale": [
             [
              0,
              "#0d0887"
             ],
             [
              0.1111111111111111,
              "#46039f"
             ],
             [
              0.2222222222222222,
              "#7201a8"
             ],
             [
              0.3333333333333333,
              "#9c179e"
             ],
             [
              0.4444444444444444,
              "#bd3786"
             ],
             [
              0.5555555555555556,
              "#d8576b"
             ],
             [
              0.6666666666666666,
              "#ed7953"
             ],
             [
              0.7777777777777778,
              "#fb9f3a"
             ],
             [
              0.8888888888888888,
              "#fdca26"
             ],
             [
              1,
              "#f0f921"
             ]
            ],
            "type": "contour"
           }
          ],
          "contourcarpet": [
           {
            "colorbar": {
             "outlinewidth": 0,
             "ticks": ""
            },
            "type": "contourcarpet"
           }
          ],
          "heatmap": [
           {
            "colorbar": {
             "outlinewidth": 0,
             "ticks": ""
            },
            "colorscale": [
             [
              0,
              "#0d0887"
             ],
             [
              0.1111111111111111,
              "#46039f"
             ],
             [
              0.2222222222222222,
              "#7201a8"
             ],
             [
              0.3333333333333333,
              "#9c179e"
             ],
             [
              0.4444444444444444,
              "#bd3786"
             ],
             [
              0.5555555555555556,
              "#d8576b"
             ],
             [
              0.6666666666666666,
              "#ed7953"
             ],
             [
              0.7777777777777778,
              "#fb9f3a"
             ],
             [
              0.8888888888888888,
              "#fdca26"
             ],
             [
              1,
              "#f0f921"
             ]
            ],
            "type": "heatmap"
           }
          ],
          "heatmapgl": [
           {
            "colorbar": {
             "outlinewidth": 0,
             "ticks": ""
            },
            "colorscale": [
             [
              0,
              "#0d0887"
             ],
             [
              0.1111111111111111,
              "#46039f"
             ],
             [
              0.2222222222222222,
              "#7201a8"
             ],
             [
              0.3333333333333333,
              "#9c179e"
             ],
             [
              0.4444444444444444,
              "#bd3786"
             ],
             [
              0.5555555555555556,
              "#d8576b"
             ],
             [
              0.6666666666666666,
              "#ed7953"
             ],
             [
              0.7777777777777778,
              "#fb9f3a"
             ],
             [
              0.8888888888888888,
              "#fdca26"
             ],
             [
              1,
              "#f0f921"
             ]
            ],
            "type": "heatmapgl"
           }
          ],
          "histogram": [
           {
            "marker": {
             "pattern": {
              "fillmode": "overlay",
              "size": 10,
              "solidity": 0.2
             }
            },
            "type": "histogram"
           }
          ],
          "histogram2d": [
           {
            "colorbar": {
             "outlinewidth": 0,
             "ticks": ""
            },
            "colorscale": [
             [
              0,
              "#0d0887"
             ],
             [
              0.1111111111111111,
              "#46039f"
             ],
             [
              0.2222222222222222,
              "#7201a8"
             ],
             [
              0.3333333333333333,
              "#9c179e"
             ],
             [
              0.4444444444444444,
              "#bd3786"
             ],
             [
              0.5555555555555556,
              "#d8576b"
             ],
             [
              0.6666666666666666,
              "#ed7953"
             ],
             [
              0.7777777777777778,
              "#fb9f3a"
             ],
             [
              0.8888888888888888,
              "#fdca26"
             ],
             [
              1,
              "#f0f921"
             ]
            ],
            "type": "histogram2d"
           }
          ],
          "histogram2dcontour": [
           {
            "colorbar": {
             "outlinewidth": 0,
             "ticks": ""
            },
            "colorscale": [
             [
              0,
              "#0d0887"
             ],
             [
              0.1111111111111111,
              "#46039f"
             ],
             [
              0.2222222222222222,
              "#7201a8"
             ],
             [
              0.3333333333333333,
              "#9c179e"
             ],
             [
              0.4444444444444444,
              "#bd3786"
             ],
             [
              0.5555555555555556,
              "#d8576b"
             ],
             [
              0.6666666666666666,
              "#ed7953"
             ],
             [
              0.7777777777777778,
              "#fb9f3a"
             ],
             [
              0.8888888888888888,
              "#fdca26"
             ],
             [
              1,
              "#f0f921"
             ]
            ],
            "type": "histogram2dcontour"
           }
          ],
          "mesh3d": [
           {
            "colorbar": {
             "outlinewidth": 0,
             "ticks": ""
            },
            "type": "mesh3d"
           }
          ],
          "parcoords": [
           {
            "line": {
             "colorbar": {
              "outlinewidth": 0,
              "ticks": ""
             }
            },
            "type": "parcoords"
           }
          ],
          "pie": [
           {
            "automargin": true,
            "type": "pie"
           }
          ],
          "scatter": [
           {
            "fillpattern": {
             "fillmode": "overlay",
             "size": 10,
             "solidity": 0.2
            },
            "type": "scatter"
           }
          ],
          "scatter3d": [
           {
            "line": {
             "colorbar": {
              "outlinewidth": 0,
              "ticks": ""
             }
            },
            "marker": {
             "colorbar": {
              "outlinewidth": 0,
              "ticks": ""
             }
            },
            "type": "scatter3d"
           }
          ],
          "scattercarpet": [
           {
            "marker": {
             "colorbar": {
              "outlinewidth": 0,
              "ticks": ""
             }
            },
            "type": "scattercarpet"
           }
          ],
          "scattergeo": [
           {
            "marker": {
             "colorbar": {
              "outlinewidth": 0,
              "ticks": ""
             }
            },
            "type": "scattergeo"
           }
          ],
          "scattergl": [
           {
            "marker": {
             "colorbar": {
              "outlinewidth": 0,
              "ticks": ""
             }
            },
            "type": "scattergl"
           }
          ],
          "scattermapbox": [
           {
            "marker": {
             "colorbar": {
              "outlinewidth": 0,
              "ticks": ""
             }
            },
            "type": "scattermapbox"
           }
          ],
          "scatterpolar": [
           {
            "marker": {
             "colorbar": {
              "outlinewidth": 0,
              "ticks": ""
             }
            },
            "type": "scatterpolar"
           }
          ],
          "scatterpolargl": [
           {
            "marker": {
             "colorbar": {
              "outlinewidth": 0,
              "ticks": ""
             }
            },
            "type": "scatterpolargl"
           }
          ],
          "scatterternary": [
           {
            "marker": {
             "colorbar": {
              "outlinewidth": 0,
              "ticks": ""
             }
            },
            "type": "scatterternary"
           }
          ],
          "surface": [
           {
            "colorbar": {
             "outlinewidth": 0,
             "ticks": ""
            },
            "colorscale": [
             [
              0,
              "#0d0887"
             ],
             [
              0.1111111111111111,
              "#46039f"
             ],
             [
              0.2222222222222222,
              "#7201a8"
             ],
             [
              0.3333333333333333,
              "#9c179e"
             ],
             [
              0.4444444444444444,
              "#bd3786"
             ],
             [
              0.5555555555555556,
              "#d8576b"
             ],
             [
              0.6666666666666666,
              "#ed7953"
             ],
             [
              0.7777777777777778,
              "#fb9f3a"
             ],
             [
              0.8888888888888888,
              "#fdca26"
             ],
             [
              1,
              "#f0f921"
             ]
            ],
            "type": "surface"
           }
          ],
          "table": [
           {
            "cells": {
             "fill": {
              "color": "#EBF0F8"
             },
             "line": {
              "color": "white"
             }
            },
            "header": {
             "fill": {
              "color": "#C8D4E3"
             },
             "line": {
              "color": "white"
             }
            },
            "type": "table"
           }
          ]
         },
         "layout": {
          "annotationdefaults": {
           "arrowcolor": "#2a3f5f",
           "arrowhead": 0,
           "arrowwidth": 1
          },
          "autotypenumbers": "strict",
          "coloraxis": {
           "colorbar": {
            "outlinewidth": 0,
            "ticks": ""
           }
          },
          "colorscale": {
           "diverging": [
            [
             0,
             "#8e0152"
            ],
            [
             0.1,
             "#c51b7d"
            ],
            [
             0.2,
             "#de77ae"
            ],
            [
             0.3,
             "#f1b6da"
            ],
            [
             0.4,
             "#fde0ef"
            ],
            [
             0.5,
             "#f7f7f7"
            ],
            [
             0.6,
             "#e6f5d0"
            ],
            [
             0.7,
             "#b8e186"
            ],
            [
             0.8,
             "#7fbc41"
            ],
            [
             0.9,
             "#4d9221"
            ],
            [
             1,
             "#276419"
            ]
           ],
           "sequential": [
            [
             0,
             "#0d0887"
            ],
            [
             0.1111111111111111,
             "#46039f"
            ],
            [
             0.2222222222222222,
             "#7201a8"
            ],
            [
             0.3333333333333333,
             "#9c179e"
            ],
            [
             0.4444444444444444,
             "#bd3786"
            ],
            [
             0.5555555555555556,
             "#d8576b"
            ],
            [
             0.6666666666666666,
             "#ed7953"
            ],
            [
             0.7777777777777778,
             "#fb9f3a"
            ],
            [
             0.8888888888888888,
             "#fdca26"
            ],
            [
             1,
             "#f0f921"
            ]
           ],
           "sequentialminus": [
            [
             0,
             "#0d0887"
            ],
            [
             0.1111111111111111,
             "#46039f"
            ],
            [
             0.2222222222222222,
             "#7201a8"
            ],
            [
             0.3333333333333333,
             "#9c179e"
            ],
            [
             0.4444444444444444,
             "#bd3786"
            ],
            [
             0.5555555555555556,
             "#d8576b"
            ],
            [
             0.6666666666666666,
             "#ed7953"
            ],
            [
             0.7777777777777778,
             "#fb9f3a"
            ],
            [
             0.8888888888888888,
             "#fdca26"
            ],
            [
             1,
             "#f0f921"
            ]
           ]
          },
          "colorway": [
           "#636efa",
           "#EF553B",
           "#00cc96",
           "#ab63fa",
           "#FFA15A",
           "#19d3f3",
           "#FF6692",
           "#B6E880",
           "#FF97FF",
           "#FECB52"
          ],
          "font": {
           "color": "#2a3f5f"
          },
          "geo": {
           "bgcolor": "white",
           "lakecolor": "white",
           "landcolor": "#E5ECF6",
           "showlakes": true,
           "showland": true,
           "subunitcolor": "white"
          },
          "hoverlabel": {
           "align": "left"
          },
          "hovermode": "closest",
          "mapbox": {
           "style": "light"
          },
          "paper_bgcolor": "white",
          "plot_bgcolor": "#E5ECF6",
          "polar": {
           "angularaxis": {
            "gridcolor": "white",
            "linecolor": "white",
            "ticks": ""
           },
           "bgcolor": "#E5ECF6",
           "radialaxis": {
            "gridcolor": "white",
            "linecolor": "white",
            "ticks": ""
           }
          },
          "scene": {
           "xaxis": {
            "backgroundcolor": "#E5ECF6",
            "gridcolor": "white",
            "gridwidth": 2,
            "linecolor": "white",
            "showbackground": true,
            "ticks": "",
            "zerolinecolor": "white"
           },
           "yaxis": {
            "backgroundcolor": "#E5ECF6",
            "gridcolor": "white",
            "gridwidth": 2,
            "linecolor": "white",
            "showbackground": true,
            "ticks": "",
            "zerolinecolor": "white"
           },
           "zaxis": {
            "backgroundcolor": "#E5ECF6",
            "gridcolor": "white",
            "gridwidth": 2,
            "linecolor": "white",
            "showbackground": true,
            "ticks": "",
            "zerolinecolor": "white"
           }
          },
          "shapedefaults": {
           "line": {
            "color": "#2a3f5f"
           }
          },
          "ternary": {
           "aaxis": {
            "gridcolor": "white",
            "linecolor": "white",
            "ticks": ""
           },
           "baxis": {
            "gridcolor": "white",
            "linecolor": "white",
            "ticks": ""
           },
           "bgcolor": "#E5ECF6",
           "caxis": {
            "gridcolor": "white",
            "linecolor": "white",
            "ticks": ""
           }
          },
          "title": {
           "x": 0.05
          },
          "xaxis": {
           "automargin": true,
           "gridcolor": "white",
           "linecolor": "white",
           "ticks": "",
           "title": {
            "standoff": 15
           },
           "zerolinecolor": "white",
           "zerolinewidth": 2
          },
          "yaxis": {
           "automargin": true,
           "gridcolor": "white",
           "linecolor": "white",
           "ticks": "",
           "title": {
            "standoff": 15
           },
           "zerolinecolor": "white",
           "zerolinewidth": 2
          }
         }
        },
        "title": {
         "text": "Busiest Routes"
        },
        "xaxis": {
         "anchor": "y",
         "domain": [
          0,
          1
         ],
         "title": {
          "text": "Route"
         }
        },
        "yaxis": {
         "anchor": "x",
         "domain": [
          0,
          1
         ],
         "title": {
          "text": "Total Number of Passengers"
         }
        }
       }
      }
     },
     "metadata": {},
     "output_type": "display_data"
    },
    {
     "data": {
      "text/markdown": [
       "### **Under-Utilized Routes**"
      ],
      "text/plain": [
       "<IPython.core.display.Markdown object>"
      ]
     },
     "metadata": {},
     "output_type": "display_data"
    },
    {
     "data": {
      "text/html": [
       "<style type=\"text/css\">\n",
       "</style>\n",
       "<table id=\"T_d8764\">\n",
       "  <thead>\n",
       "    <tr>\n",
       "      <th id=\"T_d8764_level0_col0\" class=\"col_heading level0 col0\" >Origin_airport</th>\n",
       "      <th id=\"T_d8764_level0_col1\" class=\"col_heading level0 col1\" >Destination_airport</th>\n",
       "      <th id=\"T_d8764_level0_col2\" class=\"col_heading level0 col2\" >Average_Passengers</th>\n",
       "    </tr>\n",
       "  </thead>\n",
       "  <tbody>\n",
       "    <tr>\n",
       "      <td id=\"T_d8764_row0_col0\" class=\"data row0 col0\" >YUM</td>\n",
       "      <td id=\"T_d8764_row0_col1\" class=\"data row0 col1\" >YUM</td>\n",
       "      <td id=\"T_d8764_row0_col2\" class=\"data row0 col2\" >0.0</td>\n",
       "    </tr>\n",
       "    <tr>\n",
       "      <td id=\"T_d8764_row1_col0\" class=\"data row1 col0\" >COS</td>\n",
       "      <td id=\"T_d8764_row1_col1\" class=\"data row1 col1\" >ILN</td>\n",
       "      <td id=\"T_d8764_row1_col2\" class=\"data row1 col2\" >0.0</td>\n",
       "    </tr>\n",
       "    <tr>\n",
       "      <td id=\"T_d8764_row2_col0\" class=\"data row2 col0\" >MEM</td>\n",
       "      <td id=\"T_d8764_row2_col1\" class=\"data row2 col1\" >FOE</td>\n",
       "      <td id=\"T_d8764_row2_col2\" class=\"data row2 col2\" >0.0</td>\n",
       "    </tr>\n",
       "    <tr>\n",
       "      <td id=\"T_d8764_row3_col0\" class=\"data row3 col0\" >MEM</td>\n",
       "      <td id=\"T_d8764_row3_col1\" class=\"data row3 col1\" >FAI</td>\n",
       "      <td id=\"T_d8764_row3_col2\" class=\"data row3 col2\" >0.0</td>\n",
       "    </tr>\n",
       "    <tr>\n",
       "      <td id=\"T_d8764_row4_col0\" class=\"data row4 col0\" >MEM</td>\n",
       "      <td id=\"T_d8764_row4_col1\" class=\"data row4 col1\" >DRT</td>\n",
       "      <td id=\"T_d8764_row4_col2\" class=\"data row4 col2\" >0.0</td>\n",
       "    </tr>\n",
       "    <tr>\n",
       "      <td id=\"T_d8764_row5_col0\" class=\"data row5 col0\" >MEM</td>\n",
       "      <td id=\"T_d8764_row5_col1\" class=\"data row5 col1\" >DPA</td>\n",
       "      <td id=\"T_d8764_row5_col2\" class=\"data row5 col2\" >0.0</td>\n",
       "    </tr>\n",
       "    <tr>\n",
       "      <td id=\"T_d8764_row6_col0\" class=\"data row6 col0\" >MEM</td>\n",
       "      <td id=\"T_d8764_row6_col1\" class=\"data row6 col1\" >DOV</td>\n",
       "      <td id=\"T_d8764_row6_col2\" class=\"data row6 col2\" >0.0</td>\n",
       "    </tr>\n",
       "    <tr>\n",
       "      <td id=\"T_d8764_row7_col0\" class=\"data row7 col0\" >MEM</td>\n",
       "      <td id=\"T_d8764_row7_col1\" class=\"data row7 col1\" >DET</td>\n",
       "      <td id=\"T_d8764_row7_col2\" class=\"data row7 col2\" >0.0</td>\n",
       "    </tr>\n",
       "    <tr>\n",
       "      <td id=\"T_d8764_row8_col0\" class=\"data row8 col0\" >MEM</td>\n",
       "      <td id=\"T_d8764_row8_col1\" class=\"data row8 col1\" >CSV</td>\n",
       "      <td id=\"T_d8764_row8_col2\" class=\"data row8 col2\" >0.0</td>\n",
       "    </tr>\n",
       "    <tr>\n",
       "      <td id=\"T_d8764_row9_col0\" class=\"data row9 col0\" >MEM</td>\n",
       "      <td id=\"T_d8764_row9_col1\" class=\"data row9 col1\" >CRP</td>\n",
       "      <td id=\"T_d8764_row9_col2\" class=\"data row9 col2\" >0.0</td>\n",
       "    </tr>\n",
       "  </tbody>\n",
       "</table>\n"
      ],
      "text/plain": [
       "<pandas.io.formats.style.Styler at 0x285e0b549d0>"
      ]
     },
     "metadata": {},
     "output_type": "display_data"
    },
    {
     "data": {
      "text/markdown": [
       "### **Over-Utilized Routes**"
      ],
      "text/plain": [
       "<IPython.core.display.Markdown object>"
      ]
     },
     "metadata": {},
     "output_type": "display_data"
    },
    {
     "data": {
      "text/html": [
       "<style type=\"text/css\">\n",
       "</style>\n",
       "<table id=\"T_3130d\">\n",
       "  <thead>\n",
       "    <tr>\n",
       "      <th id=\"T_3130d_level0_col0\" class=\"col_heading level0 col0\" >Origin_airport</th>\n",
       "      <th id=\"T_3130d_level0_col1\" class=\"col_heading level0 col1\" >Destination_airport</th>\n",
       "      <th id=\"T_3130d_level0_col2\" class=\"col_heading level0 col2\" >Average_Passengers</th>\n",
       "    </tr>\n",
       "  </thead>\n",
       "  <tbody>\n",
       "    <tr>\n",
       "      <td id=\"T_3130d_row0_col0\" class=\"data row0 col0\" >DAL</td>\n",
       "      <td id=\"T_3130d_row0_col1\" class=\"data row0 col1\" >HOU</td>\n",
       "      <td id=\"T_3130d_row0_col2\" class=\"data row0 col2\" >21828.4</td>\n",
       "    </tr>\n",
       "    <tr>\n",
       "      <td id=\"T_3130d_row1_col0\" class=\"data row1 col0\" >HOU</td>\n",
       "      <td id=\"T_3130d_row1_col1\" class=\"data row1 col1\" >DAL</td>\n",
       "      <td id=\"T_3130d_row1_col2\" class=\"data row1 col2\" >21686.0</td>\n",
       "    </tr>\n",
       "    <tr>\n",
       "      <td id=\"T_3130d_row2_col0\" class=\"data row2 col0\" >LGA</td>\n",
       "      <td id=\"T_3130d_row2_col1\" class=\"data row2 col1\" >DCA</td>\n",
       "      <td id=\"T_3130d_row2_col2\" class=\"data row2 col2\" >15371.6</td>\n",
       "    </tr>\n",
       "    <tr>\n",
       "      <td id=\"T_3130d_row3_col0\" class=\"data row3 col0\" >DCA</td>\n",
       "      <td id=\"T_3130d_row3_col1\" class=\"data row3 col1\" >LGA</td>\n",
       "      <td id=\"T_3130d_row3_col2\" class=\"data row3 col2\" >14628.6</td>\n",
       "    </tr>\n",
       "    <tr>\n",
       "      <td id=\"T_3130d_row4_col0\" class=\"data row4 col0\" >HNL</td>\n",
       "      <td id=\"T_3130d_row4_col1\" class=\"data row4 col1\" >OGG</td>\n",
       "      <td id=\"T_3130d_row4_col2\" class=\"data row4 col2\" >14043.8</td>\n",
       "    </tr>\n",
       "    <tr>\n",
       "      <td id=\"T_3130d_row5_col0\" class=\"data row5 col0\" >BOS</td>\n",
       "      <td id=\"T_3130d_row5_col1\" class=\"data row5 col1\" >LGA</td>\n",
       "      <td id=\"T_3130d_row5_col2\" class=\"data row5 col2\" >13865.1</td>\n",
       "    </tr>\n",
       "    <tr>\n",
       "      <td id=\"T_3130d_row6_col0\" class=\"data row6 col0\" >LGA</td>\n",
       "      <td id=\"T_3130d_row6_col1\" class=\"data row6 col1\" >BOS</td>\n",
       "      <td id=\"T_3130d_row6_col2\" class=\"data row6 col2\" >13674.9</td>\n",
       "    </tr>\n",
       "    <tr>\n",
       "      <td id=\"T_3130d_row7_col0\" class=\"data row7 col0\" >OGG</td>\n",
       "      <td id=\"T_3130d_row7_col1\" class=\"data row7 col1\" >HNL</td>\n",
       "      <td id=\"T_3130d_row7_col2\" class=\"data row7 col2\" >13490.9</td>\n",
       "    </tr>\n",
       "    <tr>\n",
       "      <td id=\"T_3130d_row8_col0\" class=\"data row8 col0\" >OAK</td>\n",
       "      <td id=\"T_3130d_row8_col1\" class=\"data row8 col1\" >JFK</td>\n",
       "      <td id=\"T_3130d_row8_col2\" class=\"data row8 col2\" >12615.6</td>\n",
       "    </tr>\n",
       "    <tr>\n",
       "      <td id=\"T_3130d_row9_col0\" class=\"data row9 col0\" >HOU</td>\n",
       "      <td id=\"T_3130d_row9_col1\" class=\"data row9 col1\" >MSY</td>\n",
       "      <td id=\"T_3130d_row9_col2\" class=\"data row9 col2\" >11942.8</td>\n",
       "    </tr>\n",
       "  </tbody>\n",
       "</table>\n"
      ],
      "text/plain": [
       "<pandas.io.formats.style.Styler at 0x285dfdb53d0>"
      ]
     },
     "metadata": {},
     "output_type": "display_data"
    },
    {
     "data": {
      "text/markdown": [
       "### **Top Routes by Passenger Efficiency**"
      ],
      "text/plain": [
       "<IPython.core.display.Markdown object>"
      ]
     },
     "metadata": {},
     "output_type": "display_data"
    },
    {
     "data": {
      "text/html": [
       "<style type=\"text/css\">\n",
       "</style>\n",
       "<table id=\"T_b41c9\">\n",
       "  <thead>\n",
       "    <tr>\n",
       "      <th id=\"T_b41c9_level0_col0\" class=\"col_heading level0 col0\" >Origin_airport</th>\n",
       "      <th id=\"T_b41c9_level0_col1\" class=\"col_heading level0 col1\" >Destination_airport</th>\n",
       "      <th id=\"T_b41c9_level0_col2\" class=\"col_heading level0 col2\" >Passenger_Efficiency</th>\n",
       "    </tr>\n",
       "  </thead>\n",
       "  <tbody>\n",
       "    <tr>\n",
       "      <td id=\"T_b41c9_row0_col0\" class=\"data row0 col0\" >HNL</td>\n",
       "      <td id=\"T_b41c9_row0_col1\" class=\"data row0 col1\" >OGG</td>\n",
       "      <td id=\"T_b41c9_row0_col2\" class=\"data row0 col2\" >140.4</td>\n",
       "    </tr>\n",
       "    <tr>\n",
       "      <td id=\"T_b41c9_row1_col0\" class=\"data row1 col0\" >OGG</td>\n",
       "      <td id=\"T_b41c9_row1_col1\" class=\"data row1 col1\" >HNL</td>\n",
       "      <td id=\"T_b41c9_row1_col2\" class=\"data row1 col2\" >134.9</td>\n",
       "    </tr>\n",
       "    <tr>\n",
       "      <td id=\"T_b41c9_row2_col0\" class=\"data row2 col0\" >DAL</td>\n",
       "      <td id=\"T_b41c9_row2_col1\" class=\"data row2 col1\" >HOU</td>\n",
       "      <td id=\"T_b41c9_row2_col2\" class=\"data row2 col2\" >91.3</td>\n",
       "    </tr>\n",
       "    <tr>\n",
       "      <td id=\"T_b41c9_row3_col0\" class=\"data row3 col0\" >HOU</td>\n",
       "      <td id=\"T_b41c9_row3_col1\" class=\"data row3 col1\" >DAL</td>\n",
       "      <td id=\"T_b41c9_row3_col2\" class=\"data row3 col2\" >90.7</td>\n",
       "    </tr>\n",
       "    <tr>\n",
       "      <td id=\"T_b41c9_row4_col0\" class=\"data row4 col0\" >BOS</td>\n",
       "      <td id=\"T_b41c9_row4_col1\" class=\"data row4 col1\" >LGA</td>\n",
       "      <td id=\"T_b41c9_row4_col2\" class=\"data row4 col2\" >74.9</td>\n",
       "    </tr>\n",
       "    <tr>\n",
       "      <td id=\"T_b41c9_row5_col0\" class=\"data row5 col0\" >LGA</td>\n",
       "      <td id=\"T_b41c9_row5_col1\" class=\"data row5 col1\" >BOS</td>\n",
       "      <td id=\"T_b41c9_row5_col2\" class=\"data row5 col2\" >73.9</td>\n",
       "    </tr>\n",
       "    <tr>\n",
       "      <td id=\"T_b41c9_row6_col0\" class=\"data row6 col0\" >LGA</td>\n",
       "      <td id=\"T_b41c9_row6_col1\" class=\"data row6 col1\" >DCA</td>\n",
       "      <td id=\"T_b41c9_row6_col2\" class=\"data row6 col2\" >71.8</td>\n",
       "    </tr>\n",
       "    <tr>\n",
       "      <td id=\"T_b41c9_row7_col0\" class=\"data row7 col0\" >DCA</td>\n",
       "      <td id=\"T_b41c9_row7_col1\" class=\"data row7 col1\" >LGA</td>\n",
       "      <td id=\"T_b41c9_row7_col2\" class=\"data row7 col2\" >68.4</td>\n",
       "    </tr>\n",
       "    <tr>\n",
       "      <td id=\"T_b41c9_row8_col0\" class=\"data row8 col0\" >IAH</td>\n",
       "      <td id=\"T_b41c9_row8_col1\" class=\"data row8 col1\" >EFD</td>\n",
       "      <td id=\"T_b41c9_row8_col2\" class=\"data row8 col2\" >49.7</td>\n",
       "    </tr>\n",
       "    <tr>\n",
       "      <td id=\"T_b41c9_row9_col0\" class=\"data row9 col0\" >DAL</td>\n",
       "      <td id=\"T_b41c9_row9_col1\" class=\"data row9 col1\" >AUS</td>\n",
       "      <td id=\"T_b41c9_row9_col2\" class=\"data row9 col2\" >46.5</td>\n",
       "    </tr>\n",
       "  </tbody>\n",
       "</table>\n"
      ],
      "text/plain": [
       "<pandas.io.formats.style.Styler at 0x285dfbf7450>"
      ]
     },
     "metadata": {},
     "output_type": "display_data"
    },
    {
     "data": {
      "application/vnd.plotly.v1+json": {
       "config": {
        "plotlyServerURL": "https://plot.ly"
       },
       "data": [
        {
         "alignmentgroup": "True",
         "hovertemplate": "Route=%{x}<br>Passenger Efficiency=%{marker.color}<extra></extra>",
         "legendgroup": "",
         "marker": {
          "color": [
           140.43787535410766,
           134.90876198416007,
           91.3323700013299,
           90.73649385700311,
           74.94630118573279,
           73.91843181764442,
           71.8301172614286,
           68.3579077659101,
           49.72019617706237,
           46.53963466042155
          ],
          "coloraxis": "coloraxis",
          "pattern": {
           "shape": ""
          }
         },
         "name": "",
         "offsetgroup": "",
         "orientation": "v",
         "showlegend": false,
         "textposition": "auto",
         "type": "bar",
         "x": [
          "HNL -> OGG",
          "OGG -> HNL",
          "DAL -> HOU",
          "HOU -> DAL",
          "BOS -> LGA",
          "LGA -> BOS",
          "LGA -> DCA",
          "DCA -> LGA",
          "IAH -> EFD",
          "DAL -> AUS"
         ],
         "xaxis": "x",
         "y": [
          140.43787535410766,
          134.90876198416007,
          91.3323700013299,
          90.73649385700311,
          74.94630118573279,
          73.91843181764442,
          71.8301172614286,
          68.3579077659101,
          49.72019617706237,
          46.53963466042155
         ],
         "yaxis": "y"
        }
       ],
       "layout": {
        "barmode": "group",
        "coloraxis": {
         "colorbar": {
          "title": {
           "text": "Passenger Efficiency"
          }
         },
         "colorscale": [
          [
           0,
           "#0d0887"
          ],
          [
           0.1111111111111111,
           "#46039f"
          ],
          [
           0.2222222222222222,
           "#7201a8"
          ],
          [
           0.3333333333333333,
           "#9c179e"
          ],
          [
           0.4444444444444444,
           "#bd3786"
          ],
          [
           0.5555555555555556,
           "#d8576b"
          ],
          [
           0.6666666666666666,
           "#ed7953"
          ],
          [
           0.7777777777777778,
           "#fb9f3a"
          ],
          [
           0.8888888888888888,
           "#fdca26"
          ],
          [
           1,
           "#f0f921"
          ]
         ]
        },
        "legend": {
         "tracegroupgap": 0
        },
        "template": {
         "data": {
          "bar": [
           {
            "error_x": {
             "color": "#2a3f5f"
            },
            "error_y": {
             "color": "#2a3f5f"
            },
            "marker": {
             "line": {
              "color": "#E5ECF6",
              "width": 0.5
             },
             "pattern": {
              "fillmode": "overlay",
              "size": 10,
              "solidity": 0.2
             }
            },
            "type": "bar"
           }
          ],
          "barpolar": [
           {
            "marker": {
             "line": {
              "color": "#E5ECF6",
              "width": 0.5
             },
             "pattern": {
              "fillmode": "overlay",
              "size": 10,
              "solidity": 0.2
             }
            },
            "type": "barpolar"
           }
          ],
          "carpet": [
           {
            "aaxis": {
             "endlinecolor": "#2a3f5f",
             "gridcolor": "white",
             "linecolor": "white",
             "minorgridcolor": "white",
             "startlinecolor": "#2a3f5f"
            },
            "baxis": {
             "endlinecolor": "#2a3f5f",
             "gridcolor": "white",
             "linecolor": "white",
             "minorgridcolor": "white",
             "startlinecolor": "#2a3f5f"
            },
            "type": "carpet"
           }
          ],
          "choropleth": [
           {
            "colorbar": {
             "outlinewidth": 0,
             "ticks": ""
            },
            "type": "choropleth"
           }
          ],
          "contour": [
           {
            "colorbar": {
             "outlinewidth": 0,
             "ticks": ""
            },
            "colorscale": [
             [
              0,
              "#0d0887"
             ],
             [
              0.1111111111111111,
              "#46039f"
             ],
             [
              0.2222222222222222,
              "#7201a8"
             ],
             [
              0.3333333333333333,
              "#9c179e"
             ],
             [
              0.4444444444444444,
              "#bd3786"
             ],
             [
              0.5555555555555556,
              "#d8576b"
             ],
             [
              0.6666666666666666,
              "#ed7953"
             ],
             [
              0.7777777777777778,
              "#fb9f3a"
             ],
             [
              0.8888888888888888,
              "#fdca26"
             ],
             [
              1,
              "#f0f921"
             ]
            ],
            "type": "contour"
           }
          ],
          "contourcarpet": [
           {
            "colorbar": {
             "outlinewidth": 0,
             "ticks": ""
            },
            "type": "contourcarpet"
           }
          ],
          "heatmap": [
           {
            "colorbar": {
             "outlinewidth": 0,
             "ticks": ""
            },
            "colorscale": [
             [
              0,
              "#0d0887"
             ],
             [
              0.1111111111111111,
              "#46039f"
             ],
             [
              0.2222222222222222,
              "#7201a8"
             ],
             [
              0.3333333333333333,
              "#9c179e"
             ],
             [
              0.4444444444444444,
              "#bd3786"
             ],
             [
              0.5555555555555556,
              "#d8576b"
             ],
             [
              0.6666666666666666,
              "#ed7953"
             ],
             [
              0.7777777777777778,
              "#fb9f3a"
             ],
             [
              0.8888888888888888,
              "#fdca26"
             ],
             [
              1,
              "#f0f921"
             ]
            ],
            "type": "heatmap"
           }
          ],
          "heatmapgl": [
           {
            "colorbar": {
             "outlinewidth": 0,
             "ticks": ""
            },
            "colorscale": [
             [
              0,
              "#0d0887"
             ],
             [
              0.1111111111111111,
              "#46039f"
             ],
             [
              0.2222222222222222,
              "#7201a8"
             ],
             [
              0.3333333333333333,
              "#9c179e"
             ],
             [
              0.4444444444444444,
              "#bd3786"
             ],
             [
              0.5555555555555556,
              "#d8576b"
             ],
             [
              0.6666666666666666,
              "#ed7953"
             ],
             [
              0.7777777777777778,
              "#fb9f3a"
             ],
             [
              0.8888888888888888,
              "#fdca26"
             ],
             [
              1,
              "#f0f921"
             ]
            ],
            "type": "heatmapgl"
           }
          ],
          "histogram": [
           {
            "marker": {
             "pattern": {
              "fillmode": "overlay",
              "size": 10,
              "solidity": 0.2
             }
            },
            "type": "histogram"
           }
          ],
          "histogram2d": [
           {
            "colorbar": {
             "outlinewidth": 0,
             "ticks": ""
            },
            "colorscale": [
             [
              0,
              "#0d0887"
             ],
             [
              0.1111111111111111,
              "#46039f"
             ],
             [
              0.2222222222222222,
              "#7201a8"
             ],
             [
              0.3333333333333333,
              "#9c179e"
             ],
             [
              0.4444444444444444,
              "#bd3786"
             ],
             [
              0.5555555555555556,
              "#d8576b"
             ],
             [
              0.6666666666666666,
              "#ed7953"
             ],
             [
              0.7777777777777778,
              "#fb9f3a"
             ],
             [
              0.8888888888888888,
              "#fdca26"
             ],
             [
              1,
              "#f0f921"
             ]
            ],
            "type": "histogram2d"
           }
          ],
          "histogram2dcontour": [
           {
            "colorbar": {
             "outlinewidth": 0,
             "ticks": ""
            },
            "colorscale": [
             [
              0,
              "#0d0887"
             ],
             [
              0.1111111111111111,
              "#46039f"
             ],
             [
              0.2222222222222222,
              "#7201a8"
             ],
             [
              0.3333333333333333,
              "#9c179e"
             ],
             [
              0.4444444444444444,
              "#bd3786"
             ],
             [
              0.5555555555555556,
              "#d8576b"
             ],
             [
              0.6666666666666666,
              "#ed7953"
             ],
             [
              0.7777777777777778,
              "#fb9f3a"
             ],
             [
              0.8888888888888888,
              "#fdca26"
             ],
             [
              1,
              "#f0f921"
             ]
            ],
            "type": "histogram2dcontour"
           }
          ],
          "mesh3d": [
           {
            "colorbar": {
             "outlinewidth": 0,
             "ticks": ""
            },
            "type": "mesh3d"
           }
          ],
          "parcoords": [
           {
            "line": {
             "colorbar": {
              "outlinewidth": 0,
              "ticks": ""
             }
            },
            "type": "parcoords"
           }
          ],
          "pie": [
           {
            "automargin": true,
            "type": "pie"
           }
          ],
          "scatter": [
           {
            "fillpattern": {
             "fillmode": "overlay",
             "size": 10,
             "solidity": 0.2
            },
            "type": "scatter"
           }
          ],
          "scatter3d": [
           {
            "line": {
             "colorbar": {
              "outlinewidth": 0,
              "ticks": ""
             }
            },
            "marker": {
             "colorbar": {
              "outlinewidth": 0,
              "ticks": ""
             }
            },
            "type": "scatter3d"
           }
          ],
          "scattercarpet": [
           {
            "marker": {
             "colorbar": {
              "outlinewidth": 0,
              "ticks": ""
             }
            },
            "type": "scattercarpet"
           }
          ],
          "scattergeo": [
           {
            "marker": {
             "colorbar": {
              "outlinewidth": 0,
              "ticks": ""
             }
            },
            "type": "scattergeo"
           }
          ],
          "scattergl": [
           {
            "marker": {
             "colorbar": {
              "outlinewidth": 0,
              "ticks": ""
             }
            },
            "type": "scattergl"
           }
          ],
          "scattermapbox": [
           {
            "marker": {
             "colorbar": {
              "outlinewidth": 0,
              "ticks": ""
             }
            },
            "type": "scattermapbox"
           }
          ],
          "scatterpolar": [
           {
            "marker": {
             "colorbar": {
              "outlinewidth": 0,
              "ticks": ""
             }
            },
            "type": "scatterpolar"
           }
          ],
          "scatterpolargl": [
           {
            "marker": {
             "colorbar": {
              "outlinewidth": 0,
              "ticks": ""
             }
            },
            "type": "scatterpolargl"
           }
          ],
          "scatterternary": [
           {
            "marker": {
             "colorbar": {
              "outlinewidth": 0,
              "ticks": ""
             }
            },
            "type": "scatterternary"
           }
          ],
          "surface": [
           {
            "colorbar": {
             "outlinewidth": 0,
             "ticks": ""
            },
            "colorscale": [
             [
              0,
              "#0d0887"
             ],
             [
              0.1111111111111111,
              "#46039f"
             ],
             [
              0.2222222222222222,
              "#7201a8"
             ],
             [
              0.3333333333333333,
              "#9c179e"
             ],
             [
              0.4444444444444444,
              "#bd3786"
             ],
             [
              0.5555555555555556,
              "#d8576b"
             ],
             [
              0.6666666666666666,
              "#ed7953"
             ],
             [
              0.7777777777777778,
              "#fb9f3a"
             ],
             [
              0.8888888888888888,
              "#fdca26"
             ],
             [
              1,
              "#f0f921"
             ]
            ],
            "type": "surface"
           }
          ],
          "table": [
           {
            "cells": {
             "fill": {
              "color": "#EBF0F8"
             },
             "line": {
              "color": "white"
             }
            },
            "header": {
             "fill": {
              "color": "#C8D4E3"
             },
             "line": {
              "color": "white"
             }
            },
            "type": "table"
           }
          ]
         },
         "layout": {
          "annotationdefaults": {
           "arrowcolor": "#2a3f5f",
           "arrowhead": 0,
           "arrowwidth": 1
          },
          "autotypenumbers": "strict",
          "coloraxis": {
           "colorbar": {
            "outlinewidth": 0,
            "ticks": ""
           }
          },
          "colorscale": {
           "diverging": [
            [
             0,
             "#8e0152"
            ],
            [
             0.1,
             "#c51b7d"
            ],
            [
             0.2,
             "#de77ae"
            ],
            [
             0.3,
             "#f1b6da"
            ],
            [
             0.4,
             "#fde0ef"
            ],
            [
             0.5,
             "#f7f7f7"
            ],
            [
             0.6,
             "#e6f5d0"
            ],
            [
             0.7,
             "#b8e186"
            ],
            [
             0.8,
             "#7fbc41"
            ],
            [
             0.9,
             "#4d9221"
            ],
            [
             1,
             "#276419"
            ]
           ],
           "sequential": [
            [
             0,
             "#0d0887"
            ],
            [
             0.1111111111111111,
             "#46039f"
            ],
            [
             0.2222222222222222,
             "#7201a8"
            ],
            [
             0.3333333333333333,
             "#9c179e"
            ],
            [
             0.4444444444444444,
             "#bd3786"
            ],
            [
             0.5555555555555556,
             "#d8576b"
            ],
            [
             0.6666666666666666,
             "#ed7953"
            ],
            [
             0.7777777777777778,
             "#fb9f3a"
            ],
            [
             0.8888888888888888,
             "#fdca26"
            ],
            [
             1,
             "#f0f921"
            ]
           ],
           "sequentialminus": [
            [
             0,
             "#0d0887"
            ],
            [
             0.1111111111111111,
             "#46039f"
            ],
            [
             0.2222222222222222,
             "#7201a8"
            ],
            [
             0.3333333333333333,
             "#9c179e"
            ],
            [
             0.4444444444444444,
             "#bd3786"
            ],
            [
             0.5555555555555556,
             "#d8576b"
            ],
            [
             0.6666666666666666,
             "#ed7953"
            ],
            [
             0.7777777777777778,
             "#fb9f3a"
            ],
            [
             0.8888888888888888,
             "#fdca26"
            ],
            [
             1,
             "#f0f921"
            ]
           ]
          },
          "colorway": [
           "#636efa",
           "#EF553B",
           "#00cc96",
           "#ab63fa",
           "#FFA15A",
           "#19d3f3",
           "#FF6692",
           "#B6E880",
           "#FF97FF",
           "#FECB52"
          ],
          "font": {
           "color": "#2a3f5f"
          },
          "geo": {
           "bgcolor": "white",
           "lakecolor": "white",
           "landcolor": "#E5ECF6",
           "showlakes": true,
           "showland": true,
           "subunitcolor": "white"
          },
          "hoverlabel": {
           "align": "left"
          },
          "hovermode": "closest",
          "mapbox": {
           "style": "light"
          },
          "paper_bgcolor": "white",
          "plot_bgcolor": "#E5ECF6",
          "polar": {
           "angularaxis": {
            "gridcolor": "white",
            "linecolor": "white",
            "ticks": ""
           },
           "bgcolor": "#E5ECF6",
           "radialaxis": {
            "gridcolor": "white",
            "linecolor": "white",
            "ticks": ""
           }
          },
          "scene": {
           "xaxis": {
            "backgroundcolor": "#E5ECF6",
            "gridcolor": "white",
            "gridwidth": 2,
            "linecolor": "white",
            "showbackground": true,
            "ticks": "",
            "zerolinecolor": "white"
           },
           "yaxis": {
            "backgroundcolor": "#E5ECF6",
            "gridcolor": "white",
            "gridwidth": 2,
            "linecolor": "white",
            "showbackground": true,
            "ticks": "",
            "zerolinecolor": "white"
           },
           "zaxis": {
            "backgroundcolor": "#E5ECF6",
            "gridcolor": "white",
            "gridwidth": 2,
            "linecolor": "white",
            "showbackground": true,
            "ticks": "",
            "zerolinecolor": "white"
           }
          },
          "shapedefaults": {
           "line": {
            "color": "#2a3f5f"
           }
          },
          "ternary": {
           "aaxis": {
            "gridcolor": "white",
            "linecolor": "white",
            "ticks": ""
           },
           "baxis": {
            "gridcolor": "white",
            "linecolor": "white",
            "ticks": ""
           },
           "bgcolor": "#E5ECF6",
           "caxis": {
            "gridcolor": "white",
            "linecolor": "white",
            "ticks": ""
           }
          },
          "title": {
           "x": 0.05
          },
          "xaxis": {
           "automargin": true,
           "gridcolor": "white",
           "linecolor": "white",
           "ticks": "",
           "title": {
            "standoff": 15
           },
           "zerolinecolor": "white",
           "zerolinewidth": 2
          },
          "yaxis": {
           "automargin": true,
           "gridcolor": "white",
           "linecolor": "white",
           "ticks": "",
           "title": {
            "standoff": 15
           },
           "zerolinecolor": "white",
           "zerolinewidth": 2
          }
         }
        },
        "title": {
         "text": "Top Routes by Passenger Efficiency"
        },
        "xaxis": {
         "anchor": "y",
         "domain": [
          0,
          1
         ],
         "title": {
          "text": "Route"
         }
        },
        "yaxis": {
         "anchor": "x",
         "domain": [
          0,
          1
         ],
         "title": {
          "text": "Passenger Efficiency"
         }
        }
       }
      }
     },
     "metadata": {},
     "output_type": "display_data"
    }
   ],
   "source": [
    "functions.generate_report(df, graph)"
   ]
  },
  {
   "cell_type": "markdown",
   "metadata": {},
   "source": [
    "____\n",
    "After completing the analysis, answer the following questions:\n",
    "\n"
   ]
  },
  {
   "cell_type": "markdown",
   "metadata": {},
   "source": [
    "- Is the graph sparse or dense?\n"
   ]
  },
  {
   "cell_type": "markdown",
   "metadata": {},
   "source": []
  },
  {
   "cell_type": "markdown",
   "metadata": {},
   "source": [
    "-  What patterns do you observe in the degree distribution?\n"
   ]
  },
  {
   "cell_type": "markdown",
   "metadata": {},
   "source": []
  },
  {
   "cell_type": "markdown",
   "metadata": {},
   "source": [
    "- Which airports are identified as hubs, and why?\n"
   ]
  },
  {
   "cell_type": "markdown",
   "metadata": {},
   "source": []
  },
  {
   "cell_type": "markdown",
   "metadata": {},
   "source": [
    "- What are the busiest routes in terms of passenger traffic?\n"
   ]
  },
  {
   "cell_type": "markdown",
   "metadata": {},
   "source": []
  },
  {
   "cell_type": "markdown",
   "metadata": {},
   "source": [
    "- Which routes are under/over-utilized?\n"
   ]
  },
  {
   "cell_type": "markdown",
   "metadata": {},
   "source": []
  },
  {
   "cell_type": "markdown",
   "metadata": {},
   "source": [
    "## **Nodes' Contribution (Q2)**"
   ]
  },
  {
   "cell_type": "markdown",
   "metadata": {},
   "source": [
    "1. Implement a function `analyze_centrality(flight_network, airport)` that computes the following centrality measures for a given airport:\n",
    "\n",
    "\n",
    "    - *Betweenness* *centrality*: Measures how often a node appears on the shortest paths between other nodes.\n",
    "    \n",
    "    - *Closeness* *centrality*: Measures how easily a node can access all other nodes in the network.\n",
    "    \n",
    "    - *Degree* *centrality*: Simply counts the number of direct connections to the node.\n",
    "    \n",
    "    - *PageRank*: Computes the \"importance\" of a node based on incoming connections and their weights.\n"
   ]
  },
  {
   "cell_type": "code",
   "execution_count": null,
   "metadata": {},
   "outputs": [],
   "source": []
  },
  {
   "cell_type": "markdown",
   "metadata": {},
   "source": [
    "2.  Write a function `compare_centralities(flight_network)` to:\n",
    "\n",
    "    - Compute and compare centrality values for all nodes in the graph.\n",
    "    \n",
    "    - Plot centrality distributions (histograms for each centrality measure).\n",
    "    \n",
    "    - Return the top 5 airports for each centrality measure.\n",
    "\n"
   ]
  },
  {
   "cell_type": "code",
   "execution_count": null,
   "metadata": {},
   "outputs": [],
   "source": []
  },
  {
   "cell_type": "markdown",
   "metadata": {},
   "source": [
    "3. Ask LLM (eg. ChatGPT) to suggest alternative centrality measures that might be relevant to this task. How can you check that the results given by the LLM are trustable?"
   ]
  },
  {
   "cell_type": "code",
   "execution_count": null,
   "metadata": {},
   "outputs": [],
   "source": []
  },
  {
   "cell_type": "markdown",
   "metadata": {},
   "source": [
    "4. Implement one of these measures suggested by the LLM, compare its results to the centralities you've already computed, and analyze whether it adds any new insights."
   ]
  },
  {
   "cell_type": "code",
   "execution_count": null,
   "metadata": {},
   "outputs": [],
   "source": []
  },
  {
   "cell_type": "markdown",
   "metadata": {},
   "source": [
    "## **Finding Best Routes (Q3)**"
   ]
  },
  {
   "cell_type": "markdown",
   "metadata": {},
   "source": [
    "- In this task, you need to implement a function that, given an origin and destination city, determines the best possible route between them. To simplify, the focus will be limited to flights operating on a specific day."
   ]
  },
  {
   "cell_type": "markdown",
   "metadata": {},
   "source": [
    "**Note**: Each city may have multiple airports; in such cases, the function should calculate the best route for every possible airport pair between the two cities. For example, if city A has airports $a_1$ , $a_2$ and city B has $b_1$ , $b_2$ , the function should compute the best routes for $a_1 → b_1$ , $a_1 → b_2$ , $a_2 → b_1$ and $a_2 → b_2$ . If it’s not possible to travel from one airport in the origin city to another airport in the destination city on that date, you must report it as well."
   ]
  },
  {
   "cell_type": "code",
   "execution_count": null,
   "metadata": {},
   "outputs": [],
   "source": []
  },
  {
   "cell_type": "markdown",
   "metadata": {},
   "source": [
    "## **Airline Network Partitioning (Q4)**"
   ]
  },
  {
   "cell_type": "markdown",
   "metadata": {},
   "source": [
    "- In graph theory, this task is known as a graph disconnection problem. Your goal is to write a function that removes the minimum number of flights between airports to separate the original flight network into two disconnected subgraphs."
   ]
  },
  {
   "cell_type": "code",
   "execution_count": null,
   "metadata": {},
   "outputs": [],
   "source": []
  },
  {
   "cell_type": "markdown",
   "metadata": {},
   "source": [
    "## **Finding and Extracting Communities (Q5)**"
   ]
  },
  {
   "cell_type": "markdown",
   "metadata": {},
   "source": [
    "1. In this task, you are asked to analyze the graph and identify the communities based on the flight network provided. For the airline, the primary focus is on the cities, so your communities should reflect the connectivity between cities through the flights that link them."
   ]
  },
  {
   "cell_type": "code",
   "execution_count": null,
   "metadata": {},
   "outputs": [],
   "source": []
  },
  {
   "cell_type": "markdown",
   "metadata": {},
   "source": [
    "2. Ask a LLM (ChatGPT, Claude AI, Gemini, Perplexity, etc.) to suggest an alternative algorithm for extracting communities and explain the steps required to implement it. Then, implement this algorithm and compare its results with the current method you've chosen. Discuss the differences in the outcomes and analyze which approach you think is better, providing reasons for your choice."
   ]
  },
  {
   "cell_type": "code",
   "execution_count": null,
   "metadata": {},
   "outputs": [],
   "source": []
  },
  {
   "cell_type": "markdown",
   "metadata": {},
   "source": [
    "## **Bonus Question - Connected Components on MapReduce**"
   ]
  },
  {
   "cell_type": "markdown",
   "metadata": {},
   "source": [
    "1. In this task, you are required to use PySpark and the MapReduce paradigm to identify the connected components in a flight network graph. The focus should be on airports rather than cities. As you know, a connected component refers to a group of airports where every pair of airports within the group is connected either directly or indirectly."
   ]
  },
  {
   "cell_type": "code",
   "execution_count": null,
   "metadata": {},
   "outputs": [],
   "source": []
  },
  {
   "cell_type": "markdown",
   "metadata": {},
   "source": [
    "2. Compare the execution time and the results of your implementation with those of the GraphFrames package for identifying connected components. If there is any difference in the results, provide an explanation for why that might occur."
   ]
  },
  {
   "cell_type": "code",
   "execution_count": null,
   "metadata": {},
   "outputs": [],
   "source": []
  },
  {
   "cell_type": "markdown",
   "metadata": {},
   "source": [
    "## **Algorithmic Question (AQ)**"
   ]
  },
  {
   "cell_type": "markdown",
   "metadata": {},
   "source": [
    "Arya needs to travel between cities using a network of flights. Each flight has a fixed cost (in euros), and she wants to find the cheapest possible way to travel from her starting city to her destination city. However, there are some constraints on the journey:\n",
    "\n",
    "- Arya can make at most `k` stops during her trip (this means up to `k+1` flights).\n",
    "    \n",
    "- If no valid route exists within these constraints, the result should be `-1`.\n",
    "\n",
    "Given a graph of cities connected by flights, your job is to find the minimum cost for Arya to travel between two specified cities (`src` to `dst`) while following the constraints."
   ]
  },
  {
   "cell_type": "markdown",
   "metadata": {},
   "source": [
    "**a)** Write a pseudocode that describes the algorithm to find the cheapest route with at most k stops."
   ]
  },
  {
   "cell_type": "code",
   "execution_count": null,
   "metadata": {},
   "outputs": [],
   "source": []
  },
  {
   "cell_type": "markdown",
   "metadata": {},
   "source": [
    "**b)** Implement the algorithm in Python and simulate the given test cases."
   ]
  },
  {
   "cell_type": "code",
   "execution_count": null,
   "metadata": {},
   "outputs": [],
   "source": []
  },
  {
   "cell_type": "markdown",
   "metadata": {},
   "source": [
    "**c)** Analyze the algorithm's efficiency. Provide its time complexity and space complexity, and explain whether it is efficient for large graphs (e.g., `n > 100`)."
   ]
  },
  {
   "cell_type": "code",
   "execution_count": null,
   "metadata": {},
   "outputs": [],
   "source": []
  },
  {
   "cell_type": "markdown",
   "metadata": {},
   "source": [
    "**d)** Optimize the algorithm to handle larger graphs. Provide an updated pseudocode and analyze the computational complexity of your optimization."
   ]
  },
  {
   "cell_type": "code",
   "execution_count": null,
   "metadata": {},
   "outputs": [],
   "source": []
  },
  {
   "cell_type": "markdown",
   "metadata": {},
   "source": [
    "**e)** Ask LLM (e.g., ChatGPT) for an optimized version of your algorithm. Compare its solution to yours in terms of performance, time complexity, and correctness."
   ]
  },
  {
   "cell_type": "code",
   "execution_count": null,
   "metadata": {},
   "outputs": [],
   "source": []
  }
 ],
 "metadata": {
  "kernelspec": {
   "display_name": "Python 3",
   "language": "python",
   "name": "python3"
  },
  "language_info": {
   "codemirror_mode": {
    "name": "ipython",
    "version": 3
   },
   "file_extension": ".py",
   "mimetype": "text/x-python",
   "name": "python",
   "nbconvert_exporter": "python",
   "pygments_lexer": "ipython3",
   "version": "3.11.9"
  }
 },
 "nbformat": 4,
 "nbformat_minor": 2
}
