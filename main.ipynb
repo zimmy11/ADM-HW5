{
 "cells": [
  {
   "cell_type": "markdown",
   "metadata": {},
   "source": [
    "# **Homework 5 - USA Airport Flight Analysis**\n",
    "\n",
    "*Group#12*\n",
    "\n",
    "- **Marco Zimmatore** - [zimmatore.1947442@studenti.uniroma1.it](mailto:zimmatore.1947442@studenti.uniroma1.it)\n",
    "- **Davide Vitale** - [vitale.1794386@studenti.uniroma1.it](mailto:vitale.1794386@studenti.uniroma1.it)\n",
    "- **Darkhan Maksutov** - [maksutov.2113209@studenti.uniroma1.it](mailto:maksutov.2113209@studenti.uniroma1.it)\n",
    "- **Riccardo Soleo** - [soleo.1911063@studenti.uniroma1.it](mailto:soleo.1911063@studenti.uniroma1.it)\n",
    "\n",
    "___"
   ]
  },
  {
   "cell_type": "code",
   "execution_count": 5,
   "metadata": {},
   "outputs": [],
   "source": [
    "import functions\n",
    "import pandas as pd\n",
    "import numpy as np \n",
    "from IPython.display import display, Markdown\n",
    "import warnings\n",
    "import plotly.graph_objects as go\n",
    "from plotly.subplots import make_subplots\n",
    "\n",
    "# Suppress all warnings\n",
    "warnings.filterwarnings(\"ignore\")\n",
    "dataset_path = \"data/Airports2.csv\"       "
   ]
  },
  {
   "cell_type": "code",
   "execution_count": 6,
   "metadata": {},
   "outputs": [
    {
     "data": {
      "text/html": [
       "<div>\n",
       "<style scoped>\n",
       "    .dataframe tbody tr th:only-of-type {\n",
       "        vertical-align: middle;\n",
       "    }\n",
       "\n",
       "    .dataframe tbody tr th {\n",
       "        vertical-align: top;\n",
       "    }\n",
       "\n",
       "    .dataframe thead th {\n",
       "        text-align: right;\n",
       "    }\n",
       "</style>\n",
       "<table border=\"1\" class=\"dataframe\">\n",
       "  <thead>\n",
       "    <tr style=\"text-align: right;\">\n",
       "      <th></th>\n",
       "      <th>Origin_airport</th>\n",
       "      <th>Destination_airport</th>\n",
       "      <th>Origin_city</th>\n",
       "      <th>Destination_city</th>\n",
       "      <th>Passengers</th>\n",
       "      <th>Seats</th>\n",
       "      <th>Flights</th>\n",
       "      <th>Distance</th>\n",
       "      <th>Fly_date</th>\n",
       "      <th>Origin_population</th>\n",
       "      <th>Destination_population</th>\n",
       "      <th>Org_airport_lat</th>\n",
       "      <th>Org_airport_long</th>\n",
       "      <th>Dest_airport_lat</th>\n",
       "      <th>Dest_airport_long</th>\n",
       "    </tr>\n",
       "  </thead>\n",
       "  <tbody>\n",
       "    <tr>\n",
       "      <th>0</th>\n",
       "      <td>MHK</td>\n",
       "      <td>AMW</td>\n",
       "      <td>Manhattan, KS</td>\n",
       "      <td>Ames, IA</td>\n",
       "      <td>21</td>\n",
       "      <td>30</td>\n",
       "      <td>1</td>\n",
       "      <td>254</td>\n",
       "      <td>2008-10-01</td>\n",
       "      <td>122049</td>\n",
       "      <td>86219</td>\n",
       "      <td>39.140999</td>\n",
       "      <td>-96.670799</td>\n",
       "      <td>NaN</td>\n",
       "      <td>NaN</td>\n",
       "    </tr>\n",
       "    <tr>\n",
       "      <th>1</th>\n",
       "      <td>EUG</td>\n",
       "      <td>RDM</td>\n",
       "      <td>Eugene, OR</td>\n",
       "      <td>Bend, OR</td>\n",
       "      <td>41</td>\n",
       "      <td>396</td>\n",
       "      <td>22</td>\n",
       "      <td>103</td>\n",
       "      <td>1990-11-01</td>\n",
       "      <td>284093</td>\n",
       "      <td>76034</td>\n",
       "      <td>44.124599</td>\n",
       "      <td>-123.211998</td>\n",
       "      <td>44.254101</td>\n",
       "      <td>-121.150002</td>\n",
       "    </tr>\n",
       "    <tr>\n",
       "      <th>2</th>\n",
       "      <td>EUG</td>\n",
       "      <td>RDM</td>\n",
       "      <td>Eugene, OR</td>\n",
       "      <td>Bend, OR</td>\n",
       "      <td>88</td>\n",
       "      <td>342</td>\n",
       "      <td>19</td>\n",
       "      <td>103</td>\n",
       "      <td>1990-12-01</td>\n",
       "      <td>284093</td>\n",
       "      <td>76034</td>\n",
       "      <td>44.124599</td>\n",
       "      <td>-123.211998</td>\n",
       "      <td>44.254101</td>\n",
       "      <td>-121.150002</td>\n",
       "    </tr>\n",
       "    <tr>\n",
       "      <th>3</th>\n",
       "      <td>EUG</td>\n",
       "      <td>RDM</td>\n",
       "      <td>Eugene, OR</td>\n",
       "      <td>Bend, OR</td>\n",
       "      <td>11</td>\n",
       "      <td>72</td>\n",
       "      <td>4</td>\n",
       "      <td>103</td>\n",
       "      <td>1990-10-01</td>\n",
       "      <td>284093</td>\n",
       "      <td>76034</td>\n",
       "      <td>44.124599</td>\n",
       "      <td>-123.211998</td>\n",
       "      <td>44.254101</td>\n",
       "      <td>-121.150002</td>\n",
       "    </tr>\n",
       "    <tr>\n",
       "      <th>4</th>\n",
       "      <td>MFR</td>\n",
       "      <td>RDM</td>\n",
       "      <td>Medford, OR</td>\n",
       "      <td>Bend, OR</td>\n",
       "      <td>0</td>\n",
       "      <td>18</td>\n",
       "      <td>1</td>\n",
       "      <td>156</td>\n",
       "      <td>1990-02-01</td>\n",
       "      <td>147300</td>\n",
       "      <td>76034</td>\n",
       "      <td>42.374199</td>\n",
       "      <td>-122.873001</td>\n",
       "      <td>44.254101</td>\n",
       "      <td>-121.150002</td>\n",
       "    </tr>\n",
       "  </tbody>\n",
       "</table>\n",
       "</div>"
      ],
      "text/plain": [
       "  Origin_airport Destination_airport    Origin_city Destination_city  \\\n",
       "0            MHK                 AMW  Manhattan, KS         Ames, IA   \n",
       "1            EUG                 RDM     Eugene, OR         Bend, OR   \n",
       "2            EUG                 RDM     Eugene, OR         Bend, OR   \n",
       "3            EUG                 RDM     Eugene, OR         Bend, OR   \n",
       "4            MFR                 RDM    Medford, OR         Bend, OR   \n",
       "\n",
       "   Passengers  Seats  Flights  Distance    Fly_date  Origin_population  \\\n",
       "0          21     30        1       254  2008-10-01             122049   \n",
       "1          41    396       22       103  1990-11-01             284093   \n",
       "2          88    342       19       103  1990-12-01             284093   \n",
       "3          11     72        4       103  1990-10-01             284093   \n",
       "4           0     18        1       156  1990-02-01             147300   \n",
       "\n",
       "   Destination_population  Org_airport_lat  Org_airport_long  \\\n",
       "0                   86219        39.140999        -96.670799   \n",
       "1                   76034        44.124599       -123.211998   \n",
       "2                   76034        44.124599       -123.211998   \n",
       "3                   76034        44.124599       -123.211998   \n",
       "4                   76034        42.374199       -122.873001   \n",
       "\n",
       "   Dest_airport_lat  Dest_airport_long  \n",
       "0               NaN                NaN  \n",
       "1         44.254101        -121.150002  \n",
       "2         44.254101        -121.150002  \n",
       "3         44.254101        -121.150002  \n",
       "4         44.254101        -121.150002  "
      ]
     },
     "execution_count": 6,
     "metadata": {},
     "output_type": "execute_result"
    }
   ],
   "source": [
    "df = pd.read_csv(dataset_path)\n",
    "df.head()"
   ]
  },
  {
   "cell_type": "markdown",
   "metadata": {},
   "source": [
    "> We wanna build a graph with edges for each route, where each node represents an airport and eac edge is the existent route between two airports, with all the infos on that route. For this reason, we decide to remove all the rows with *NA* values in them, because each information is crucial for the next exercises computations."
   ]
  },
  {
   "cell_type": "markdown",
   "metadata": {},
   "source": [
    "> We remove also all the flights that have $Distance = 0$, because they dont make sense for our next exercises."
   ]
  },
  {
   "cell_type": "code",
   "execution_count": 7,
   "metadata": {},
   "outputs": [
    {
     "data": {
      "text/html": [
       "<div>\n",
       "<style scoped>\n",
       "    .dataframe tbody tr th:only-of-type {\n",
       "        vertical-align: middle;\n",
       "    }\n",
       "\n",
       "    .dataframe tbody tr th {\n",
       "        vertical-align: top;\n",
       "    }\n",
       "\n",
       "    .dataframe thead th {\n",
       "        text-align: right;\n",
       "    }\n",
       "</style>\n",
       "<table border=\"1\" class=\"dataframe\">\n",
       "  <thead>\n",
       "    <tr style=\"text-align: right;\">\n",
       "      <th></th>\n",
       "      <th>Origin_airport</th>\n",
       "      <th>Destination_airport</th>\n",
       "      <th>Origin_city</th>\n",
       "      <th>Destination_city</th>\n",
       "      <th>Passengers</th>\n",
       "      <th>Seats</th>\n",
       "      <th>Flights</th>\n",
       "      <th>Distance</th>\n",
       "      <th>Fly_date</th>\n",
       "      <th>Origin_population</th>\n",
       "      <th>Destination_population</th>\n",
       "      <th>Org_airport_lat</th>\n",
       "      <th>Org_airport_long</th>\n",
       "      <th>Dest_airport_lat</th>\n",
       "      <th>Dest_airport_long</th>\n",
       "    </tr>\n",
       "  </thead>\n",
       "  <tbody>\n",
       "    <tr>\n",
       "      <th>1</th>\n",
       "      <td>EUG</td>\n",
       "      <td>RDM</td>\n",
       "      <td>Eugene, OR</td>\n",
       "      <td>Bend, OR</td>\n",
       "      <td>41</td>\n",
       "      <td>396</td>\n",
       "      <td>22</td>\n",
       "      <td>103</td>\n",
       "      <td>1990-11-01</td>\n",
       "      <td>284093</td>\n",
       "      <td>76034</td>\n",
       "      <td>44.124599</td>\n",
       "      <td>-123.211998</td>\n",
       "      <td>44.254101</td>\n",
       "      <td>-121.150002</td>\n",
       "    </tr>\n",
       "    <tr>\n",
       "      <th>2</th>\n",
       "      <td>EUG</td>\n",
       "      <td>RDM</td>\n",
       "      <td>Eugene, OR</td>\n",
       "      <td>Bend, OR</td>\n",
       "      <td>88</td>\n",
       "      <td>342</td>\n",
       "      <td>19</td>\n",
       "      <td>103</td>\n",
       "      <td>1990-12-01</td>\n",
       "      <td>284093</td>\n",
       "      <td>76034</td>\n",
       "      <td>44.124599</td>\n",
       "      <td>-123.211998</td>\n",
       "      <td>44.254101</td>\n",
       "      <td>-121.150002</td>\n",
       "    </tr>\n",
       "    <tr>\n",
       "      <th>3</th>\n",
       "      <td>EUG</td>\n",
       "      <td>RDM</td>\n",
       "      <td>Eugene, OR</td>\n",
       "      <td>Bend, OR</td>\n",
       "      <td>11</td>\n",
       "      <td>72</td>\n",
       "      <td>4</td>\n",
       "      <td>103</td>\n",
       "      <td>1990-10-01</td>\n",
       "      <td>284093</td>\n",
       "      <td>76034</td>\n",
       "      <td>44.124599</td>\n",
       "      <td>-123.211998</td>\n",
       "      <td>44.254101</td>\n",
       "      <td>-121.150002</td>\n",
       "    </tr>\n",
       "    <tr>\n",
       "      <th>4</th>\n",
       "      <td>MFR</td>\n",
       "      <td>RDM</td>\n",
       "      <td>Medford, OR</td>\n",
       "      <td>Bend, OR</td>\n",
       "      <td>0</td>\n",
       "      <td>18</td>\n",
       "      <td>1</td>\n",
       "      <td>156</td>\n",
       "      <td>1990-02-01</td>\n",
       "      <td>147300</td>\n",
       "      <td>76034</td>\n",
       "      <td>42.374199</td>\n",
       "      <td>-122.873001</td>\n",
       "      <td>44.254101</td>\n",
       "      <td>-121.150002</td>\n",
       "    </tr>\n",
       "    <tr>\n",
       "      <th>5</th>\n",
       "      <td>MFR</td>\n",
       "      <td>RDM</td>\n",
       "      <td>Medford, OR</td>\n",
       "      <td>Bend, OR</td>\n",
       "      <td>11</td>\n",
       "      <td>18</td>\n",
       "      <td>1</td>\n",
       "      <td>156</td>\n",
       "      <td>1990-03-01</td>\n",
       "      <td>147300</td>\n",
       "      <td>76034</td>\n",
       "      <td>42.374199</td>\n",
       "      <td>-122.873001</td>\n",
       "      <td>44.254101</td>\n",
       "      <td>-121.150002</td>\n",
       "    </tr>\n",
       "  </tbody>\n",
       "</table>\n",
       "</div>"
      ],
      "text/plain": [
       "  Origin_airport Destination_airport  Origin_city Destination_city  \\\n",
       "1            EUG                 RDM   Eugene, OR         Bend, OR   \n",
       "2            EUG                 RDM   Eugene, OR         Bend, OR   \n",
       "3            EUG                 RDM   Eugene, OR         Bend, OR   \n",
       "4            MFR                 RDM  Medford, OR         Bend, OR   \n",
       "5            MFR                 RDM  Medford, OR         Bend, OR   \n",
       "\n",
       "   Passengers  Seats  Flights  Distance    Fly_date  Origin_population  \\\n",
       "1          41    396       22       103  1990-11-01             284093   \n",
       "2          88    342       19       103  1990-12-01             284093   \n",
       "3          11     72        4       103  1990-10-01             284093   \n",
       "4           0     18        1       156  1990-02-01             147300   \n",
       "5          11     18        1       156  1990-03-01             147300   \n",
       "\n",
       "   Destination_population  Org_airport_lat  Org_airport_long  \\\n",
       "1                   76034        44.124599       -123.211998   \n",
       "2                   76034        44.124599       -123.211998   \n",
       "3                   76034        44.124599       -123.211998   \n",
       "4                   76034        42.374199       -122.873001   \n",
       "5                   76034        42.374199       -122.873001   \n",
       "\n",
       "   Dest_airport_lat  Dest_airport_long  \n",
       "1         44.254101        -121.150002  \n",
       "2         44.254101        -121.150002  \n",
       "3         44.254101        -121.150002  \n",
       "4         44.254101        -121.150002  \n",
       "5         44.254101        -121.150002  "
      ]
     },
     "execution_count": 7,
     "metadata": {},
     "output_type": "execute_result"
    }
   ],
   "source": [
    "df = df.dropna()\n",
    "df = df[df['Distance'] > 0]\n",
    "df.head()"
   ]
  },
  {
   "cell_type": "markdown",
   "metadata": {},
   "source": [
    "> We print the data types of the columns"
   ]
  },
  {
   "cell_type": "code",
   "execution_count": 8,
   "metadata": {},
   "outputs": [
    {
     "name": "stdout",
     "output_type": "stream",
     "text": [
      "(3588781, 15)\n"
     ]
    },
    {
     "data": {
      "text/plain": [
       "Origin_airport             object\n",
       "Destination_airport        object\n",
       "Origin_city                object\n",
       "Destination_city           object\n",
       "Passengers                  int64\n",
       "Seats                       int64\n",
       "Flights                     int64\n",
       "Distance                    int64\n",
       "Fly_date                   object\n",
       "Origin_population           int64\n",
       "Destination_population      int64\n",
       "Org_airport_lat           float64\n",
       "Org_airport_long          float64\n",
       "Dest_airport_lat          float64\n",
       "Dest_airport_long         float64\n",
       "dtype: object"
      ]
     },
     "execution_count": 8,
     "metadata": {},
     "output_type": "execute_result"
    }
   ],
   "source": [
    "print(df.shape)\n",
    "df.dtypes"
   ]
  },
  {
   "cell_type": "markdown",
   "metadata": {},
   "source": [
    "> Before storing the dataframe into a Graph, we wanna decide if the graph has to be directed or undirected. For this reason we compute the number of *Bidirectional* routes compared to the number of *Unidirectional* routes. \n",
    "\n"
   ]
  },
  {
   "cell_type": "code",
   "execution_count": 9,
   "metadata": {},
   "outputs": [
    {
     "data": {
      "text/plain": [
       "is_bidirectional\n",
       "1    60.557028\n",
       "0    39.442972\n",
       "Name: count, dtype: float64"
      ]
     },
     "execution_count": 9,
     "metadata": {},
     "output_type": "execute_result"
    }
   ],
   "source": [
    "# Create a copy of the dataframe\n",
    "df_undirected_edges = df[['Origin_airport', 'Destination_airport']].copy()\n",
    "\n",
    "# Create a normalized key to represent bidirectional routes\n",
    "df_undirected_edges['normalized_key'] = df.apply(\n",
    "    lambda row: tuple(sorted([row['Origin_airport'], row['Destination_airport']])), axis=1\n",
    ")\n",
    "\n",
    "# Add a column to represent the actual direction of the route\n",
    "df_undirected_edges['direction'] = df.apply(\n",
    "    lambda row: (row['Origin_airport'], row['Destination_airport']), axis=1\n",
    ")\n",
    "\n",
    "# Add a column to represent the reverse direction of the route\n",
    "df_undirected_edges['reverse_direction'] = df.apply(\n",
    "    lambda row: (row['Destination_airport'], row['Origin_airport']), axis=1\n",
    ")\n",
    "\n",
    "# Group by normalized_key and collect all directions and reverse directions\n",
    "grouped_undirected = df_undirected_edges.groupby('normalized_key').agg(\n",
    "    directions=('direction', list),  # List of all actual directions\n",
    "    reverse_directions=('reverse_direction', list)  # List of all reverse directions\n",
    ").reset_index()\n",
    "\n",
    "# Check if both directions exist for each route\n",
    "grouped_undirected['is_bidirectional'] = grouped_undirected.apply(\n",
    "    lambda row: 1 if any(d in row['reverse_directions'] for d in row['directions']) else 0, axis=1\n",
    ")\n",
    "# We compute the Percentage between bidirectional and unidirectiona routes\n",
    "grouped_undirected['is_bidirectional'].value_counts() * 100 / grouped_undirected.shape[0]"
   ]
  },
  {
   "cell_type": "markdown",
   "metadata": {},
   "source": [
    "> Since the Number of Bidirectional routes is not too high compared to the Unidirectional Routes, we can proceed using a **Directed Graph** module in *NetworkX*.\n",
    "___"
   ]
  },
  {
   "cell_type": "markdown",
   "metadata": {},
   "source": [
    "## **Flight Network Analysis (Q1)**\n",
    "___"
   ]
  },
  {
   "cell_type": "markdown",
   "metadata": {},
   "source": [
    "Before going deep in the exercises, we store the Dataframe in a Graph.\n",
    "\n",
    "**Function** `create_airport_graph`\n",
    "\n",
    "- The function `create_airport_graph(df)` creates a directed graph using the **Networkx** library from a DataFrame containing airports and flight data.\n",
    "\n",
    "- For the reasons explained above, we decide to use a **DiGraph** structure because we want to store only 2 connections per route at max. \n",
    "\n",
    "- For each row in the DataFrame, it adds two nodes (representing the origin and destination airports) to the graph, along with attributes such as city, population, latitude, and longitude.\n",
    "\n",
    "-  It then adds a directed edge between the origin and destination airports, with attributes like the number of passengers, flights, seats, **weight as distance**, and flight date."
   ]
  },
  {
   "cell_type": "code",
   "execution_count": 10,
   "metadata": {},
   "outputs": [
    {
     "name": "stdout",
     "output_type": "stream",
     "text": [
      "DiGraph with 483 nodes and 34531 edges\n"
     ]
    }
   ],
   "source": [
    "graph = functions.create_airport_graph(df)\n",
    "print(graph)"
   ]
  },
  {
   "cell_type": "markdown",
   "metadata": {},
   "source": [
    "> We can notice that only a subset of all the connections have been stored, since the *NetworkX* *DiGraph* structure allows only two edges per route at max."
   ]
  },
  {
   "cell_type": "markdown",
   "metadata": {},
   "source": [
    "**Remark**: all the functions displayed and explained below in the $Q_1$, will be runned in the last section (to generate the report), in order to be tidier and not to be too verbose, so that the report can be understood without ripetitions.\n",
    "___"
   ]
  },
  {
   "cell_type": "markdown",
   "metadata": {},
   "source": [
    "1. Implement a function `analyze_graph_features(flight_network)` that takes the flight network as input and computes the following:\n",
    "\n",
    "    - Count the number of airports (`nodes`) and flights (`edges`) in the graph.\n",
    "\n",
    "    - Compute the density of the graph using the formula: $ Density = \\frac{2\\times E}{N(N − 1)}$\n",
    "\n",
    "    - Calculate both `in-degree` and `out-degree` for each airport and visualize them using histograms.\n",
    "\n",
    "    - Identify airports with degrees higher than the 90th percentile and list them as \"`hubs`\".\n",
    "    \n",
    "    - Determine if the graph is sparse or dense based on its density.\n",
    "\n"
   ]
  },
  {
   "cell_type": "markdown",
   "metadata": {},
   "source": [
    "**Function** `analyze_graph_features(flight_network)` \n",
    "\n",
    "- It counts the total number of nodes (airports) and edges (flight routes) in the graph iterating over the number of the nodes and the edges to calculate the *in-degrees* and *out_degrees* of each node and storing them into a dictionary.\n",
    "\n",
    "- It calculates the graph density, which is the ratio of the actual number of edges to the maximum possible number of edges in a directed graph with the same number of nodes. Since we are using a **Directed Graph** the formula used is: $$Density = \\frac{\\text{Number of Edges}}{\\text{Number of nodes} \\times (\\text{Number of nodes} - 1)}$$ \n",
    "\n",
    "- Then we create two Histograms using **Plotly**, one for *in-degrees* and one for *out-degrees*\n",
    "\n",
    "- It calculates the 90th percentile of the total degree (sum of in-degree and out-degree) across all nodes. Nodes that have a degree higher than this percentile are considered \"**hubs**\" (highly connected airports).\n",
    "\n",
    "- In the end, it checks whether the graph is dense or sparse based on the calculated graph density. If the density is greater than a threshold (0.5), the graph is considered dense, otherwise it is sparse.\n",
    "​\n"
   ]
  },
  {
   "cell_type": "code",
   "execution_count": 7,
   "metadata": {},
   "outputs": [],
   "source": [
    "def analyze_graph_features(flight_network):\n",
    "    # Initialize variables to store the number of nodes and edges\n",
    "    number_of_nodes = 0\n",
    "    number_of_edges = len(flight_network.edges())  # Count the number of edges in the graph\n",
    "    dict_degrees_edges = dict()  # Create an empty dictionary to store in-degrees and out-degrees for each node\n",
    "\n",
    "    # Iterate over each node in the flight network\n",
    "    for node in flight_network.nodes:\n",
    "        number_of_nodes = number_of_nodes + 1  # Increment the node count\n",
    "\n",
    "        in_edges = 0  # Initialize in-degree counter\n",
    "        out_edges = 0  # Initialize out-degree counter\n",
    "\n",
    "        # Count the outgoing edges from the current node\n",
    "        for _, _, attr in flight_network.edges(node, data=True):\n",
    "            out_edges += 1\n",
    "\n",
    "        # Count the incoming edges to the current node\n",
    "        for _, _, attr in flight_network.in_edges(node, data=True):\n",
    "            in_edges += 1\n",
    "\n",
    "        # Store the in-degree and out-degree for the current node in the dictionary\n",
    "        dict_degrees_edges[node] = [in_edges, out_edges]\n",
    "\n",
    "    # Calculate graph density using the formula\n",
    "    graph_density = (number_of_edges) / (number_of_nodes * (number_of_nodes - 1))\n",
    "\n",
    "    # Extract the in-degrees and out-degrees from the dictionary for histogram plotting\n",
    "    in_degrees = [edge_degree[0] for edge_degree in dict_degrees_edges.values()]\n",
    "    out_degrees = [edge_degree[1] for edge_degree in dict_degrees_edges.values()]\n",
    "\n",
    "    # Create a subplot with 1 row and 2 columns to display histograms for in-degrees and out-degrees\n",
    "    fig = make_subplots(rows=1, cols=2, subplot_titles=('In-degree Histogram', 'Out-degree Histogram'))\n",
    "\n",
    "    # Add in-degree histogram to the first subplot (left)\n",
    "    fig.add_trace(\n",
    "        go.Histogram(x=in_degrees, nbinsx=20, name='In-degree', marker=dict(color='steelblue')),\n",
    "        row=1, col=1\n",
    "    )\n",
    "\n",
    "    # Add out-degree histogram to the second subplot (right)\n",
    "    fig.add_trace(\n",
    "        go.Histogram(x=out_degrees, nbinsx=20, name='Out-degree', marker=dict(color='darkorange')),\n",
    "        row=1, col=2\n",
    "    )\n",
    "\n",
    "    # Update layout for better aesthetics\n",
    "    fig.update_layout(\n",
    "        title=\"In-degree vs Out-degree Histograms\",  # Set the title of the plot\n",
    "        xaxis_title=\"Degree\",  # Label for x-axis\n",
    "        yaxis_title=\"Frequency\",  # Label for y-axis\n",
    "        showlegend=True,  # Display legend\n",
    "        height=500,  # Adjust the height of the figure\n",
    "        width=1000   # Adjust the width of the figure\n",
    "    )\n",
    "\n",
    "    # Calculate the 90th percentile for the total degrees (in-degree + out-degree) of each node\n",
    "\n",
    "    # Build a dictionary to compute the total degree value (in-degree + out-degree) for each node\n",
    "    dict_degrees = dict()\n",
    "\n",
    "    # Iterate over the nodes and calculate the total degree for each\n",
    "    for node, degrees in dict_degrees_edges.items():\n",
    "        dict_degrees[node] = degrees[0] + degrees[1]  # Sum in-degree and out-degree for each node\n",
    "\n",
    "    # Use numpy's percentile function to get the 90th percentile of the degrees\n",
    "    degree_percentile = np.percentile(list(dict_degrees.values()), 90)\n",
    "\n",
    "    # Identify nodes (airports) that are \"hubs\", meaning their total degree is greater than the 90th percentile\n",
    "    hubs = []\n",
    "\n",
    "    # Iterate over the nodes and check if their total degree exceeds the 90th percentile\n",
    "    for node, degree in dict_degrees.items():\n",
    "        if degree > degree_percentile:\n",
    "            hubs.append((node, degree))  # Add the node and its degree to the list of hubs\n",
    "\n",
    "    threshold = 0.5  # Set a threshold to decide if the graph is dense or sparse\n",
    "\n",
    "    # Check if the graph is dense or sparse based on the density calculated earlier\n",
    "    if graph_density > threshold:\n",
    "        is_sparse = False  # If the density is greater than the threshold, the graph is considered dense\n",
    "    else:\n",
    "        is_sparse = True  # Otherwise, the graph is considered sparse\n",
    "\n",
    "    # Return the number of nodes, the number of edges, the figure with histograms, the list of hubs, and whether the graph is sparse\n",
    "    return number_of_nodes, number_of_edges, fig, hubs, is_sparse\n"
   ]
  },
  {
   "cell_type": "markdown",
   "metadata": {},
   "source": [
    "2. Write a function `summarize_graph_features(flight_network)` that generates a detailed report of the graph's features. A summary report needs to include:\n",
    "\n",
    "    - The number of nodes and edges.\n",
    "    \n",
    "    - The graph density.\n",
    "    \n",
    "    - Degree distribution plots for in-degree and out-degree.\n",
    "    \n",
    "    - A table of identified hubs.\n",
    "\n"
   ]
  },
  {
   "cell_type": "markdown",
   "metadata": {},
   "source": [
    "**Function** `summarize_graph_features(flight_network)`\n",
    "\n",
    "\n",
    "The `summarize_graph_features(flight_network)` function analyzes the features of a flight network graph and generates a summary of the graph's properties:\n",
    "\n",
    "- **Analyzes Graph Features**: It uses the `analyze_graph_features` function to compute key metrics of the flight network, we have described above\n",
    "\n",
    "- **Creates a Summary Table**: The function generates a markdown table summarizing the following metrics:\n",
    "\n",
    "    - **Number of airports**\n",
    "\n",
    "    - **Number of flights** \n",
    "\n",
    "    - **Graph density**\n",
    "\n",
    "    - **Graph classification** (whether the graph is sparse or dense)\n",
    "\n",
    "- **Displays Hubs**: It creates and displays a table of identified \"*hubs*\" listing the airports with the highest degree in the network, alongside their degree values (number of connections).\n",
    "\n",
    "- **Displays Degree Distribution**: The function also visualizes and displays the degree distribution histogram, which shows the distribution of in-degrees and out-degrees across the airports (nodes) in the network"
   ]
  },
  {
   "cell_type": "code",
   "execution_count": 8,
   "metadata": {},
   "outputs": [],
   "source": [
    "def summarize_graph_features(flight_network):\n",
    "    # Analyze graph features\n",
    "    number_of_nodes, number_of_edges, degree_histogram, hubs, is_sparse = analyze_graph_features(flight_network)\n",
    "\n",
    "    # Create a textual summary\n",
    "    density_description = \"dense\" if not is_sparse else \"sparse\"\n",
    "    summary_table = f\"\"\"\n",
    "| Metric                  | Value                      |\n",
    "|-------------------------|----------------------------|\n",
    "| **Number of Airports**      | {number_of_nodes}          |\n",
    "| **Number of Flights**       | {number_of_edges}          |\n",
    "| **Graph Density**           | {'{:.4f}'.format((2 * number_of_edges) / (number_of_nodes * (number_of_nodes - 1)))}|\n",
    "| **Graph Classification**    | {density_description.capitalize()} |\n",
    "\"\"\"\n",
    "\n",
    "    row_labels = \"| Hubs (Airports)          | \" + \" | \".join([hub[0] for hub in hubs]) + \" |\\n\"\n",
    "    separator_row = \"|-----------------| \" + \" | \".join([\"---\"] * len(hubs)) + \" |\\n\"\n",
    "    # Create the degree row\n",
    "    degree_row = \"| **Degrees**          | \" + \" | \".join([str(hub[1]) for hub in hubs]) + \" |\\n\"\n",
    "\n",
    "    # Combine rows into the Markdown table\n",
    "    hubs_table = row_labels + separator_row + degree_row\n",
    "\n",
    "    display(Markdown(\"## **Graph Features Summary**\"))\n",
    "\n",
    "    # Display summary\n",
    "    display(Markdown(summary_table))\n",
    "\n",
    "    display(Markdown(\"### **Identified Hubs**\"))\n",
    "    # Display the hubs table\n",
    "    display(Markdown(hubs_table))\n",
    "\n",
    "    # Display the degree distribution histogram\n",
    "    display(Markdown(\"### **Degree Distribution**\"))\n",
    "    degree_histogram.show()\n",
    "\n"
   ]
  },
  {
   "cell_type": "markdown",
   "metadata": {},
   "source": [
    "3. Now let's dive deeper into the analysis of the dataset. Do the following:\n",
    "    \n",
    "    - Compute total passenger flow between origin and destination cities.\n",
    "\n",
    "    - Identify and visualize the busiest routes by passenger traffic.\n",
    "\n",
    "    - Calculate the average passengers per flight for each route and highlight under/over-utilized connections.\n",
    "\n",
    "    - Create an interactive map visualizing the geographic spread of the flight network."
   ]
  },
  {
   "cell_type": "markdown",
   "metadata": {},
   "source": [
    "> We split the workload of this exercise in two functions: `analysis_traffic_passengers(df)` and  `create_interactive_map(df)`"
   ]
  },
  {
   "cell_type": "markdown",
   "metadata": {},
   "source": [
    "**Function**  `analysis_traffic_passengers(df)`\n",
    "\n",
    "The `analysis_traffic_passengers` function analyzes passenger traffic data for flight routes and generates several outputs to help understand the busiest routes, average passengers per route, and least traveled routes:\n",
    "\n",
    "-  The function takes in a *DataFrame* containing flight data and an optional parameter, `number_of_busiest_routes` (default set to 10), to define how many routes to display. \n",
    "\n",
    "- **Busiest Routes** (by Total Passengers):\n",
    "\n",
    "    - The data is grouped by origin and destination airports, and the total number of passengers per route is calculated.\n",
    "\n",
    "    - The routes are sorted by total passengers in descending order, and the top `number_of_busiest_routes` routes are selected.\n",
    "    \n",
    "    - A new column, `Route`, is created by combining the origin and destination airports for easy display.\n",
    "\n",
    "    - A Plotly bar plot is generated to visualize the busiest routes with the total number of passengers.\n",
    "\n",
    "- **Average Traffic Per Route**:\n",
    "\n",
    "    - The function calculates the average number of passengers per route by grouping the data by origin and destination airports.\n",
    "\n",
    "    - The routes are sorted by average passengers in descending order to identify the busiest routes in terms of average passengers.\n",
    "\n",
    "    - Similarly, the routes with the least average passengers are sorted in ascending order.\n",
    "\n"
   ]
  },
  {
   "cell_type": "code",
   "execution_count": 9,
   "metadata": {},
   "outputs": [
    {
     "data": {
      "application/vnd.plotly.v1+json": {
       "config": {
        "plotlyServerURL": "https://plot.ly"
       },
       "data": [
        {
         "alignmentgroup": "True",
         "hovertemplate": "Route=%{x}<br>Total Number of Passengers=%{marker.color}<extra></extra>",
         "legendgroup": "",
         "marker": {
          "color": [
           32364612,
           29744742,
           28964154,
           28632161,
           26333721,
           26177809,
           25661782,
           25458207,
           23483751,
           22979359
          ],
          "coloraxis": "coloraxis",
          "pattern": {
           "shape": ""
          }
         },
         "name": "",
         "offsetgroup": "",
         "orientation": "v",
         "showlegend": false,
         "textposition": "auto",
         "type": "bar",
         "x": [
          "OGG -> HNL",
          "HNL -> OGG",
          "LAX -> HNL",
          "HNL -> LAX",
          "LAS -> LAX",
          "LAX -> LAS",
          "LAX -> SFO",
          "SFO -> LAX",
          "ATL -> MCO",
          "ORD -> LAX"
         ],
         "xaxis": "x",
         "y": [
          32364612,
          29744742,
          28964154,
          28632161,
          26333721,
          26177809,
          25661782,
          25458207,
          23483751,
          22979359
         ],
         "yaxis": "y"
        }
       ],
       "layout": {
        "barmode": "group",
        "coloraxis": {
         "colorbar": {
          "title": {
           "text": "Total Number of Passengers"
          }
         },
         "colorscale": [
          [
           0,
           "#0d0887"
          ],
          [
           0.1111111111111111,
           "#46039f"
          ],
          [
           0.2222222222222222,
           "#7201a8"
          ],
          [
           0.3333333333333333,
           "#9c179e"
          ],
          [
           0.4444444444444444,
           "#bd3786"
          ],
          [
           0.5555555555555556,
           "#d8576b"
          ],
          [
           0.6666666666666666,
           "#ed7953"
          ],
          [
           0.7777777777777778,
           "#fb9f3a"
          ],
          [
           0.8888888888888888,
           "#fdca26"
          ],
          [
           1,
           "#f0f921"
          ]
         ]
        },
        "legend": {
         "tracegroupgap": 0
        },
        "template": {
         "data": {
          "bar": [
           {
            "error_x": {
             "color": "#2a3f5f"
            },
            "error_y": {
             "color": "#2a3f5f"
            },
            "marker": {
             "line": {
              "color": "#E5ECF6",
              "width": 0.5
             },
             "pattern": {
              "fillmode": "overlay",
              "size": 10,
              "solidity": 0.2
             }
            },
            "type": "bar"
           }
          ],
          "barpolar": [
           {
            "marker": {
             "line": {
              "color": "#E5ECF6",
              "width": 0.5
             },
             "pattern": {
              "fillmode": "overlay",
              "size": 10,
              "solidity": 0.2
             }
            },
            "type": "barpolar"
           }
          ],
          "carpet": [
           {
            "aaxis": {
             "endlinecolor": "#2a3f5f",
             "gridcolor": "white",
             "linecolor": "white",
             "minorgridcolor": "white",
             "startlinecolor": "#2a3f5f"
            },
            "baxis": {
             "endlinecolor": "#2a3f5f",
             "gridcolor": "white",
             "linecolor": "white",
             "minorgridcolor": "white",
             "startlinecolor": "#2a3f5f"
            },
            "type": "carpet"
           }
          ],
          "choropleth": [
           {
            "colorbar": {
             "outlinewidth": 0,
             "ticks": ""
            },
            "type": "choropleth"
           }
          ],
          "contour": [
           {
            "colorbar": {
             "outlinewidth": 0,
             "ticks": ""
            },
            "colorscale": [
             [
              0,
              "#0d0887"
             ],
             [
              0.1111111111111111,
              "#46039f"
             ],
             [
              0.2222222222222222,
              "#7201a8"
             ],
             [
              0.3333333333333333,
              "#9c179e"
             ],
             [
              0.4444444444444444,
              "#bd3786"
             ],
             [
              0.5555555555555556,
              "#d8576b"
             ],
             [
              0.6666666666666666,
              "#ed7953"
             ],
             [
              0.7777777777777778,
              "#fb9f3a"
             ],
             [
              0.8888888888888888,
              "#fdca26"
             ],
             [
              1,
              "#f0f921"
             ]
            ],
            "type": "contour"
           }
          ],
          "contourcarpet": [
           {
            "colorbar": {
             "outlinewidth": 0,
             "ticks": ""
            },
            "type": "contourcarpet"
           }
          ],
          "heatmap": [
           {
            "colorbar": {
             "outlinewidth": 0,
             "ticks": ""
            },
            "colorscale": [
             [
              0,
              "#0d0887"
             ],
             [
              0.1111111111111111,
              "#46039f"
             ],
             [
              0.2222222222222222,
              "#7201a8"
             ],
             [
              0.3333333333333333,
              "#9c179e"
             ],
             [
              0.4444444444444444,
              "#bd3786"
             ],
             [
              0.5555555555555556,
              "#d8576b"
             ],
             [
              0.6666666666666666,
              "#ed7953"
             ],
             [
              0.7777777777777778,
              "#fb9f3a"
             ],
             [
              0.8888888888888888,
              "#fdca26"
             ],
             [
              1,
              "#f0f921"
             ]
            ],
            "type": "heatmap"
           }
          ],
          "heatmapgl": [
           {
            "colorbar": {
             "outlinewidth": 0,
             "ticks": ""
            },
            "colorscale": [
             [
              0,
              "#0d0887"
             ],
             [
              0.1111111111111111,
              "#46039f"
             ],
             [
              0.2222222222222222,
              "#7201a8"
             ],
             [
              0.3333333333333333,
              "#9c179e"
             ],
             [
              0.4444444444444444,
              "#bd3786"
             ],
             [
              0.5555555555555556,
              "#d8576b"
             ],
             [
              0.6666666666666666,
              "#ed7953"
             ],
             [
              0.7777777777777778,
              "#fb9f3a"
             ],
             [
              0.8888888888888888,
              "#fdca26"
             ],
             [
              1,
              "#f0f921"
             ]
            ],
            "type": "heatmapgl"
           }
          ],
          "histogram": [
           {
            "marker": {
             "pattern": {
              "fillmode": "overlay",
              "size": 10,
              "solidity": 0.2
             }
            },
            "type": "histogram"
           }
          ],
          "histogram2d": [
           {
            "colorbar": {
             "outlinewidth": 0,
             "ticks": ""
            },
            "colorscale": [
             [
              0,
              "#0d0887"
             ],
             [
              0.1111111111111111,
              "#46039f"
             ],
             [
              0.2222222222222222,
              "#7201a8"
             ],
             [
              0.3333333333333333,
              "#9c179e"
             ],
             [
              0.4444444444444444,
              "#bd3786"
             ],
             [
              0.5555555555555556,
              "#d8576b"
             ],
             [
              0.6666666666666666,
              "#ed7953"
             ],
             [
              0.7777777777777778,
              "#fb9f3a"
             ],
             [
              0.8888888888888888,
              "#fdca26"
             ],
             [
              1,
              "#f0f921"
             ]
            ],
            "type": "histogram2d"
           }
          ],
          "histogram2dcontour": [
           {
            "colorbar": {
             "outlinewidth": 0,
             "ticks": ""
            },
            "colorscale": [
             [
              0,
              "#0d0887"
             ],
             [
              0.1111111111111111,
              "#46039f"
             ],
             [
              0.2222222222222222,
              "#7201a8"
             ],
             [
              0.3333333333333333,
              "#9c179e"
             ],
             [
              0.4444444444444444,
              "#bd3786"
             ],
             [
              0.5555555555555556,
              "#d8576b"
             ],
             [
              0.6666666666666666,
              "#ed7953"
             ],
             [
              0.7777777777777778,
              "#fb9f3a"
             ],
             [
              0.8888888888888888,
              "#fdca26"
             ],
             [
              1,
              "#f0f921"
             ]
            ],
            "type": "histogram2dcontour"
           }
          ],
          "mesh3d": [
           {
            "colorbar": {
             "outlinewidth": 0,
             "ticks": ""
            },
            "type": "mesh3d"
           }
          ],
          "parcoords": [
           {
            "line": {
             "colorbar": {
              "outlinewidth": 0,
              "ticks": ""
             }
            },
            "type": "parcoords"
           }
          ],
          "pie": [
           {
            "automargin": true,
            "type": "pie"
           }
          ],
          "scatter": [
           {
            "fillpattern": {
             "fillmode": "overlay",
             "size": 10,
             "solidity": 0.2
            },
            "type": "scatter"
           }
          ],
          "scatter3d": [
           {
            "line": {
             "colorbar": {
              "outlinewidth": 0,
              "ticks": ""
             }
            },
            "marker": {
             "colorbar": {
              "outlinewidth": 0,
              "ticks": ""
             }
            },
            "type": "scatter3d"
           }
          ],
          "scattercarpet": [
           {
            "marker": {
             "colorbar": {
              "outlinewidth": 0,
              "ticks": ""
             }
            },
            "type": "scattercarpet"
           }
          ],
          "scattergeo": [
           {
            "marker": {
             "colorbar": {
              "outlinewidth": 0,
              "ticks": ""
             }
            },
            "type": "scattergeo"
           }
          ],
          "scattergl": [
           {
            "marker": {
             "colorbar": {
              "outlinewidth": 0,
              "ticks": ""
             }
            },
            "type": "scattergl"
           }
          ],
          "scattermapbox": [
           {
            "marker": {
             "colorbar": {
              "outlinewidth": 0,
              "ticks": ""
             }
            },
            "type": "scattermapbox"
           }
          ],
          "scatterpolar": [
           {
            "marker": {
             "colorbar": {
              "outlinewidth": 0,
              "ticks": ""
             }
            },
            "type": "scatterpolar"
           }
          ],
          "scatterpolargl": [
           {
            "marker": {
             "colorbar": {
              "outlinewidth": 0,
              "ticks": ""
             }
            },
            "type": "scatterpolargl"
           }
          ],
          "scatterternary": [
           {
            "marker": {
             "colorbar": {
              "outlinewidth": 0,
              "ticks": ""
             }
            },
            "type": "scatterternary"
           }
          ],
          "surface": [
           {
            "colorbar": {
             "outlinewidth": 0,
             "ticks": ""
            },
            "colorscale": [
             [
              0,
              "#0d0887"
             ],
             [
              0.1111111111111111,
              "#46039f"
             ],
             [
              0.2222222222222222,
              "#7201a8"
             ],
             [
              0.3333333333333333,
              "#9c179e"
             ],
             [
              0.4444444444444444,
              "#bd3786"
             ],
             [
              0.5555555555555556,
              "#d8576b"
             ],
             [
              0.6666666666666666,
              "#ed7953"
             ],
             [
              0.7777777777777778,
              "#fb9f3a"
             ],
             [
              0.8888888888888888,
              "#fdca26"
             ],
             [
              1,
              "#f0f921"
             ]
            ],
            "type": "surface"
           }
          ],
          "table": [
           {
            "cells": {
             "fill": {
              "color": "#EBF0F8"
             },
             "line": {
              "color": "white"
             }
            },
            "header": {
             "fill": {
              "color": "#C8D4E3"
             },
             "line": {
              "color": "white"
             }
            },
            "type": "table"
           }
          ]
         },
         "layout": {
          "annotationdefaults": {
           "arrowcolor": "#2a3f5f",
           "arrowhead": 0,
           "arrowwidth": 1
          },
          "autotypenumbers": "strict",
          "coloraxis": {
           "colorbar": {
            "outlinewidth": 0,
            "ticks": ""
           }
          },
          "colorscale": {
           "diverging": [
            [
             0,
             "#8e0152"
            ],
            [
             0.1,
             "#c51b7d"
            ],
            [
             0.2,
             "#de77ae"
            ],
            [
             0.3,
             "#f1b6da"
            ],
            [
             0.4,
             "#fde0ef"
            ],
            [
             0.5,
             "#f7f7f7"
            ],
            [
             0.6,
             "#e6f5d0"
            ],
            [
             0.7,
             "#b8e186"
            ],
            [
             0.8,
             "#7fbc41"
            ],
            [
             0.9,
             "#4d9221"
            ],
            [
             1,
             "#276419"
            ]
           ],
           "sequential": [
            [
             0,
             "#0d0887"
            ],
            [
             0.1111111111111111,
             "#46039f"
            ],
            [
             0.2222222222222222,
             "#7201a8"
            ],
            [
             0.3333333333333333,
             "#9c179e"
            ],
            [
             0.4444444444444444,
             "#bd3786"
            ],
            [
             0.5555555555555556,
             "#d8576b"
            ],
            [
             0.6666666666666666,
             "#ed7953"
            ],
            [
             0.7777777777777778,
             "#fb9f3a"
            ],
            [
             0.8888888888888888,
             "#fdca26"
            ],
            [
             1,
             "#f0f921"
            ]
           ],
           "sequentialminus": [
            [
             0,
             "#0d0887"
            ],
            [
             0.1111111111111111,
             "#46039f"
            ],
            [
             0.2222222222222222,
             "#7201a8"
            ],
            [
             0.3333333333333333,
             "#9c179e"
            ],
            [
             0.4444444444444444,
             "#bd3786"
            ],
            [
             0.5555555555555556,
             "#d8576b"
            ],
            [
             0.6666666666666666,
             "#ed7953"
            ],
            [
             0.7777777777777778,
             "#fb9f3a"
            ],
            [
             0.8888888888888888,
             "#fdca26"
            ],
            [
             1,
             "#f0f921"
            ]
           ]
          },
          "colorway": [
           "#636efa",
           "#EF553B",
           "#00cc96",
           "#ab63fa",
           "#FFA15A",
           "#19d3f3",
           "#FF6692",
           "#B6E880",
           "#FF97FF",
           "#FECB52"
          ],
          "font": {
           "color": "#2a3f5f"
          },
          "geo": {
           "bgcolor": "white",
           "lakecolor": "white",
           "landcolor": "#E5ECF6",
           "showlakes": true,
           "showland": true,
           "subunitcolor": "white"
          },
          "hoverlabel": {
           "align": "left"
          },
          "hovermode": "closest",
          "mapbox": {
           "style": "light"
          },
          "paper_bgcolor": "white",
          "plot_bgcolor": "#E5ECF6",
          "polar": {
           "angularaxis": {
            "gridcolor": "white",
            "linecolor": "white",
            "ticks": ""
           },
           "bgcolor": "#E5ECF6",
           "radialaxis": {
            "gridcolor": "white",
            "linecolor": "white",
            "ticks": ""
           }
          },
          "scene": {
           "xaxis": {
            "backgroundcolor": "#E5ECF6",
            "gridcolor": "white",
            "gridwidth": 2,
            "linecolor": "white",
            "showbackground": true,
            "ticks": "",
            "zerolinecolor": "white"
           },
           "yaxis": {
            "backgroundcolor": "#E5ECF6",
            "gridcolor": "white",
            "gridwidth": 2,
            "linecolor": "white",
            "showbackground": true,
            "ticks": "",
            "zerolinecolor": "white"
           },
           "zaxis": {
            "backgroundcolor": "#E5ECF6",
            "gridcolor": "white",
            "gridwidth": 2,
            "linecolor": "white",
            "showbackground": true,
            "ticks": "",
            "zerolinecolor": "white"
           }
          },
          "shapedefaults": {
           "line": {
            "color": "#2a3f5f"
           }
          },
          "ternary": {
           "aaxis": {
            "gridcolor": "white",
            "linecolor": "white",
            "ticks": ""
           },
           "baxis": {
            "gridcolor": "white",
            "linecolor": "white",
            "ticks": ""
           },
           "bgcolor": "#E5ECF6",
           "caxis": {
            "gridcolor": "white",
            "linecolor": "white",
            "ticks": ""
           }
          },
          "title": {
           "x": 0.05
          },
          "xaxis": {
           "automargin": true,
           "gridcolor": "white",
           "linecolor": "white",
           "ticks": "",
           "title": {
            "standoff": 15
           },
           "zerolinecolor": "white",
           "zerolinewidth": 2
          },
          "yaxis": {
           "automargin": true,
           "gridcolor": "white",
           "linecolor": "white",
           "ticks": "",
           "title": {
            "standoff": 15
           },
           "zerolinecolor": "white",
           "zerolinewidth": 2
          }
         }
        },
        "title": {
         "text": "Busiest Routes"
        },
        "xaxis": {
         "anchor": "y",
         "domain": [
          0,
          1
         ],
         "title": {
          "text": "Route"
         }
        },
        "yaxis": {
         "anchor": "x",
         "domain": [
          0,
          1
         ],
         "title": {
          "text": "Total Number of Passengers"
         }
        }
       }
      }
     },
     "metadata": {},
     "output_type": "display_data"
    }
   ],
   "source": [
    "df_sorted_passengers, fig, df_most_traffic, df_least_traffic = functions.analysis_traffic_passengers(df) \n",
    "fig.show()\n"
   ]
  },
  {
   "cell_type": "markdown",
   "metadata": {},
   "source": [
    "> We can notice that most of the busiest routes connect the major American cities to *Honolulu* (Hawaii) underlining that in the last 30 years, Hawaii has been the most loved place to go on vacation by American citizens"
   ]
  },
  {
   "cell_type": "markdown",
   "metadata": {},
   "source": [
    "**Function** `create_interactive_map(df)`\n",
    "\n",
    "The `create_interactive_map` function generates an interactive map using *Folium* to visualize flight routes and airports. \n",
    "\n",
    "- It initializes a map centered on the US.\n",
    "\n",
    "- Filters the dataset to select only the Busiest flights based on the number of passenger, because we want to draw only one connection per route's direction. So birectional routes will have two *PolyLines* that connect he airports.\n",
    "\n",
    "- It adds flight conections as *Folium* **PolyLines** (lines connecting origin and destination airports).\n",
    "\n",
    "- Adds *Folium* markers for each airport, displaying airport names and cities when clicked.\n",
    "\n",
    "- Saves the map as an HTML file for interactive exploration."
   ]
  },
  {
   "cell_type": "code",
   "execution_count": 10,
   "metadata": {},
   "outputs": [
    {
     "name": "stdout",
     "output_type": "stream",
     "text": [
      "Saved map as 'flight_network_map.html'.\n"
     ]
    }
   ],
   "source": [
    "functions.create_interactive_map(df)"
   ]
  },
  {
   "cell_type": "markdown",
   "metadata": {},
   "source": [
    "4. Once you have created and tested the previous functions, the results should be presented in a tidy way. Your summary report should contain:\n",
    "\n",
    "- The number of nodes and edges.\n",
    "\n",
    "-    The graph density.\n",
    "\n",
    "-    Degree distribution plots for in-degree and out-degree.\n",
    "\n",
    "-    A table of identified hubs.\n",
    "\n",
    "-    Top routes by passenger flow (table and bar chart).\n",
    "\n",
    "-    Top routes by passenger efficiency (table and bar chart).\n",
    "\n",
    "-    An interactive map showing flight routes.\n"
   ]
  },
  {
   "cell_type": "markdown",
   "metadata": {},
   "source": [
    "**Function** `generate_report(df, graph)`\n",
    "\n",
    "The `generate_report` function generates a detailed report on the flight network, including the following:\n",
    "\n",
    "- **Graph Features Summary**: Summarizes the features of the flight network calling the function `summarize_graph_features`.\n",
    "\n",
    "- **Traffic Analysis**: Displays the busiest routes by passenger flow, the most and least trafficked routes calling the function `analysis_traffic_passengers`\n",
    "\n",
    "- **Under-Utilized and Over-Utilized Routes**: Shows routes with the least and most passenger traffic.\n",
    "\n",
    "- **Top Routes by Passenger Efficiency**:\n",
    "\n",
    "    - It calculates and displays the most efficient routes (Top 10) with a corresponding bar chart. In our interpretation, *Passenger Efficiency* is the number of Passengers transported per Km for each route.\n",
    "\n",
    "    - We have computed the **Passenger Efficiency** as \n",
    "$$ \\text{Passenger Efficiency} = \\frac{\\text{Average Number of Passengers of that Route}}{\\text{Route Distance}}$$\n",
    "\n",
    "\n",
    "**Remark**: we have included the interactive map in the *flight_network_map.html* file saved by the function `create_interactive_map` "
   ]
  },
  {
   "cell_type": "code",
   "execution_count": 11,
   "metadata": {},
   "outputs": [
    {
     "data": {
      "text/markdown": [
       "## **Graph Features Summary**"
      ],
      "text/plain": [
       "<IPython.core.display.Markdown object>"
      ]
     },
     "metadata": {},
     "output_type": "display_data"
    },
    {
     "data": {
      "text/markdown": [
       "\n",
       "| Metric                  | Value                      |\n",
       "|-------------------------|----------------------------|\n",
       "| **Number of Airports (Nodes)**      | 483          |\n",
       "| **Number of Flights (Edges)**       | 34531          |\n",
       "| **Graph Density**           | 0.2967|\n",
       "| **Graph Classification**    | Sparse |\n"
      ],
      "text/plain": [
       "<IPython.core.display.Markdown object>"
      ]
     },
     "metadata": {},
     "output_type": "display_data"
    },
    {
     "data": {
      "text/markdown": [
       "### **Identified Hubs**"
      ],
      "text/plain": [
       "<IPython.core.display.Markdown object>"
      ]
     },
     "metadata": {},
     "output_type": "display_data"
    },
    {
     "data": {
      "text/markdown": [
       "| Hubs (Airports)          | SEA | SFO | LAX | FLL | PHX | TUS | DFW | SLC | LAS | ICT | OKC | IAH | ELP | TUL | OMA | RFD | MKE | LIT | SHV | MCI | SAT | MSP | ORD | STL | BNA | MEM | IND | CLE | DTW | DAY | CVG | CMH | PIT | BOS | ATL | MDW | PHL | EWR | CLT | JFK | YIP | MCO | IAD | MSY | RDU | BWI | TYS | MIA | DAL |\n",
       "|-----------------| --- | --- | --- | --- | --- | --- | --- | --- | --- | --- | --- | --- | --- | --- | --- | --- | --- | --- | --- | --- | --- | --- | --- | --- | --- | --- | --- | --- | --- | --- | --- | --- | --- | --- | --- | --- | --- | --- | --- | --- | --- | --- | --- | --- | --- | --- | --- | --- | --- |\n",
       "| **Degrees**          | 390 | 366 | 435 | 374 | 474 | 415 | 494 | 457 | 461 | 384 | 453 | 437 | 389 | 365 | 383 | 381 | 451 | 402 | 401 | 496 | 382 | 566 | 512 | 499 | 428 | 523 | 496 | 427 | 455 | 373 | 436 | 395 | 433 | 385 | 509 | 406 | 421 | 422 | 410 | 404 | 541 | 409 | 467 | 385 | 407 | 439 | 382 | 479 | 382 |\n"
      ],
      "text/plain": [
       "<IPython.core.display.Markdown object>"
      ]
     },
     "metadata": {},
     "output_type": "display_data"
    },
    {
     "data": {
      "text/markdown": [
       "### **Degree Distribution**"
      ],
      "text/plain": [
       "<IPython.core.display.Markdown object>"
      ]
     },
     "metadata": {},
     "output_type": "display_data"
    },
    {
     "data": {
      "application/vnd.plotly.v1+json": {
       "config": {
        "plotlyServerURL": "https://plot.ly"
       },
       "data": [
        {
         "marker": {
          "color": "steelblue"
         },
         "name": "In-degree",
         "nbinsx": 20,
         "type": "histogram",
         "x": [
          76,
          51,
          50,
          179,
          154,
          21,
          161,
          201,
          17,
          67,
          148,
          15,
          125,
          49,
          54,
          3,
          10,
          14,
          143,
          23,
          46,
          115,
          175,
          220,
          134,
          106,
          87,
          110,
          205,
          54,
          107,
          237,
          216,
          78,
          153,
          12,
          106,
          77,
          11,
          22,
          174,
          105,
          221,
          184,
          73,
          111,
          12,
          226,
          139,
          17,
          32,
          169,
          206,
          183,
          40,
          54,
          179,
          182,
          145,
          20,
          172,
          161,
          78,
          121,
          101,
          173,
          127,
          45,
          122,
          114,
          18,
          30,
          133,
          42,
          73,
          88,
          18,
          126,
          27,
          79,
          161,
          148,
          83,
          202,
          118,
          103,
          49,
          217,
          35,
          14,
          166,
          61,
          19,
          125,
          203,
          216,
          244,
          102,
          49,
          184,
          280,
          147,
          78,
          147,
          51,
          147,
          57,
          58,
          32,
          136,
          66,
          103,
          61,
          107,
          31,
          235,
          64,
          20,
          81,
          63,
          41,
          107,
          127,
          122,
          245,
          213,
          130,
          259,
          131,
          21,
          114,
          40,
          247,
          113,
          74,
          162,
          139,
          44,
          201,
          133,
          220,
          122,
          178,
          200,
          40,
          192,
          155,
          158,
          96,
          157,
          18,
          98,
          68,
          90,
          23,
          78,
          167,
          10,
          86,
          60,
          13,
          52,
          118,
          21,
          41,
          206,
          84,
          44,
          39,
          44,
          165,
          243,
          196,
          194,
          142,
          128,
          174,
          188,
          132,
          187,
          183,
          154,
          139,
          148,
          262,
          113,
          144,
          129,
          161,
          176,
          113,
          191,
          102,
          72,
          137,
          37,
          223,
          126,
          182,
          104,
          86,
          125,
          189,
          163,
          82,
          101,
          141,
          124,
          158,
          90,
          97,
          156,
          159,
          168,
          18,
          94,
          90,
          28,
          52,
          204,
          144,
          45,
          190,
          154,
          67,
          119,
          68,
          86,
          9,
          98,
          123,
          30,
          123,
          118,
          50,
          67,
          121,
          19,
          89,
          66,
          223,
          134,
          79,
          40,
          128,
          43,
          45,
          160,
          85,
          9,
          10,
          13,
          44,
          90,
          15,
          22,
          6,
          81,
          10,
          44,
          5,
          2,
          201,
          62,
          119,
          18,
          102,
          120,
          93,
          14,
          118,
          23,
          51,
          133,
          68,
          143,
          108,
          107,
          27,
          107,
          103,
          22,
          134,
          8,
          7,
          22,
          88,
          16,
          79,
          12,
          59,
          9,
          27,
          67,
          74,
          17,
          51,
          96,
          42,
          44,
          83,
          39,
          43,
          18,
          26,
          72,
          135,
          117,
          27,
          14,
          2,
          6,
          55,
          24,
          6,
          21,
          59,
          17,
          22,
          7,
          75,
          42,
          17,
          49,
          20,
          25,
          10,
          6,
          47,
          6,
          49,
          7,
          17,
          1,
          7,
          9,
          5,
          41,
          14,
          112,
          24,
          45,
          61,
          21,
          28,
          63,
          36,
          12,
          33,
          18,
          54,
          14,
          16,
          23,
          42,
          30,
          9,
          16,
          11,
          12,
          51,
          18,
          59,
          6,
          59,
          48,
          4,
          25,
          20,
          30,
          17,
          42,
          7,
          7,
          11,
          27,
          22,
          12,
          11,
          32,
          47,
          34,
          33,
          13,
          8,
          4,
          67,
          25,
          7,
          11,
          10,
          53,
          8,
          15,
          7,
          3,
          3,
          46,
          54,
          6,
          10,
          24,
          18,
          12,
          8,
          23,
          31,
          7,
          6,
          8,
          11,
          20,
          3,
          12,
          10,
          47,
          27,
          3,
          6,
          18,
          18,
          27,
          9,
          7,
          22,
          28,
          18,
          13,
          17,
          22,
          38,
          11,
          2,
          6,
          7,
          9,
          4,
          14,
          4,
          23,
          6,
          14,
          6,
          1,
          10,
          16,
          3,
          1,
          1,
          6,
          2,
          7,
          1,
          6,
          13,
          3,
          9,
          7,
          13,
          3,
          16,
          6,
          14,
          4,
          6,
          7,
          11,
          3,
          1,
          7,
          2,
          4,
          6,
          4,
          17,
          1,
          7,
          4,
          1,
          2,
          1,
          2,
          1
         ],
         "xaxis": "x",
         "yaxis": "y"
        },
        {
         "marker": {
          "color": "darkorange"
         },
         "name": "Out-degree",
         "nbinsx": 20,
         "type": "histogram",
         "x": [
          81,
          43,
          61,
          211,
          198,
          18,
          205,
          234,
          13,
          41,
          147,
          10,
          129,
          48,
          55,
          4,
          13,
          14,
          169,
          28,
          43,
          139,
          199,
          254,
          137,
          51,
          92,
          113,
          210,
          41,
          111,
          257,
          241,
          64,
          181,
          13,
          126,
          73,
          17,
          26,
          189,
          93,
          240,
          200,
          78,
          76,
          13,
          227,
          192,
          20,
          35,
          190,
          231,
          206,
          35,
          61,
          186,
          201,
          107,
          24,
          190,
          135,
          69,
          77,
          100,
          162,
          94,
          44,
          45,
          55,
          26,
          18,
          115,
          34,
          59,
          99,
          20,
          114,
          30,
          61,
          169,
          146,
          77,
          179,
          115,
          62,
          57,
          234,
          31,
          12,
          186,
          30,
          16,
          111,
          199,
          185,
          252,
          94,
          55,
          198,
          286,
          141,
          59,
          141,
          52,
          143,
          58,
          57,
          29,
          148,
          51,
          56,
          60,
          68,
          26,
          277,
          77,
          23,
          93,
          66,
          39,
          101,
          105,
          76,
          254,
          215,
          126,
          264,
          137,
          14,
          123,
          40,
          249,
          83,
          38,
          174,
          128,
          47,
          226,
          101,
          235,
          60,
          195,
          236,
          64,
          203,
          153,
          158,
          84,
          171,
          19,
          44,
          30,
          88,
          23,
          60,
          174,
          11,
          90,
          33,
          15,
          54,
          96,
          23,
          36,
          227,
          74,
          62,
          37,
          42,
          220,
          266,
          210,
          227,
          170,
          103,
          178,
          234,
          150,
          223,
          221,
          152,
          166,
          169,
          279,
          120,
          187,
          141,
          174,
          171,
          112,
          218,
          87,
          93,
          139,
          42,
          244,
          128,
          203,
          117,
          93,
          132,
          218,
          176,
          109,
          104,
          158,
          170,
          122,
          81,
          104,
          126,
          177,
          182,
          16,
          120,
          85,
          36,
          58,
          235,
          151,
          60,
          192,
          157,
          56,
          98,
          52,
          93,
          10,
          99,
          87,
          31,
          116,
          118,
          52,
          70,
          110,
          28,
          102,
          71,
          256,
          143,
          77,
          47,
          118,
          42,
          54,
          190,
          140,
          10,
          11,
          14,
          57,
          87,
          21,
          30,
          11,
          99,
          7,
          38,
          5,
          1,
          181,
          63,
          92,
          22,
          59,
          129,
          106,
          13,
          146,
          17,
          53,
          96,
          28,
          172,
          125,
          127,
          20,
          56,
          79,
          16,
          81,
          8,
          10,
          19,
          87,
          12,
          73,
          12,
          61,
          7,
          23,
          58,
          71,
          18,
          50,
          94,
          44,
          31,
          76,
          38,
          43,
          16,
          31,
          60,
          87,
          101,
          25,
          19,
          2,
          7,
          43,
          22,
          7,
          22,
          52,
          13,
          26,
          6,
          51,
          38,
          12,
          42,
          28,
          47,
          9,
          6,
          32,
          8,
          57,
          8,
          8,
          5,
          10,
          9,
          7,
          36,
          12,
          42,
          25,
          42,
          45,
          37,
          37,
          62,
          43,
          10,
          35,
          22,
          48,
          12,
          20,
          27,
          37,
          29,
          11,
          19,
          10,
          6,
          43,
          20,
          60,
          8,
          44,
          49,
          3,
          25,
          19,
          30,
          19,
          35,
          9,
          8,
          11,
          25,
          26,
          10,
          16,
          30,
          48,
          27,
          25,
          17,
          8,
          5,
          61,
          23,
          11,
          11,
          14,
          34,
          14,
          12,
          4,
          3,
          2,
          28,
          61,
          3,
          10,
          26,
          17,
          17,
          7,
          17,
          41,
          7,
          7,
          7,
          14,
          14,
          2,
          12,
          14,
          25,
          33,
          1,
          5,
          17,
          17,
          30,
          13,
          10,
          14,
          8,
          14,
          13,
          18,
          9,
          23,
          8,
          0,
          9,
          6,
          8,
          5,
          13,
          8,
          20,
          9,
          11,
          4,
          1,
          9,
          13,
          3,
          0,
          1,
          7,
          2,
          8,
          1,
          6,
          15,
          0,
          6,
          4,
          15,
          2,
          10,
          15,
          10,
          3,
          6,
          7,
          7,
          2,
          0,
          6,
          1,
          3,
          3,
          4,
          12,
          1,
          5,
          3,
          1,
          1,
          0,
          1,
          0
         ],
         "xaxis": "x2",
         "yaxis": "y2"
        }
       ],
       "layout": {
        "annotations": [
         {
          "font": {
           "size": 16
          },
          "showarrow": false,
          "text": "In-degree Histogram",
          "x": 0.225,
          "xanchor": "center",
          "xref": "paper",
          "y": 1,
          "yanchor": "bottom",
          "yref": "paper"
         },
         {
          "font": {
           "size": 16
          },
          "showarrow": false,
          "text": "Out-degree Histogram",
          "x": 0.775,
          "xanchor": "center",
          "xref": "paper",
          "y": 1,
          "yanchor": "bottom",
          "yref": "paper"
         }
        ],
        "height": 500,
        "showlegend": true,
        "template": {
         "data": {
          "bar": [
           {
            "error_x": {
             "color": "#2a3f5f"
            },
            "error_y": {
             "color": "#2a3f5f"
            },
            "marker": {
             "line": {
              "color": "#E5ECF6",
              "width": 0.5
             },
             "pattern": {
              "fillmode": "overlay",
              "size": 10,
              "solidity": 0.2
             }
            },
            "type": "bar"
           }
          ],
          "barpolar": [
           {
            "marker": {
             "line": {
              "color": "#E5ECF6",
              "width": 0.5
             },
             "pattern": {
              "fillmode": "overlay",
              "size": 10,
              "solidity": 0.2
             }
            },
            "type": "barpolar"
           }
          ],
          "carpet": [
           {
            "aaxis": {
             "endlinecolor": "#2a3f5f",
             "gridcolor": "white",
             "linecolor": "white",
             "minorgridcolor": "white",
             "startlinecolor": "#2a3f5f"
            },
            "baxis": {
             "endlinecolor": "#2a3f5f",
             "gridcolor": "white",
             "linecolor": "white",
             "minorgridcolor": "white",
             "startlinecolor": "#2a3f5f"
            },
            "type": "carpet"
           }
          ],
          "choropleth": [
           {
            "colorbar": {
             "outlinewidth": 0,
             "ticks": ""
            },
            "type": "choropleth"
           }
          ],
          "contour": [
           {
            "colorbar": {
             "outlinewidth": 0,
             "ticks": ""
            },
            "colorscale": [
             [
              0,
              "#0d0887"
             ],
             [
              0.1111111111111111,
              "#46039f"
             ],
             [
              0.2222222222222222,
              "#7201a8"
             ],
             [
              0.3333333333333333,
              "#9c179e"
             ],
             [
              0.4444444444444444,
              "#bd3786"
             ],
             [
              0.5555555555555556,
              "#d8576b"
             ],
             [
              0.6666666666666666,
              "#ed7953"
             ],
             [
              0.7777777777777778,
              "#fb9f3a"
             ],
             [
              0.8888888888888888,
              "#fdca26"
             ],
             [
              1,
              "#f0f921"
             ]
            ],
            "type": "contour"
           }
          ],
          "contourcarpet": [
           {
            "colorbar": {
             "outlinewidth": 0,
             "ticks": ""
            },
            "type": "contourcarpet"
           }
          ],
          "heatmap": [
           {
            "colorbar": {
             "outlinewidth": 0,
             "ticks": ""
            },
            "colorscale": [
             [
              0,
              "#0d0887"
             ],
             [
              0.1111111111111111,
              "#46039f"
             ],
             [
              0.2222222222222222,
              "#7201a8"
             ],
             [
              0.3333333333333333,
              "#9c179e"
             ],
             [
              0.4444444444444444,
              "#bd3786"
             ],
             [
              0.5555555555555556,
              "#d8576b"
             ],
             [
              0.6666666666666666,
              "#ed7953"
             ],
             [
              0.7777777777777778,
              "#fb9f3a"
             ],
             [
              0.8888888888888888,
              "#fdca26"
             ],
             [
              1,
              "#f0f921"
             ]
            ],
            "type": "heatmap"
           }
          ],
          "heatmapgl": [
           {
            "colorbar": {
             "outlinewidth": 0,
             "ticks": ""
            },
            "colorscale": [
             [
              0,
              "#0d0887"
             ],
             [
              0.1111111111111111,
              "#46039f"
             ],
             [
              0.2222222222222222,
              "#7201a8"
             ],
             [
              0.3333333333333333,
              "#9c179e"
             ],
             [
              0.4444444444444444,
              "#bd3786"
             ],
             [
              0.5555555555555556,
              "#d8576b"
             ],
             [
              0.6666666666666666,
              "#ed7953"
             ],
             [
              0.7777777777777778,
              "#fb9f3a"
             ],
             [
              0.8888888888888888,
              "#fdca26"
             ],
             [
              1,
              "#f0f921"
             ]
            ],
            "type": "heatmapgl"
           }
          ],
          "histogram": [
           {
            "marker": {
             "pattern": {
              "fillmode": "overlay",
              "size": 10,
              "solidity": 0.2
             }
            },
            "type": "histogram"
           }
          ],
          "histogram2d": [
           {
            "colorbar": {
             "outlinewidth": 0,
             "ticks": ""
            },
            "colorscale": [
             [
              0,
              "#0d0887"
             ],
             [
              0.1111111111111111,
              "#46039f"
             ],
             [
              0.2222222222222222,
              "#7201a8"
             ],
             [
              0.3333333333333333,
              "#9c179e"
             ],
             [
              0.4444444444444444,
              "#bd3786"
             ],
             [
              0.5555555555555556,
              "#d8576b"
             ],
             [
              0.6666666666666666,
              "#ed7953"
             ],
             [
              0.7777777777777778,
              "#fb9f3a"
             ],
             [
              0.8888888888888888,
              "#fdca26"
             ],
             [
              1,
              "#f0f921"
             ]
            ],
            "type": "histogram2d"
           }
          ],
          "histogram2dcontour": [
           {
            "colorbar": {
             "outlinewidth": 0,
             "ticks": ""
            },
            "colorscale": [
             [
              0,
              "#0d0887"
             ],
             [
              0.1111111111111111,
              "#46039f"
             ],
             [
              0.2222222222222222,
              "#7201a8"
             ],
             [
              0.3333333333333333,
              "#9c179e"
             ],
             [
              0.4444444444444444,
              "#bd3786"
             ],
             [
              0.5555555555555556,
              "#d8576b"
             ],
             [
              0.6666666666666666,
              "#ed7953"
             ],
             [
              0.7777777777777778,
              "#fb9f3a"
             ],
             [
              0.8888888888888888,
              "#fdca26"
             ],
             [
              1,
              "#f0f921"
             ]
            ],
            "type": "histogram2dcontour"
           }
          ],
          "mesh3d": [
           {
            "colorbar": {
             "outlinewidth": 0,
             "ticks": ""
            },
            "type": "mesh3d"
           }
          ],
          "parcoords": [
           {
            "line": {
             "colorbar": {
              "outlinewidth": 0,
              "ticks": ""
             }
            },
            "type": "parcoords"
           }
          ],
          "pie": [
           {
            "automargin": true,
            "type": "pie"
           }
          ],
          "scatter": [
           {
            "fillpattern": {
             "fillmode": "overlay",
             "size": 10,
             "solidity": 0.2
            },
            "type": "scatter"
           }
          ],
          "scatter3d": [
           {
            "line": {
             "colorbar": {
              "outlinewidth": 0,
              "ticks": ""
             }
            },
            "marker": {
             "colorbar": {
              "outlinewidth": 0,
              "ticks": ""
             }
            },
            "type": "scatter3d"
           }
          ],
          "scattercarpet": [
           {
            "marker": {
             "colorbar": {
              "outlinewidth": 0,
              "ticks": ""
             }
            },
            "type": "scattercarpet"
           }
          ],
          "scattergeo": [
           {
            "marker": {
             "colorbar": {
              "outlinewidth": 0,
              "ticks": ""
             }
            },
            "type": "scattergeo"
           }
          ],
          "scattergl": [
           {
            "marker": {
             "colorbar": {
              "outlinewidth": 0,
              "ticks": ""
             }
            },
            "type": "scattergl"
           }
          ],
          "scattermapbox": [
           {
            "marker": {
             "colorbar": {
              "outlinewidth": 0,
              "ticks": ""
             }
            },
            "type": "scattermapbox"
           }
          ],
          "scatterpolar": [
           {
            "marker": {
             "colorbar": {
              "outlinewidth": 0,
              "ticks": ""
             }
            },
            "type": "scatterpolar"
           }
          ],
          "scatterpolargl": [
           {
            "marker": {
             "colorbar": {
              "outlinewidth": 0,
              "ticks": ""
             }
            },
            "type": "scatterpolargl"
           }
          ],
          "scatterternary": [
           {
            "marker": {
             "colorbar": {
              "outlinewidth": 0,
              "ticks": ""
             }
            },
            "type": "scatterternary"
           }
          ],
          "surface": [
           {
            "colorbar": {
             "outlinewidth": 0,
             "ticks": ""
            },
            "colorscale": [
             [
              0,
              "#0d0887"
             ],
             [
              0.1111111111111111,
              "#46039f"
             ],
             [
              0.2222222222222222,
              "#7201a8"
             ],
             [
              0.3333333333333333,
              "#9c179e"
             ],
             [
              0.4444444444444444,
              "#bd3786"
             ],
             [
              0.5555555555555556,
              "#d8576b"
             ],
             [
              0.6666666666666666,
              "#ed7953"
             ],
             [
              0.7777777777777778,
              "#fb9f3a"
             ],
             [
              0.8888888888888888,
              "#fdca26"
             ],
             [
              1,
              "#f0f921"
             ]
            ],
            "type": "surface"
           }
          ],
          "table": [
           {
            "cells": {
             "fill": {
              "color": "#EBF0F8"
             },
             "line": {
              "color": "white"
             }
            },
            "header": {
             "fill": {
              "color": "#C8D4E3"
             },
             "line": {
              "color": "white"
             }
            },
            "type": "table"
           }
          ]
         },
         "layout": {
          "annotationdefaults": {
           "arrowcolor": "#2a3f5f",
           "arrowhead": 0,
           "arrowwidth": 1
          },
          "autotypenumbers": "strict",
          "coloraxis": {
           "colorbar": {
            "outlinewidth": 0,
            "ticks": ""
           }
          },
          "colorscale": {
           "diverging": [
            [
             0,
             "#8e0152"
            ],
            [
             0.1,
             "#c51b7d"
            ],
            [
             0.2,
             "#de77ae"
            ],
            [
             0.3,
             "#f1b6da"
            ],
            [
             0.4,
             "#fde0ef"
            ],
            [
             0.5,
             "#f7f7f7"
            ],
            [
             0.6,
             "#e6f5d0"
            ],
            [
             0.7,
             "#b8e186"
            ],
            [
             0.8,
             "#7fbc41"
            ],
            [
             0.9,
             "#4d9221"
            ],
            [
             1,
             "#276419"
            ]
           ],
           "sequential": [
            [
             0,
             "#0d0887"
            ],
            [
             0.1111111111111111,
             "#46039f"
            ],
            [
             0.2222222222222222,
             "#7201a8"
            ],
            [
             0.3333333333333333,
             "#9c179e"
            ],
            [
             0.4444444444444444,
             "#bd3786"
            ],
            [
             0.5555555555555556,
             "#d8576b"
            ],
            [
             0.6666666666666666,
             "#ed7953"
            ],
            [
             0.7777777777777778,
             "#fb9f3a"
            ],
            [
             0.8888888888888888,
             "#fdca26"
            ],
            [
             1,
             "#f0f921"
            ]
           ],
           "sequentialminus": [
            [
             0,
             "#0d0887"
            ],
            [
             0.1111111111111111,
             "#46039f"
            ],
            [
             0.2222222222222222,
             "#7201a8"
            ],
            [
             0.3333333333333333,
             "#9c179e"
            ],
            [
             0.4444444444444444,
             "#bd3786"
            ],
            [
             0.5555555555555556,
             "#d8576b"
            ],
            [
             0.6666666666666666,
             "#ed7953"
            ],
            [
             0.7777777777777778,
             "#fb9f3a"
            ],
            [
             0.8888888888888888,
             "#fdca26"
            ],
            [
             1,
             "#f0f921"
            ]
           ]
          },
          "colorway": [
           "#636efa",
           "#EF553B",
           "#00cc96",
           "#ab63fa",
           "#FFA15A",
           "#19d3f3",
           "#FF6692",
           "#B6E880",
           "#FF97FF",
           "#FECB52"
          ],
          "font": {
           "color": "#2a3f5f"
          },
          "geo": {
           "bgcolor": "white",
           "lakecolor": "white",
           "landcolor": "#E5ECF6",
           "showlakes": true,
           "showland": true,
           "subunitcolor": "white"
          },
          "hoverlabel": {
           "align": "left"
          },
          "hovermode": "closest",
          "mapbox": {
           "style": "light"
          },
          "paper_bgcolor": "white",
          "plot_bgcolor": "#E5ECF6",
          "polar": {
           "angularaxis": {
            "gridcolor": "white",
            "linecolor": "white",
            "ticks": ""
           },
           "bgcolor": "#E5ECF6",
           "radialaxis": {
            "gridcolor": "white",
            "linecolor": "white",
            "ticks": ""
           }
          },
          "scene": {
           "xaxis": {
            "backgroundcolor": "#E5ECF6",
            "gridcolor": "white",
            "gridwidth": 2,
            "linecolor": "white",
            "showbackground": true,
            "ticks": "",
            "zerolinecolor": "white"
           },
           "yaxis": {
            "backgroundcolor": "#E5ECF6",
            "gridcolor": "white",
            "gridwidth": 2,
            "linecolor": "white",
            "showbackground": true,
            "ticks": "",
            "zerolinecolor": "white"
           },
           "zaxis": {
            "backgroundcolor": "#E5ECF6",
            "gridcolor": "white",
            "gridwidth": 2,
            "linecolor": "white",
            "showbackground": true,
            "ticks": "",
            "zerolinecolor": "white"
           }
          },
          "shapedefaults": {
           "line": {
            "color": "#2a3f5f"
           }
          },
          "ternary": {
           "aaxis": {
            "gridcolor": "white",
            "linecolor": "white",
            "ticks": ""
           },
           "baxis": {
            "gridcolor": "white",
            "linecolor": "white",
            "ticks": ""
           },
           "bgcolor": "#E5ECF6",
           "caxis": {
            "gridcolor": "white",
            "linecolor": "white",
            "ticks": ""
           }
          },
          "title": {
           "x": 0.05
          },
          "xaxis": {
           "automargin": true,
           "gridcolor": "white",
           "linecolor": "white",
           "ticks": "",
           "title": {
            "standoff": 15
           },
           "zerolinecolor": "white",
           "zerolinewidth": 2
          },
          "yaxis": {
           "automargin": true,
           "gridcolor": "white",
           "linecolor": "white",
           "ticks": "",
           "title": {
            "standoff": 15
           },
           "zerolinecolor": "white",
           "zerolinewidth": 2
          }
         }
        },
        "title": {
         "text": "In-degree vs Out-degree Histograms"
        },
        "width": 1000,
        "xaxis": {
         "anchor": "y",
         "domain": [
          0,
          0.45
         ],
         "title": {
          "text": "Degree"
         }
        },
        "xaxis2": {
         "anchor": "y2",
         "domain": [
          0.55,
          1
         ]
        },
        "yaxis": {
         "anchor": "x",
         "domain": [
          0,
          1
         ],
         "title": {
          "text": "Frequency"
         }
        },
        "yaxis2": {
         "anchor": "x2",
         "domain": [
          0,
          1
         ]
        }
       }
      }
     },
     "metadata": {},
     "output_type": "display_data"
    },
    {
     "data": {
      "text/markdown": [
       "### **Top Routes by Passenger Flow**"
      ],
      "text/plain": [
       "<IPython.core.display.Markdown object>"
      ]
     },
     "metadata": {},
     "output_type": "display_data"
    },
    {
     "data": {
      "text/html": [
       "<style type=\"text/css\">\n",
       "</style>\n",
       "<table id=\"T_6bedd\">\n",
       "  <thead>\n",
       "    <tr>\n",
       "      <th id=\"T_6bedd_level0_col0\" class=\"col_heading level0 col0\" >Origin_airport</th>\n",
       "      <th id=\"T_6bedd_level0_col1\" class=\"col_heading level0 col1\" >Destination_airport</th>\n",
       "      <th id=\"T_6bedd_level0_col2\" class=\"col_heading level0 col2\" >Total_Passengers</th>\n",
       "    </tr>\n",
       "  </thead>\n",
       "  <tbody>\n",
       "    <tr>\n",
       "      <td id=\"T_6bedd_row0_col0\" class=\"data row0 col0\" >OGG</td>\n",
       "      <td id=\"T_6bedd_row0_col1\" class=\"data row0 col1\" >HNL</td>\n",
       "      <td id=\"T_6bedd_row0_col2\" class=\"data row0 col2\" >32364612</td>\n",
       "    </tr>\n",
       "    <tr>\n",
       "      <td id=\"T_6bedd_row1_col0\" class=\"data row1 col0\" >HNL</td>\n",
       "      <td id=\"T_6bedd_row1_col1\" class=\"data row1 col1\" >OGG</td>\n",
       "      <td id=\"T_6bedd_row1_col2\" class=\"data row1 col2\" >29744742</td>\n",
       "    </tr>\n",
       "    <tr>\n",
       "      <td id=\"T_6bedd_row2_col0\" class=\"data row2 col0\" >LAX</td>\n",
       "      <td id=\"T_6bedd_row2_col1\" class=\"data row2 col1\" >HNL</td>\n",
       "      <td id=\"T_6bedd_row2_col2\" class=\"data row2 col2\" >28964154</td>\n",
       "    </tr>\n",
       "    <tr>\n",
       "      <td id=\"T_6bedd_row3_col0\" class=\"data row3 col0\" >HNL</td>\n",
       "      <td id=\"T_6bedd_row3_col1\" class=\"data row3 col1\" >LAX</td>\n",
       "      <td id=\"T_6bedd_row3_col2\" class=\"data row3 col2\" >28632161</td>\n",
       "    </tr>\n",
       "    <tr>\n",
       "      <td id=\"T_6bedd_row4_col0\" class=\"data row4 col0\" >LAS</td>\n",
       "      <td id=\"T_6bedd_row4_col1\" class=\"data row4 col1\" >LAX</td>\n",
       "      <td id=\"T_6bedd_row4_col2\" class=\"data row4 col2\" >26333721</td>\n",
       "    </tr>\n",
       "    <tr>\n",
       "      <td id=\"T_6bedd_row5_col0\" class=\"data row5 col0\" >LAX</td>\n",
       "      <td id=\"T_6bedd_row5_col1\" class=\"data row5 col1\" >LAS</td>\n",
       "      <td id=\"T_6bedd_row5_col2\" class=\"data row5 col2\" >26177809</td>\n",
       "    </tr>\n",
       "    <tr>\n",
       "      <td id=\"T_6bedd_row6_col0\" class=\"data row6 col0\" >LAX</td>\n",
       "      <td id=\"T_6bedd_row6_col1\" class=\"data row6 col1\" >SFO</td>\n",
       "      <td id=\"T_6bedd_row6_col2\" class=\"data row6 col2\" >25661782</td>\n",
       "    </tr>\n",
       "    <tr>\n",
       "      <td id=\"T_6bedd_row7_col0\" class=\"data row7 col0\" >SFO</td>\n",
       "      <td id=\"T_6bedd_row7_col1\" class=\"data row7 col1\" >LAX</td>\n",
       "      <td id=\"T_6bedd_row7_col2\" class=\"data row7 col2\" >25458207</td>\n",
       "    </tr>\n",
       "    <tr>\n",
       "      <td id=\"T_6bedd_row8_col0\" class=\"data row8 col0\" >ATL</td>\n",
       "      <td id=\"T_6bedd_row8_col1\" class=\"data row8 col1\" >MCO</td>\n",
       "      <td id=\"T_6bedd_row8_col2\" class=\"data row8 col2\" >23483751</td>\n",
       "    </tr>\n",
       "    <tr>\n",
       "      <td id=\"T_6bedd_row9_col0\" class=\"data row9 col0\" >ORD</td>\n",
       "      <td id=\"T_6bedd_row9_col1\" class=\"data row9 col1\" >LAX</td>\n",
       "      <td id=\"T_6bedd_row9_col2\" class=\"data row9 col2\" >22979359</td>\n",
       "    </tr>\n",
       "  </tbody>\n",
       "</table>\n"
      ],
      "text/plain": [
       "<pandas.io.formats.style.Styler at 0x378400290>"
      ]
     },
     "metadata": {},
     "output_type": "display_data"
    },
    {
     "data": {
      "application/vnd.plotly.v1+json": {
       "config": {
        "plotlyServerURL": "https://plot.ly"
       },
       "data": [
        {
         "alignmentgroup": "True",
         "hovertemplate": "Route=%{x}<br>Total Number of Passengers=%{marker.color}<extra></extra>",
         "legendgroup": "",
         "marker": {
          "color": [
           32364612,
           29744742,
           28964154,
           28632161,
           26333721,
           26177809,
           25661782,
           25458207,
           23483751,
           22979359
          ],
          "coloraxis": "coloraxis",
          "pattern": {
           "shape": ""
          }
         },
         "name": "",
         "offsetgroup": "",
         "orientation": "v",
         "showlegend": false,
         "textposition": "auto",
         "type": "bar",
         "x": [
          "OGG -> HNL",
          "HNL -> OGG",
          "LAX -> HNL",
          "HNL -> LAX",
          "LAS -> LAX",
          "LAX -> LAS",
          "LAX -> SFO",
          "SFO -> LAX",
          "ATL -> MCO",
          "ORD -> LAX"
         ],
         "xaxis": "x",
         "y": [
          32364612,
          29744742,
          28964154,
          28632161,
          26333721,
          26177809,
          25661782,
          25458207,
          23483751,
          22979359
         ],
         "yaxis": "y"
        }
       ],
       "layout": {
        "barmode": "group",
        "coloraxis": {
         "colorbar": {
          "title": {
           "text": "Total Number of Passengers"
          }
         },
         "colorscale": [
          [
           0,
           "#0d0887"
          ],
          [
           0.1111111111111111,
           "#46039f"
          ],
          [
           0.2222222222222222,
           "#7201a8"
          ],
          [
           0.3333333333333333,
           "#9c179e"
          ],
          [
           0.4444444444444444,
           "#bd3786"
          ],
          [
           0.5555555555555556,
           "#d8576b"
          ],
          [
           0.6666666666666666,
           "#ed7953"
          ],
          [
           0.7777777777777778,
           "#fb9f3a"
          ],
          [
           0.8888888888888888,
           "#fdca26"
          ],
          [
           1,
           "#f0f921"
          ]
         ]
        },
        "legend": {
         "tracegroupgap": 0
        },
        "template": {
         "data": {
          "bar": [
           {
            "error_x": {
             "color": "#2a3f5f"
            },
            "error_y": {
             "color": "#2a3f5f"
            },
            "marker": {
             "line": {
              "color": "#E5ECF6",
              "width": 0.5
             },
             "pattern": {
              "fillmode": "overlay",
              "size": 10,
              "solidity": 0.2
             }
            },
            "type": "bar"
           }
          ],
          "barpolar": [
           {
            "marker": {
             "line": {
              "color": "#E5ECF6",
              "width": 0.5
             },
             "pattern": {
              "fillmode": "overlay",
              "size": 10,
              "solidity": 0.2
             }
            },
            "type": "barpolar"
           }
          ],
          "carpet": [
           {
            "aaxis": {
             "endlinecolor": "#2a3f5f",
             "gridcolor": "white",
             "linecolor": "white",
             "minorgridcolor": "white",
             "startlinecolor": "#2a3f5f"
            },
            "baxis": {
             "endlinecolor": "#2a3f5f",
             "gridcolor": "white",
             "linecolor": "white",
             "minorgridcolor": "white",
             "startlinecolor": "#2a3f5f"
            },
            "type": "carpet"
           }
          ],
          "choropleth": [
           {
            "colorbar": {
             "outlinewidth": 0,
             "ticks": ""
            },
            "type": "choropleth"
           }
          ],
          "contour": [
           {
            "colorbar": {
             "outlinewidth": 0,
             "ticks": ""
            },
            "colorscale": [
             [
              0,
              "#0d0887"
             ],
             [
              0.1111111111111111,
              "#46039f"
             ],
             [
              0.2222222222222222,
              "#7201a8"
             ],
             [
              0.3333333333333333,
              "#9c179e"
             ],
             [
              0.4444444444444444,
              "#bd3786"
             ],
             [
              0.5555555555555556,
              "#d8576b"
             ],
             [
              0.6666666666666666,
              "#ed7953"
             ],
             [
              0.7777777777777778,
              "#fb9f3a"
             ],
             [
              0.8888888888888888,
              "#fdca26"
             ],
             [
              1,
              "#f0f921"
             ]
            ],
            "type": "contour"
           }
          ],
          "contourcarpet": [
           {
            "colorbar": {
             "outlinewidth": 0,
             "ticks": ""
            },
            "type": "contourcarpet"
           }
          ],
          "heatmap": [
           {
            "colorbar": {
             "outlinewidth": 0,
             "ticks": ""
            },
            "colorscale": [
             [
              0,
              "#0d0887"
             ],
             [
              0.1111111111111111,
              "#46039f"
             ],
             [
              0.2222222222222222,
              "#7201a8"
             ],
             [
              0.3333333333333333,
              "#9c179e"
             ],
             [
              0.4444444444444444,
              "#bd3786"
             ],
             [
              0.5555555555555556,
              "#d8576b"
             ],
             [
              0.6666666666666666,
              "#ed7953"
             ],
             [
              0.7777777777777778,
              "#fb9f3a"
             ],
             [
              0.8888888888888888,
              "#fdca26"
             ],
             [
              1,
              "#f0f921"
             ]
            ],
            "type": "heatmap"
           }
          ],
          "heatmapgl": [
           {
            "colorbar": {
             "outlinewidth": 0,
             "ticks": ""
            },
            "colorscale": [
             [
              0,
              "#0d0887"
             ],
             [
              0.1111111111111111,
              "#46039f"
             ],
             [
              0.2222222222222222,
              "#7201a8"
             ],
             [
              0.3333333333333333,
              "#9c179e"
             ],
             [
              0.4444444444444444,
              "#bd3786"
             ],
             [
              0.5555555555555556,
              "#d8576b"
             ],
             [
              0.6666666666666666,
              "#ed7953"
             ],
             [
              0.7777777777777778,
              "#fb9f3a"
             ],
             [
              0.8888888888888888,
              "#fdca26"
             ],
             [
              1,
              "#f0f921"
             ]
            ],
            "type": "heatmapgl"
           }
          ],
          "histogram": [
           {
            "marker": {
             "pattern": {
              "fillmode": "overlay",
              "size": 10,
              "solidity": 0.2
             }
            },
            "type": "histogram"
           }
          ],
          "histogram2d": [
           {
            "colorbar": {
             "outlinewidth": 0,
             "ticks": ""
            },
            "colorscale": [
             [
              0,
              "#0d0887"
             ],
             [
              0.1111111111111111,
              "#46039f"
             ],
             [
              0.2222222222222222,
              "#7201a8"
             ],
             [
              0.3333333333333333,
              "#9c179e"
             ],
             [
              0.4444444444444444,
              "#bd3786"
             ],
             [
              0.5555555555555556,
              "#d8576b"
             ],
             [
              0.6666666666666666,
              "#ed7953"
             ],
             [
              0.7777777777777778,
              "#fb9f3a"
             ],
             [
              0.8888888888888888,
              "#fdca26"
             ],
             [
              1,
              "#f0f921"
             ]
            ],
            "type": "histogram2d"
           }
          ],
          "histogram2dcontour": [
           {
            "colorbar": {
             "outlinewidth": 0,
             "ticks": ""
            },
            "colorscale": [
             [
              0,
              "#0d0887"
             ],
             [
              0.1111111111111111,
              "#46039f"
             ],
             [
              0.2222222222222222,
              "#7201a8"
             ],
             [
              0.3333333333333333,
              "#9c179e"
             ],
             [
              0.4444444444444444,
              "#bd3786"
             ],
             [
              0.5555555555555556,
              "#d8576b"
             ],
             [
              0.6666666666666666,
              "#ed7953"
             ],
             [
              0.7777777777777778,
              "#fb9f3a"
             ],
             [
              0.8888888888888888,
              "#fdca26"
             ],
             [
              1,
              "#f0f921"
             ]
            ],
            "type": "histogram2dcontour"
           }
          ],
          "mesh3d": [
           {
            "colorbar": {
             "outlinewidth": 0,
             "ticks": ""
            },
            "type": "mesh3d"
           }
          ],
          "parcoords": [
           {
            "line": {
             "colorbar": {
              "outlinewidth": 0,
              "ticks": ""
             }
            },
            "type": "parcoords"
           }
          ],
          "pie": [
           {
            "automargin": true,
            "type": "pie"
           }
          ],
          "scatter": [
           {
            "fillpattern": {
             "fillmode": "overlay",
             "size": 10,
             "solidity": 0.2
            },
            "type": "scatter"
           }
          ],
          "scatter3d": [
           {
            "line": {
             "colorbar": {
              "outlinewidth": 0,
              "ticks": ""
             }
            },
            "marker": {
             "colorbar": {
              "outlinewidth": 0,
              "ticks": ""
             }
            },
            "type": "scatter3d"
           }
          ],
          "scattercarpet": [
           {
            "marker": {
             "colorbar": {
              "outlinewidth": 0,
              "ticks": ""
             }
            },
            "type": "scattercarpet"
           }
          ],
          "scattergeo": [
           {
            "marker": {
             "colorbar": {
              "outlinewidth": 0,
              "ticks": ""
             }
            },
            "type": "scattergeo"
           }
          ],
          "scattergl": [
           {
            "marker": {
             "colorbar": {
              "outlinewidth": 0,
              "ticks": ""
             }
            },
            "type": "scattergl"
           }
          ],
          "scattermapbox": [
           {
            "marker": {
             "colorbar": {
              "outlinewidth": 0,
              "ticks": ""
             }
            },
            "type": "scattermapbox"
           }
          ],
          "scatterpolar": [
           {
            "marker": {
             "colorbar": {
              "outlinewidth": 0,
              "ticks": ""
             }
            },
            "type": "scatterpolar"
           }
          ],
          "scatterpolargl": [
           {
            "marker": {
             "colorbar": {
              "outlinewidth": 0,
              "ticks": ""
             }
            },
            "type": "scatterpolargl"
           }
          ],
          "scatterternary": [
           {
            "marker": {
             "colorbar": {
              "outlinewidth": 0,
              "ticks": ""
             }
            },
            "type": "scatterternary"
           }
          ],
          "surface": [
           {
            "colorbar": {
             "outlinewidth": 0,
             "ticks": ""
            },
            "colorscale": [
             [
              0,
              "#0d0887"
             ],
             [
              0.1111111111111111,
              "#46039f"
             ],
             [
              0.2222222222222222,
              "#7201a8"
             ],
             [
              0.3333333333333333,
              "#9c179e"
             ],
             [
              0.4444444444444444,
              "#bd3786"
             ],
             [
              0.5555555555555556,
              "#d8576b"
             ],
             [
              0.6666666666666666,
              "#ed7953"
             ],
             [
              0.7777777777777778,
              "#fb9f3a"
             ],
             [
              0.8888888888888888,
              "#fdca26"
             ],
             [
              1,
              "#f0f921"
             ]
            ],
            "type": "surface"
           }
          ],
          "table": [
           {
            "cells": {
             "fill": {
              "color": "#EBF0F8"
             },
             "line": {
              "color": "white"
             }
            },
            "header": {
             "fill": {
              "color": "#C8D4E3"
             },
             "line": {
              "color": "white"
             }
            },
            "type": "table"
           }
          ]
         },
         "layout": {
          "annotationdefaults": {
           "arrowcolor": "#2a3f5f",
           "arrowhead": 0,
           "arrowwidth": 1
          },
          "autotypenumbers": "strict",
          "coloraxis": {
           "colorbar": {
            "outlinewidth": 0,
            "ticks": ""
           }
          },
          "colorscale": {
           "diverging": [
            [
             0,
             "#8e0152"
            ],
            [
             0.1,
             "#c51b7d"
            ],
            [
             0.2,
             "#de77ae"
            ],
            [
             0.3,
             "#f1b6da"
            ],
            [
             0.4,
             "#fde0ef"
            ],
            [
             0.5,
             "#f7f7f7"
            ],
            [
             0.6,
             "#e6f5d0"
            ],
            [
             0.7,
             "#b8e186"
            ],
            [
             0.8,
             "#7fbc41"
            ],
            [
             0.9,
             "#4d9221"
            ],
            [
             1,
             "#276419"
            ]
           ],
           "sequential": [
            [
             0,
             "#0d0887"
            ],
            [
             0.1111111111111111,
             "#46039f"
            ],
            [
             0.2222222222222222,
             "#7201a8"
            ],
            [
             0.3333333333333333,
             "#9c179e"
            ],
            [
             0.4444444444444444,
             "#bd3786"
            ],
            [
             0.5555555555555556,
             "#d8576b"
            ],
            [
             0.6666666666666666,
             "#ed7953"
            ],
            [
             0.7777777777777778,
             "#fb9f3a"
            ],
            [
             0.8888888888888888,
             "#fdca26"
            ],
            [
             1,
             "#f0f921"
            ]
           ],
           "sequentialminus": [
            [
             0,
             "#0d0887"
            ],
            [
             0.1111111111111111,
             "#46039f"
            ],
            [
             0.2222222222222222,
             "#7201a8"
            ],
            [
             0.3333333333333333,
             "#9c179e"
            ],
            [
             0.4444444444444444,
             "#bd3786"
            ],
            [
             0.5555555555555556,
             "#d8576b"
            ],
            [
             0.6666666666666666,
             "#ed7953"
            ],
            [
             0.7777777777777778,
             "#fb9f3a"
            ],
            [
             0.8888888888888888,
             "#fdca26"
            ],
            [
             1,
             "#f0f921"
            ]
           ]
          },
          "colorway": [
           "#636efa",
           "#EF553B",
           "#00cc96",
           "#ab63fa",
           "#FFA15A",
           "#19d3f3",
           "#FF6692",
           "#B6E880",
           "#FF97FF",
           "#FECB52"
          ],
          "font": {
           "color": "#2a3f5f"
          },
          "geo": {
           "bgcolor": "white",
           "lakecolor": "white",
           "landcolor": "#E5ECF6",
           "showlakes": true,
           "showland": true,
           "subunitcolor": "white"
          },
          "hoverlabel": {
           "align": "left"
          },
          "hovermode": "closest",
          "mapbox": {
           "style": "light"
          },
          "paper_bgcolor": "white",
          "plot_bgcolor": "#E5ECF6",
          "polar": {
           "angularaxis": {
            "gridcolor": "white",
            "linecolor": "white",
            "ticks": ""
           },
           "bgcolor": "#E5ECF6",
           "radialaxis": {
            "gridcolor": "white",
            "linecolor": "white",
            "ticks": ""
           }
          },
          "scene": {
           "xaxis": {
            "backgroundcolor": "#E5ECF6",
            "gridcolor": "white",
            "gridwidth": 2,
            "linecolor": "white",
            "showbackground": true,
            "ticks": "",
            "zerolinecolor": "white"
           },
           "yaxis": {
            "backgroundcolor": "#E5ECF6",
            "gridcolor": "white",
            "gridwidth": 2,
            "linecolor": "white",
            "showbackground": true,
            "ticks": "",
            "zerolinecolor": "white"
           },
           "zaxis": {
            "backgroundcolor": "#E5ECF6",
            "gridcolor": "white",
            "gridwidth": 2,
            "linecolor": "white",
            "showbackground": true,
            "ticks": "",
            "zerolinecolor": "white"
           }
          },
          "shapedefaults": {
           "line": {
            "color": "#2a3f5f"
           }
          },
          "ternary": {
           "aaxis": {
            "gridcolor": "white",
            "linecolor": "white",
            "ticks": ""
           },
           "baxis": {
            "gridcolor": "white",
            "linecolor": "white",
            "ticks": ""
           },
           "bgcolor": "#E5ECF6",
           "caxis": {
            "gridcolor": "white",
            "linecolor": "white",
            "ticks": ""
           }
          },
          "title": {
           "x": 0.05
          },
          "xaxis": {
           "automargin": true,
           "gridcolor": "white",
           "linecolor": "white",
           "ticks": "",
           "title": {
            "standoff": 15
           },
           "zerolinecolor": "white",
           "zerolinewidth": 2
          },
          "yaxis": {
           "automargin": true,
           "gridcolor": "white",
           "linecolor": "white",
           "ticks": "",
           "title": {
            "standoff": 15
           },
           "zerolinecolor": "white",
           "zerolinewidth": 2
          }
         }
        },
        "title": {
         "text": "Busiest Routes"
        },
        "xaxis": {
         "anchor": "y",
         "domain": [
          0,
          1
         ],
         "title": {
          "text": "Route"
         }
        },
        "yaxis": {
         "anchor": "x",
         "domain": [
          0,
          1
         ],
         "title": {
          "text": "Total Number of Passengers"
         }
        }
       }
      }
     },
     "metadata": {},
     "output_type": "display_data"
    },
    {
     "data": {
      "text/markdown": [
       "### **Under-Utilized Routes**"
      ],
      "text/plain": [
       "<IPython.core.display.Markdown object>"
      ]
     },
     "metadata": {},
     "output_type": "display_data"
    },
    {
     "data": {
      "text/html": [
       "<style type=\"text/css\">\n",
       "</style>\n",
       "<table id=\"T_eade6\">\n",
       "  <thead>\n",
       "    <tr>\n",
       "      <th id=\"T_eade6_level0_col0\" class=\"col_heading level0 col0\" >Origin_airport</th>\n",
       "      <th id=\"T_eade6_level0_col1\" class=\"col_heading level0 col1\" >Destination_airport</th>\n",
       "      <th id=\"T_eade6_level0_col2\" class=\"col_heading level0 col2\" >Average_Passengers</th>\n",
       "    </tr>\n",
       "  </thead>\n",
       "  <tbody>\n",
       "    <tr>\n",
       "      <td id=\"T_eade6_row0_col0\" class=\"data row0 col0\" >ABE</td>\n",
       "      <td id=\"T_eade6_row0_col1\" class=\"data row0 col1\" >ACT</td>\n",
       "      <td id=\"T_eade6_row0_col2\" class=\"data row0 col2\" >0.0</td>\n",
       "    </tr>\n",
       "    <tr>\n",
       "      <td id=\"T_eade6_row1_col0\" class=\"data row1 col0\" >IDA</td>\n",
       "      <td id=\"T_eade6_row1_col1\" class=\"data row1 col1\" >SGU</td>\n",
       "      <td id=\"T_eade6_row1_col2\" class=\"data row1 col2\" >0.0</td>\n",
       "    </tr>\n",
       "    <tr>\n",
       "      <td id=\"T_eade6_row2_col0\" class=\"data row2 col0\" >ILG</td>\n",
       "      <td id=\"T_eade6_row2_col1\" class=\"data row2 col1\" >ABE</td>\n",
       "      <td id=\"T_eade6_row2_col2\" class=\"data row2 col2\" >0.0</td>\n",
       "    </tr>\n",
       "    <tr>\n",
       "      <td id=\"T_eade6_row3_col0\" class=\"data row3 col0\" >ILG</td>\n",
       "      <td id=\"T_eade6_row3_col1\" class=\"data row3 col1\" >ADS</td>\n",
       "      <td id=\"T_eade6_row3_col2\" class=\"data row3 col2\" >0.0</td>\n",
       "    </tr>\n",
       "    <tr>\n",
       "      <td id=\"T_eade6_row4_col0\" class=\"data row4 col0\" >ILG</td>\n",
       "      <td id=\"T_eade6_row4_col1\" class=\"data row4 col1\" >BDL</td>\n",
       "      <td id=\"T_eade6_row4_col2\" class=\"data row4 col2\" >0.0</td>\n",
       "    </tr>\n",
       "    <tr>\n",
       "      <td id=\"T_eade6_row5_col0\" class=\"data row5 col0\" >ILG</td>\n",
       "      <td id=\"T_eade6_row5_col1\" class=\"data row5 col1\" >BIF</td>\n",
       "      <td id=\"T_eade6_row5_col2\" class=\"data row5 col2\" >0.0</td>\n",
       "    </tr>\n",
       "    <tr>\n",
       "      <td id=\"T_eade6_row6_col0\" class=\"data row6 col0\" >ILG</td>\n",
       "      <td id=\"T_eade6_row6_col1\" class=\"data row6 col1\" >BNA</td>\n",
       "      <td id=\"T_eade6_row6_col2\" class=\"data row6 col2\" >0.0</td>\n",
       "    </tr>\n",
       "    <tr>\n",
       "      <td id=\"T_eade6_row7_col0\" class=\"data row7 col0\" >ILG</td>\n",
       "      <td id=\"T_eade6_row7_col1\" class=\"data row7 col1\" >BRO</td>\n",
       "      <td id=\"T_eade6_row7_col2\" class=\"data row7 col2\" >0.0</td>\n",
       "    </tr>\n",
       "    <tr>\n",
       "      <td id=\"T_eade6_row8_col0\" class=\"data row8 col0\" >ILG</td>\n",
       "      <td id=\"T_eade6_row8_col1\" class=\"data row8 col1\" >BUF</td>\n",
       "      <td id=\"T_eade6_row8_col2\" class=\"data row8 col2\" >0.0</td>\n",
       "    </tr>\n",
       "    <tr>\n",
       "      <td id=\"T_eade6_row9_col0\" class=\"data row9 col0\" >ILG</td>\n",
       "      <td id=\"T_eade6_row9_col1\" class=\"data row9 col1\" >CAK</td>\n",
       "      <td id=\"T_eade6_row9_col2\" class=\"data row9 col2\" >0.0</td>\n",
       "    </tr>\n",
       "  </tbody>\n",
       "</table>\n"
      ],
      "text/plain": [
       "<pandas.io.formats.style.Styler at 0x3784009e0>"
      ]
     },
     "metadata": {},
     "output_type": "display_data"
    },
    {
     "data": {
      "text/markdown": [
       "### **Over-Utilized Routes**"
      ],
      "text/plain": [
       "<IPython.core.display.Markdown object>"
      ]
     },
     "metadata": {},
     "output_type": "display_data"
    },
    {
     "data": {
      "text/html": [
       "<style type=\"text/css\">\n",
       "</style>\n",
       "<table id=\"T_3ee53\">\n",
       "  <thead>\n",
       "    <tr>\n",
       "      <th id=\"T_3ee53_level0_col0\" class=\"col_heading level0 col0\" >Origin_airport</th>\n",
       "      <th id=\"T_3ee53_level0_col1\" class=\"col_heading level0 col1\" >Destination_airport</th>\n",
       "      <th id=\"T_3ee53_level0_col2\" class=\"col_heading level0 col2\" >Average_Passengers</th>\n",
       "    </tr>\n",
       "  </thead>\n",
       "  <tbody>\n",
       "    <tr>\n",
       "      <td id=\"T_3ee53_row0_col0\" class=\"data row0 col0\" >DAL</td>\n",
       "      <td id=\"T_3ee53_row0_col1\" class=\"data row0 col1\" >HOU</td>\n",
       "      <td id=\"T_3ee53_row0_col2\" class=\"data row0 col2\" >21828.4</td>\n",
       "    </tr>\n",
       "    <tr>\n",
       "      <td id=\"T_3ee53_row1_col0\" class=\"data row1 col0\" >HOU</td>\n",
       "      <td id=\"T_3ee53_row1_col1\" class=\"data row1 col1\" >DAL</td>\n",
       "      <td id=\"T_3ee53_row1_col2\" class=\"data row1 col2\" >21686.0</td>\n",
       "    </tr>\n",
       "    <tr>\n",
       "      <td id=\"T_3ee53_row2_col0\" class=\"data row2 col0\" >LGA</td>\n",
       "      <td id=\"T_3ee53_row2_col1\" class=\"data row2 col1\" >DCA</td>\n",
       "      <td id=\"T_3ee53_row2_col2\" class=\"data row2 col2\" >15371.6</td>\n",
       "    </tr>\n",
       "    <tr>\n",
       "      <td id=\"T_3ee53_row3_col0\" class=\"data row3 col0\" >DCA</td>\n",
       "      <td id=\"T_3ee53_row3_col1\" class=\"data row3 col1\" >LGA</td>\n",
       "      <td id=\"T_3ee53_row3_col2\" class=\"data row3 col2\" >14628.6</td>\n",
       "    </tr>\n",
       "    <tr>\n",
       "      <td id=\"T_3ee53_row4_col0\" class=\"data row4 col0\" >HNL</td>\n",
       "      <td id=\"T_3ee53_row4_col1\" class=\"data row4 col1\" >OGG</td>\n",
       "      <td id=\"T_3ee53_row4_col2\" class=\"data row4 col2\" >14043.8</td>\n",
       "    </tr>\n",
       "    <tr>\n",
       "      <td id=\"T_3ee53_row5_col0\" class=\"data row5 col0\" >BOS</td>\n",
       "      <td id=\"T_3ee53_row5_col1\" class=\"data row5 col1\" >LGA</td>\n",
       "      <td id=\"T_3ee53_row5_col2\" class=\"data row5 col2\" >13865.1</td>\n",
       "    </tr>\n",
       "    <tr>\n",
       "      <td id=\"T_3ee53_row6_col0\" class=\"data row6 col0\" >LGA</td>\n",
       "      <td id=\"T_3ee53_row6_col1\" class=\"data row6 col1\" >BOS</td>\n",
       "      <td id=\"T_3ee53_row6_col2\" class=\"data row6 col2\" >13674.9</td>\n",
       "    </tr>\n",
       "    <tr>\n",
       "      <td id=\"T_3ee53_row7_col0\" class=\"data row7 col0\" >OGG</td>\n",
       "      <td id=\"T_3ee53_row7_col1\" class=\"data row7 col1\" >HNL</td>\n",
       "      <td id=\"T_3ee53_row7_col2\" class=\"data row7 col2\" >13490.9</td>\n",
       "    </tr>\n",
       "    <tr>\n",
       "      <td id=\"T_3ee53_row8_col0\" class=\"data row8 col0\" >OAK</td>\n",
       "      <td id=\"T_3ee53_row8_col1\" class=\"data row8 col1\" >JFK</td>\n",
       "      <td id=\"T_3ee53_row8_col2\" class=\"data row8 col2\" >12615.6</td>\n",
       "    </tr>\n",
       "    <tr>\n",
       "      <td id=\"T_3ee53_row9_col0\" class=\"data row9 col0\" >HOU</td>\n",
       "      <td id=\"T_3ee53_row9_col1\" class=\"data row9 col1\" >MSY</td>\n",
       "      <td id=\"T_3ee53_row9_col2\" class=\"data row9 col2\" >11942.8</td>\n",
       "    </tr>\n",
       "  </tbody>\n",
       "</table>\n"
      ],
      "text/plain": [
       "<pandas.io.formats.style.Styler at 0x378400980>"
      ]
     },
     "metadata": {},
     "output_type": "display_data"
    },
    {
     "data": {
      "text/markdown": [
       "### **Top Routes by Passenger Efficiency**"
      ],
      "text/plain": [
       "<IPython.core.display.Markdown object>"
      ]
     },
     "metadata": {},
     "output_type": "display_data"
    },
    {
     "data": {
      "text/html": [
       "<style type=\"text/css\">\n",
       "</style>\n",
       "<table id=\"T_4b1a4\">\n",
       "  <thead>\n",
       "    <tr>\n",
       "      <th id=\"T_4b1a4_level0_col0\" class=\"col_heading level0 col0\" >Origin_airport</th>\n",
       "      <th id=\"T_4b1a4_level0_col1\" class=\"col_heading level0 col1\" >Destination_airport</th>\n",
       "      <th id=\"T_4b1a4_level0_col2\" class=\"col_heading level0 col2\" >Passenger_Efficiency</th>\n",
       "    </tr>\n",
       "  </thead>\n",
       "  <tbody>\n",
       "    <tr>\n",
       "      <td id=\"T_4b1a4_row0_col0\" class=\"data row0 col0\" >HNL</td>\n",
       "      <td id=\"T_4b1a4_row0_col1\" class=\"data row0 col1\" >OGG</td>\n",
       "      <td id=\"T_4b1a4_row0_col2\" class=\"data row0 col2\" >140.4</td>\n",
       "    </tr>\n",
       "    <tr>\n",
       "      <td id=\"T_4b1a4_row1_col0\" class=\"data row1 col0\" >OGG</td>\n",
       "      <td id=\"T_4b1a4_row1_col1\" class=\"data row1 col1\" >HNL</td>\n",
       "      <td id=\"T_4b1a4_row1_col2\" class=\"data row1 col2\" >134.9</td>\n",
       "    </tr>\n",
       "    <tr>\n",
       "      <td id=\"T_4b1a4_row2_col0\" class=\"data row2 col0\" >DAL</td>\n",
       "      <td id=\"T_4b1a4_row2_col1\" class=\"data row2 col1\" >HOU</td>\n",
       "      <td id=\"T_4b1a4_row2_col2\" class=\"data row2 col2\" >91.3</td>\n",
       "    </tr>\n",
       "    <tr>\n",
       "      <td id=\"T_4b1a4_row3_col0\" class=\"data row3 col0\" >HOU</td>\n",
       "      <td id=\"T_4b1a4_row3_col1\" class=\"data row3 col1\" >DAL</td>\n",
       "      <td id=\"T_4b1a4_row3_col2\" class=\"data row3 col2\" >90.7</td>\n",
       "    </tr>\n",
       "    <tr>\n",
       "      <td id=\"T_4b1a4_row4_col0\" class=\"data row4 col0\" >BOS</td>\n",
       "      <td id=\"T_4b1a4_row4_col1\" class=\"data row4 col1\" >LGA</td>\n",
       "      <td id=\"T_4b1a4_row4_col2\" class=\"data row4 col2\" >74.9</td>\n",
       "    </tr>\n",
       "    <tr>\n",
       "      <td id=\"T_4b1a4_row5_col0\" class=\"data row5 col0\" >LGA</td>\n",
       "      <td id=\"T_4b1a4_row5_col1\" class=\"data row5 col1\" >BOS</td>\n",
       "      <td id=\"T_4b1a4_row5_col2\" class=\"data row5 col2\" >73.9</td>\n",
       "    </tr>\n",
       "    <tr>\n",
       "      <td id=\"T_4b1a4_row6_col0\" class=\"data row6 col0\" >LGA</td>\n",
       "      <td id=\"T_4b1a4_row6_col1\" class=\"data row6 col1\" >DCA</td>\n",
       "      <td id=\"T_4b1a4_row6_col2\" class=\"data row6 col2\" >71.8</td>\n",
       "    </tr>\n",
       "    <tr>\n",
       "      <td id=\"T_4b1a4_row7_col0\" class=\"data row7 col0\" >DCA</td>\n",
       "      <td id=\"T_4b1a4_row7_col1\" class=\"data row7 col1\" >LGA</td>\n",
       "      <td id=\"T_4b1a4_row7_col2\" class=\"data row7 col2\" >68.4</td>\n",
       "    </tr>\n",
       "    <tr>\n",
       "      <td id=\"T_4b1a4_row8_col0\" class=\"data row8 col0\" >IAH</td>\n",
       "      <td id=\"T_4b1a4_row8_col1\" class=\"data row8 col1\" >EFD</td>\n",
       "      <td id=\"T_4b1a4_row8_col2\" class=\"data row8 col2\" >49.7</td>\n",
       "    </tr>\n",
       "    <tr>\n",
       "      <td id=\"T_4b1a4_row9_col0\" class=\"data row9 col0\" >DAL</td>\n",
       "      <td id=\"T_4b1a4_row9_col1\" class=\"data row9 col1\" >AUS</td>\n",
       "      <td id=\"T_4b1a4_row9_col2\" class=\"data row9 col2\" >46.5</td>\n",
       "    </tr>\n",
       "  </tbody>\n",
       "</table>\n"
      ],
      "text/plain": [
       "<pandas.io.formats.style.Styler at 0x378402570>"
      ]
     },
     "metadata": {},
     "output_type": "display_data"
    },
    {
     "data": {
      "application/vnd.plotly.v1+json": {
       "config": {
        "plotlyServerURL": "https://plot.ly"
       },
       "data": [
        {
         "alignmentgroup": "True",
         "hovertemplate": "Route=%{x}<br>Passenger Efficiency=%{marker.color}<extra></extra>",
         "legendgroup": "",
         "marker": {
          "color": [
           140.43787535410766,
           134.90876198416007,
           91.3323700013299,
           90.73649385700311,
           74.94630118573279,
           73.91843181764442,
           71.8301172614286,
           68.3579077659101,
           49.72019617706237,
           46.53963466042155
          ],
          "coloraxis": "coloraxis",
          "pattern": {
           "shape": ""
          }
         },
         "name": "",
         "offsetgroup": "",
         "orientation": "v",
         "showlegend": false,
         "textposition": "auto",
         "type": "bar",
         "x": [
          "HNL -> OGG",
          "OGG -> HNL",
          "DAL -> HOU",
          "HOU -> DAL",
          "BOS -> LGA",
          "LGA -> BOS",
          "LGA -> DCA",
          "DCA -> LGA",
          "IAH -> EFD",
          "DAL -> AUS"
         ],
         "xaxis": "x",
         "y": [
          140.43787535410766,
          134.90876198416007,
          91.3323700013299,
          90.73649385700311,
          74.94630118573279,
          73.91843181764442,
          71.8301172614286,
          68.3579077659101,
          49.72019617706237,
          46.53963466042155
         ],
         "yaxis": "y"
        }
       ],
       "layout": {
        "barmode": "group",
        "coloraxis": {
         "colorbar": {
          "title": {
           "text": "Passenger Efficiency"
          }
         },
         "colorscale": [
          [
           0,
           "#0d0887"
          ],
          [
           0.1111111111111111,
           "#46039f"
          ],
          [
           0.2222222222222222,
           "#7201a8"
          ],
          [
           0.3333333333333333,
           "#9c179e"
          ],
          [
           0.4444444444444444,
           "#bd3786"
          ],
          [
           0.5555555555555556,
           "#d8576b"
          ],
          [
           0.6666666666666666,
           "#ed7953"
          ],
          [
           0.7777777777777778,
           "#fb9f3a"
          ],
          [
           0.8888888888888888,
           "#fdca26"
          ],
          [
           1,
           "#f0f921"
          ]
         ]
        },
        "legend": {
         "tracegroupgap": 0
        },
        "template": {
         "data": {
          "bar": [
           {
            "error_x": {
             "color": "#2a3f5f"
            },
            "error_y": {
             "color": "#2a3f5f"
            },
            "marker": {
             "line": {
              "color": "#E5ECF6",
              "width": 0.5
             },
             "pattern": {
              "fillmode": "overlay",
              "size": 10,
              "solidity": 0.2
             }
            },
            "type": "bar"
           }
          ],
          "barpolar": [
           {
            "marker": {
             "line": {
              "color": "#E5ECF6",
              "width": 0.5
             },
             "pattern": {
              "fillmode": "overlay",
              "size": 10,
              "solidity": 0.2
             }
            },
            "type": "barpolar"
           }
          ],
          "carpet": [
           {
            "aaxis": {
             "endlinecolor": "#2a3f5f",
             "gridcolor": "white",
             "linecolor": "white",
             "minorgridcolor": "white",
             "startlinecolor": "#2a3f5f"
            },
            "baxis": {
             "endlinecolor": "#2a3f5f",
             "gridcolor": "white",
             "linecolor": "white",
             "minorgridcolor": "white",
             "startlinecolor": "#2a3f5f"
            },
            "type": "carpet"
           }
          ],
          "choropleth": [
           {
            "colorbar": {
             "outlinewidth": 0,
             "ticks": ""
            },
            "type": "choropleth"
           }
          ],
          "contour": [
           {
            "colorbar": {
             "outlinewidth": 0,
             "ticks": ""
            },
            "colorscale": [
             [
              0,
              "#0d0887"
             ],
             [
              0.1111111111111111,
              "#46039f"
             ],
             [
              0.2222222222222222,
              "#7201a8"
             ],
             [
              0.3333333333333333,
              "#9c179e"
             ],
             [
              0.4444444444444444,
              "#bd3786"
             ],
             [
              0.5555555555555556,
              "#d8576b"
             ],
             [
              0.6666666666666666,
              "#ed7953"
             ],
             [
              0.7777777777777778,
              "#fb9f3a"
             ],
             [
              0.8888888888888888,
              "#fdca26"
             ],
             [
              1,
              "#f0f921"
             ]
            ],
            "type": "contour"
           }
          ],
          "contourcarpet": [
           {
            "colorbar": {
             "outlinewidth": 0,
             "ticks": ""
            },
            "type": "contourcarpet"
           }
          ],
          "heatmap": [
           {
            "colorbar": {
             "outlinewidth": 0,
             "ticks": ""
            },
            "colorscale": [
             [
              0,
              "#0d0887"
             ],
             [
              0.1111111111111111,
              "#46039f"
             ],
             [
              0.2222222222222222,
              "#7201a8"
             ],
             [
              0.3333333333333333,
              "#9c179e"
             ],
             [
              0.4444444444444444,
              "#bd3786"
             ],
             [
              0.5555555555555556,
              "#d8576b"
             ],
             [
              0.6666666666666666,
              "#ed7953"
             ],
             [
              0.7777777777777778,
              "#fb9f3a"
             ],
             [
              0.8888888888888888,
              "#fdca26"
             ],
             [
              1,
              "#f0f921"
             ]
            ],
            "type": "heatmap"
           }
          ],
          "heatmapgl": [
           {
            "colorbar": {
             "outlinewidth": 0,
             "ticks": ""
            },
            "colorscale": [
             [
              0,
              "#0d0887"
             ],
             [
              0.1111111111111111,
              "#46039f"
             ],
             [
              0.2222222222222222,
              "#7201a8"
             ],
             [
              0.3333333333333333,
              "#9c179e"
             ],
             [
              0.4444444444444444,
              "#bd3786"
             ],
             [
              0.5555555555555556,
              "#d8576b"
             ],
             [
              0.6666666666666666,
              "#ed7953"
             ],
             [
              0.7777777777777778,
              "#fb9f3a"
             ],
             [
              0.8888888888888888,
              "#fdca26"
             ],
             [
              1,
              "#f0f921"
             ]
            ],
            "type": "heatmapgl"
           }
          ],
          "histogram": [
           {
            "marker": {
             "pattern": {
              "fillmode": "overlay",
              "size": 10,
              "solidity": 0.2
             }
            },
            "type": "histogram"
           }
          ],
          "histogram2d": [
           {
            "colorbar": {
             "outlinewidth": 0,
             "ticks": ""
            },
            "colorscale": [
             [
              0,
              "#0d0887"
             ],
             [
              0.1111111111111111,
              "#46039f"
             ],
             [
              0.2222222222222222,
              "#7201a8"
             ],
             [
              0.3333333333333333,
              "#9c179e"
             ],
             [
              0.4444444444444444,
              "#bd3786"
             ],
             [
              0.5555555555555556,
              "#d8576b"
             ],
             [
              0.6666666666666666,
              "#ed7953"
             ],
             [
              0.7777777777777778,
              "#fb9f3a"
             ],
             [
              0.8888888888888888,
              "#fdca26"
             ],
             [
              1,
              "#f0f921"
             ]
            ],
            "type": "histogram2d"
           }
          ],
          "histogram2dcontour": [
           {
            "colorbar": {
             "outlinewidth": 0,
             "ticks": ""
            },
            "colorscale": [
             [
              0,
              "#0d0887"
             ],
             [
              0.1111111111111111,
              "#46039f"
             ],
             [
              0.2222222222222222,
              "#7201a8"
             ],
             [
              0.3333333333333333,
              "#9c179e"
             ],
             [
              0.4444444444444444,
              "#bd3786"
             ],
             [
              0.5555555555555556,
              "#d8576b"
             ],
             [
              0.6666666666666666,
              "#ed7953"
             ],
             [
              0.7777777777777778,
              "#fb9f3a"
             ],
             [
              0.8888888888888888,
              "#fdca26"
             ],
             [
              1,
              "#f0f921"
             ]
            ],
            "type": "histogram2dcontour"
           }
          ],
          "mesh3d": [
           {
            "colorbar": {
             "outlinewidth": 0,
             "ticks": ""
            },
            "type": "mesh3d"
           }
          ],
          "parcoords": [
           {
            "line": {
             "colorbar": {
              "outlinewidth": 0,
              "ticks": ""
             }
            },
            "type": "parcoords"
           }
          ],
          "pie": [
           {
            "automargin": true,
            "type": "pie"
           }
          ],
          "scatter": [
           {
            "fillpattern": {
             "fillmode": "overlay",
             "size": 10,
             "solidity": 0.2
            },
            "type": "scatter"
           }
          ],
          "scatter3d": [
           {
            "line": {
             "colorbar": {
              "outlinewidth": 0,
              "ticks": ""
             }
            },
            "marker": {
             "colorbar": {
              "outlinewidth": 0,
              "ticks": ""
             }
            },
            "type": "scatter3d"
           }
          ],
          "scattercarpet": [
           {
            "marker": {
             "colorbar": {
              "outlinewidth": 0,
              "ticks": ""
             }
            },
            "type": "scattercarpet"
           }
          ],
          "scattergeo": [
           {
            "marker": {
             "colorbar": {
              "outlinewidth": 0,
              "ticks": ""
             }
            },
            "type": "scattergeo"
           }
          ],
          "scattergl": [
           {
            "marker": {
             "colorbar": {
              "outlinewidth": 0,
              "ticks": ""
             }
            },
            "type": "scattergl"
           }
          ],
          "scattermapbox": [
           {
            "marker": {
             "colorbar": {
              "outlinewidth": 0,
              "ticks": ""
             }
            },
            "type": "scattermapbox"
           }
          ],
          "scatterpolar": [
           {
            "marker": {
             "colorbar": {
              "outlinewidth": 0,
              "ticks": ""
             }
            },
            "type": "scatterpolar"
           }
          ],
          "scatterpolargl": [
           {
            "marker": {
             "colorbar": {
              "outlinewidth": 0,
              "ticks": ""
             }
            },
            "type": "scatterpolargl"
           }
          ],
          "scatterternary": [
           {
            "marker": {
             "colorbar": {
              "outlinewidth": 0,
              "ticks": ""
             }
            },
            "type": "scatterternary"
           }
          ],
          "surface": [
           {
            "colorbar": {
             "outlinewidth": 0,
             "ticks": ""
            },
            "colorscale": [
             [
              0,
              "#0d0887"
             ],
             [
              0.1111111111111111,
              "#46039f"
             ],
             [
              0.2222222222222222,
              "#7201a8"
             ],
             [
              0.3333333333333333,
              "#9c179e"
             ],
             [
              0.4444444444444444,
              "#bd3786"
             ],
             [
              0.5555555555555556,
              "#d8576b"
             ],
             [
              0.6666666666666666,
              "#ed7953"
             ],
             [
              0.7777777777777778,
              "#fb9f3a"
             ],
             [
              0.8888888888888888,
              "#fdca26"
             ],
             [
              1,
              "#f0f921"
             ]
            ],
            "type": "surface"
           }
          ],
          "table": [
           {
            "cells": {
             "fill": {
              "color": "#EBF0F8"
             },
             "line": {
              "color": "white"
             }
            },
            "header": {
             "fill": {
              "color": "#C8D4E3"
             },
             "line": {
              "color": "white"
             }
            },
            "type": "table"
           }
          ]
         },
         "layout": {
          "annotationdefaults": {
           "arrowcolor": "#2a3f5f",
           "arrowhead": 0,
           "arrowwidth": 1
          },
          "autotypenumbers": "strict",
          "coloraxis": {
           "colorbar": {
            "outlinewidth": 0,
            "ticks": ""
           }
          },
          "colorscale": {
           "diverging": [
            [
             0,
             "#8e0152"
            ],
            [
             0.1,
             "#c51b7d"
            ],
            [
             0.2,
             "#de77ae"
            ],
            [
             0.3,
             "#f1b6da"
            ],
            [
             0.4,
             "#fde0ef"
            ],
            [
             0.5,
             "#f7f7f7"
            ],
            [
             0.6,
             "#e6f5d0"
            ],
            [
             0.7,
             "#b8e186"
            ],
            [
             0.8,
             "#7fbc41"
            ],
            [
             0.9,
             "#4d9221"
            ],
            [
             1,
             "#276419"
            ]
           ],
           "sequential": [
            [
             0,
             "#0d0887"
            ],
            [
             0.1111111111111111,
             "#46039f"
            ],
            [
             0.2222222222222222,
             "#7201a8"
            ],
            [
             0.3333333333333333,
             "#9c179e"
            ],
            [
             0.4444444444444444,
             "#bd3786"
            ],
            [
             0.5555555555555556,
             "#d8576b"
            ],
            [
             0.6666666666666666,
             "#ed7953"
            ],
            [
             0.7777777777777778,
             "#fb9f3a"
            ],
            [
             0.8888888888888888,
             "#fdca26"
            ],
            [
             1,
             "#f0f921"
            ]
           ],
           "sequentialminus": [
            [
             0,
             "#0d0887"
            ],
            [
             0.1111111111111111,
             "#46039f"
            ],
            [
             0.2222222222222222,
             "#7201a8"
            ],
            [
             0.3333333333333333,
             "#9c179e"
            ],
            [
             0.4444444444444444,
             "#bd3786"
            ],
            [
             0.5555555555555556,
             "#d8576b"
            ],
            [
             0.6666666666666666,
             "#ed7953"
            ],
            [
             0.7777777777777778,
             "#fb9f3a"
            ],
            [
             0.8888888888888888,
             "#fdca26"
            ],
            [
             1,
             "#f0f921"
            ]
           ]
          },
          "colorway": [
           "#636efa",
           "#EF553B",
           "#00cc96",
           "#ab63fa",
           "#FFA15A",
           "#19d3f3",
           "#FF6692",
           "#B6E880",
           "#FF97FF",
           "#FECB52"
          ],
          "font": {
           "color": "#2a3f5f"
          },
          "geo": {
           "bgcolor": "white",
           "lakecolor": "white",
           "landcolor": "#E5ECF6",
           "showlakes": true,
           "showland": true,
           "subunitcolor": "white"
          },
          "hoverlabel": {
           "align": "left"
          },
          "hovermode": "closest",
          "mapbox": {
           "style": "light"
          },
          "paper_bgcolor": "white",
          "plot_bgcolor": "#E5ECF6",
          "polar": {
           "angularaxis": {
            "gridcolor": "white",
            "linecolor": "white",
            "ticks": ""
           },
           "bgcolor": "#E5ECF6",
           "radialaxis": {
            "gridcolor": "white",
            "linecolor": "white",
            "ticks": ""
           }
          },
          "scene": {
           "xaxis": {
            "backgroundcolor": "#E5ECF6",
            "gridcolor": "white",
            "gridwidth": 2,
            "linecolor": "white",
            "showbackground": true,
            "ticks": "",
            "zerolinecolor": "white"
           },
           "yaxis": {
            "backgroundcolor": "#E5ECF6",
            "gridcolor": "white",
            "gridwidth": 2,
            "linecolor": "white",
            "showbackground": true,
            "ticks": "",
            "zerolinecolor": "white"
           },
           "zaxis": {
            "backgroundcolor": "#E5ECF6",
            "gridcolor": "white",
            "gridwidth": 2,
            "linecolor": "white",
            "showbackground": true,
            "ticks": "",
            "zerolinecolor": "white"
           }
          },
          "shapedefaults": {
           "line": {
            "color": "#2a3f5f"
           }
          },
          "ternary": {
           "aaxis": {
            "gridcolor": "white",
            "linecolor": "white",
            "ticks": ""
           },
           "baxis": {
            "gridcolor": "white",
            "linecolor": "white",
            "ticks": ""
           },
           "bgcolor": "#E5ECF6",
           "caxis": {
            "gridcolor": "white",
            "linecolor": "white",
            "ticks": ""
           }
          },
          "title": {
           "x": 0.05
          },
          "xaxis": {
           "automargin": true,
           "gridcolor": "white",
           "linecolor": "white",
           "ticks": "",
           "title": {
            "standoff": 15
           },
           "zerolinecolor": "white",
           "zerolinewidth": 2
          },
          "yaxis": {
           "automargin": true,
           "gridcolor": "white",
           "linecolor": "white",
           "ticks": "",
           "title": {
            "standoff": 15
           },
           "zerolinecolor": "white",
           "zerolinewidth": 2
          }
         }
        },
        "title": {
         "text": "Top Routes by Passenger Efficiency"
        },
        "xaxis": {
         "anchor": "y",
         "domain": [
          0,
          1
         ],
         "title": {
          "text": "Route"
         }
        },
        "yaxis": {
         "anchor": "x",
         "domain": [
          0,
          1
         ],
         "title": {
          "text": "Passenger Efficiency"
         }
        }
       }
      }
     },
     "metadata": {},
     "output_type": "display_data"
    }
   ],
   "source": [
    "functions.generate_report(df, graph)"
   ]
  },
  {
   "cell_type": "markdown",
   "metadata": {},
   "source": [
    "____\n",
    "After completing the analysis, answer the following questions:\n",
    "\n"
   ]
  },
  {
   "cell_type": "markdown",
   "metadata": {},
   "source": [
    "- Is the graph sparse or dense?\n"
   ]
  },
  {
   "cell_type": "markdown",
   "metadata": {},
   "source": [
    "> Since the density of the graph is quite near 0, we can assume that the graph is **sparse**."
   ]
  },
  {
   "cell_type": "markdown",
   "metadata": {},
   "source": [
    "-  What patterns do you observe in the degree distribution?\n"
   ]
  },
  {
   "cell_type": "markdown",
   "metadata": {},
   "source": [
    "> Both Histograms of *out_degree* and *in_degree* of each edge assume similar distributions: most of the nodes tend to be have 20 or less number of edges, another slice of nodes have in and out degrees between 20 and 100.  "
   ]
  },
  {
   "cell_type": "markdown",
   "metadata": {},
   "source": [
    "- Which airports are identified as hubs, and why?\n"
   ]
  },
  {
   "cell_type": "markdown",
   "metadata": {},
   "source": [
    "| Hubs (Airports)          | SEA | SFO | LAX | FLL | PHX | TUS | DFW | SLC | LAS | ICT | OKC | IAH | ELP | TUL | OMA | RFD | MKE | LIT | SHV | MCI | SAT | MSP | ORD | STL | BNA | MEM | IND | CLE | DTW | DAY | CVG | CMH | PIT | BOS | ATL | MDW | PHL | EWR | CLT | JFK | YIP | MCO | IAD | MSY | RDU | BWI | TYS | MIA | DAL |\n",
    "|-----------------| --- | --- | --- | --- | --- | --- | --- | --- | --- | --- | --- | --- | --- | --- | --- | --- | --- | --- | --- | --- | --- | --- | --- | --- | --- | --- | --- | --- | --- | --- | --- | --- | --- | --- | --- | --- | --- | --- | --- | --- | --- | --- | --- | --- | --- | --- | --- | --- | --- |\n",
    "| **Degrees**          | 392 | 368 | 437 | 376 | 476 | 417 | 496 | 459 | 463 | 386 | 455 | 439 | 391 | 367 | 383 | 383 | 453 | 404 | 403 | 498 | 384 | 568 | 514 | 501 | 430 | 525 | 498 | 429 | 457 | 375 | 438 | 397 | 435 | 387 | 511 | 408 | 423 | 424 | 412 | 406 | 543 | 411 | 469 | 387 | 409 | 441 | 384 | 481 | 384 |\n",
    "\n",
    "<br>\n",
    "\n",
    "> These airports are listed as '*hubs*' because their degree is higher than 90% of the degree of all the nodes"
   ]
  },
  {
   "cell_type": "markdown",
   "metadata": {},
   "source": [
    "- What are the busiest routes in terms of passenger traffic?\n"
   ]
  },
  {
   "cell_type": "markdown",
   "metadata": {},
   "source": [
    "<style type=\"text/css\">\n",
    "</style>\n",
    "<table id=\"T_c0f38\">\n",
    "  <thead>\n",
    "    <tr>\n",
    "      <th id=\"T_c0f38_level0_col0\" class=\"col_heading level0 col0\" >Origin_airport</th>\n",
    "      <th id=\"T_c0f38_level0_col1\" class=\"col_heading level0 col1\" >Destination_airport</th>\n",
    "      <th id=\"T_c0f38_level0_col2\" class=\"col_heading level0 col2\" >Total_Passengers</th>\n",
    "    </tr>\n",
    "  </thead>\n",
    "  <tbody>\n",
    "    <tr>\n",
    "      <td id=\"T_c0f38_row0_col0\" class=\"data row0 col0\" >OGG</td>\n",
    "      <td id=\"T_c0f38_row0_col1\" class=\"data row0 col1\" >HNL</td>\n",
    "      <td id=\"T_c0f38_row0_col2\" class=\"data row0 col2\" >32364612</td>\n",
    "    </tr>\n",
    "    <tr>\n",
    "      <td id=\"T_c0f38_row1_col0\" class=\"data row1 col0\" >HNL</td>\n",
    "      <td id=\"T_c0f38_row1_col1\" class=\"data row1 col1\" >OGG</td>\n",
    "      <td id=\"T_c0f38_row1_col2\" class=\"data row1 col2\" >29744742</td>\n",
    "    </tr>\n",
    "    <tr>\n",
    "      <td id=\"T_c0f38_row2_col0\" class=\"data row2 col0\" >LAX</td>\n",
    "      <td id=\"T_c0f38_row2_col1\" class=\"data row2 col1\" >HNL</td>\n",
    "      <td id=\"T_c0f38_row2_col2\" class=\"data row2 col2\" >28964154</td>\n",
    "    </tr>\n",
    "    <tr>\n",
    "      <td id=\"T_c0f38_row3_col0\" class=\"data row3 col0\" >HNL</td>\n",
    "      <td id=\"T_c0f38_row3_col1\" class=\"data row3 col1\" >LAX</td>\n",
    "      <td id=\"T_c0f38_row3_col2\" class=\"data row3 col2\" >28632161</td>\n",
    "    </tr>\n",
    "    <tr>\n",
    "      <td id=\"T_c0f38_row4_col0\" class=\"data row4 col0\" >LAS</td>\n",
    "      <td id=\"T_c0f38_row4_col1\" class=\"data row4 col1\" >LAX</td>\n",
    "      <td id=\"T_c0f38_row4_col2\" class=\"data row4 col2\" >26333721</td>\n",
    "    </tr>\n",
    "    <tr>\n",
    "      <td id=\"T_c0f38_row5_col0\" class=\"data row5 col0\" >LAX</td>\n",
    "      <td id=\"T_c0f38_row5_col1\" class=\"data row5 col1\" >LAS</td>\n",
    "      <td id=\"T_c0f38_row5_col2\" class=\"data row5 col2\" >26177809</td>\n",
    "    </tr>\n",
    "    <tr>\n",
    "      <td id=\"T_c0f38_row6_col0\" class=\"data row6 col0\" >LAX</td>\n",
    "      <td id=\"T_c0f38_row6_col1\" class=\"data row6 col1\" >SFO</td>\n",
    "      <td id=\"T_c0f38_row6_col2\" class=\"data row6 col2\" >25661782</td>\n",
    "    </tr>\n",
    "    <tr>\n",
    "      <td id=\"T_c0f38_row7_col0\" class=\"data row7 col0\" >SFO</td>\n",
    "      <td id=\"T_c0f38_row7_col1\" class=\"data row7 col1\" >LAX</td>\n",
    "      <td id=\"T_c0f38_row7_col2\" class=\"data row7 col2\" >25458207</td>\n",
    "    </tr>\n",
    "    <tr>\n",
    "      <td id=\"T_c0f38_row8_col0\" class=\"data row8 col0\" >ATL</td>\n",
    "      <td id=\"T_c0f38_row8_col1\" class=\"data row8 col1\" >MCO</td>\n",
    "      <td id=\"T_c0f38_row8_col2\" class=\"data row8 col2\" >23483751</td>\n",
    "    </tr>\n",
    "    <tr>\n",
    "      <td id=\"T_c0f38_row9_col0\" class=\"data row9 col0\" >ORD</td>\n",
    "      <td id=\"T_c0f38_row9_col1\" class=\"data row9 col1\" >LAX</td>\n",
    "      <td id=\"T_c0f38_row9_col2\" class=\"data row9 col2\" >22979359</td>\n",
    "    </tr>\n",
    "  </tbody>\n",
    "</table>\n",
    "<br>\n",
    "\n",
    "> These routes represent the 10 highest traffic connections, highlighting the demand for travel between major airports, especially in regions like California and Hawaii.\n"
   ]
  },
  {
   "cell_type": "markdown",
   "metadata": {},
   "source": [
    "- Which routes are under/over-utilized?\n"
   ]
  },
  {
   "cell_type": "markdown",
   "metadata": {},
   "source": [
    "##### **Under-Utilized Routes**\n",
    "\n",
    "<style type=\"text/css\">\n",
    "</style>\n",
    "<table id=\"T_c15c7\">\n",
    "  <thead>\n",
    "    <tr>\n",
    "      <th id=\"T_c15c7_level0_col0\" class=\"col_heading level0 col0\" >Origin_airport</th>\n",
    "      <th id=\"T_c15c7_level0_col1\" class=\"col_heading level0 col1\" >Destination_airport</th>\n",
    "      <th id=\"T_c15c7_level0_col2\" class=\"col_heading level0 col2\" >Average_Passengers</th>\n",
    "    </tr>\n",
    "  </thead>\n",
    "  <tbody>\n",
    "    <tr>\n",
    "      <td id=\"T_c15c7_row0_col0\" class=\"data row0 col0\" >ABE</td>\n",
    "      <td id=\"T_c15c7_row0_col1\" class=\"data row0 col1\" >ACT</td>\n",
    "      <td id=\"T_c15c7_row0_col2\" class=\"data row0 col2\" >0.0</td>\n",
    "    </tr>\n",
    "    <tr>\n",
    "      <td id=\"T_c15c7_row1_col0\" class=\"data row1 col0\" >IDA</td>\n",
    "      <td id=\"T_c15c7_row1_col1\" class=\"data row1 col1\" >SGU</td>\n",
    "      <td id=\"T_c15c7_row1_col2\" class=\"data row1 col2\" >0.0</td>\n",
    "    </tr>\n",
    "    <tr>\n",
    "      <td id=\"T_c15c7_row2_col0\" class=\"data row2 col0\" >ILG</td>\n",
    "      <td id=\"T_c15c7_row2_col1\" class=\"data row2 col1\" >ABE</td>\n",
    "      <td id=\"T_c15c7_row2_col2\" class=\"data row2 col2\" >0.0</td>\n",
    "    </tr>\n",
    "    <tr>\n",
    "      <td id=\"T_c15c7_row3_col0\" class=\"data row3 col0\" >ILG</td>\n",
    "      <td id=\"T_c15c7_row3_col1\" class=\"data row3 col1\" >ADS</td>\n",
    "      <td id=\"T_c15c7_row3_col2\" class=\"data row3 col2\" >0.0</td>\n",
    "    </tr>\n",
    "    <tr>\n",
    "      <td id=\"T_c15c7_row4_col0\" class=\"data row4 col0\" >ILG</td>\n",
    "      <td id=\"T_c15c7_row4_col1\" class=\"data row4 col1\" >BDL</td>\n",
    "      <td id=\"T_c15c7_row4_col2\" class=\"data row4 col2\" >0.0</td>\n",
    "    </tr>\n",
    "    <tr>\n",
    "      <td id=\"T_c15c7_row5_col0\" class=\"data row5 col0\" >ILG</td>\n",
    "      <td id=\"T_c15c7_row5_col1\" class=\"data row5 col1\" >BIF</td>\n",
    "      <td id=\"T_c15c7_row5_col2\" class=\"data row5 col2\" >0.0</td>\n",
    "    </tr>\n",
    "    <tr>\n",
    "      <td id=\"T_c15c7_row6_col0\" class=\"data row6 col0\" >ILG</td>\n",
    "      <td id=\"T_c15c7_row6_col1\" class=\"data row6 col1\" >BNA</td>\n",
    "      <td id=\"T_c15c7_row6_col2\" class=\"data row6 col2\" >0.0</td>\n",
    "    </tr>\n",
    "    <tr>\n",
    "      <td id=\"T_c15c7_row7_col0\" class=\"data row7 col0\" >ILG</td>\n",
    "      <td id=\"T_c15c7_row7_col1\" class=\"data row7 col1\" >BRO</td>\n",
    "      <td id=\"T_c15c7_row7_col2\" class=\"data row7 col2\" >0.0</td>\n",
    "    </tr>\n",
    "    <tr>\n",
    "      <td id=\"T_c15c7_row8_col0\" class=\"data row8 col0\" >ILG</td>\n",
    "      <td id=\"T_c15c7_row8_col1\" class=\"data row8 col1\" >BUF</td>\n",
    "      <td id=\"T_c15c7_row8_col2\" class=\"data row8 col2\" >0.0</td>\n",
    "    </tr>\n",
    "    <tr>\n",
    "      <td id=\"T_c15c7_row9_col0\" class=\"data row9 col0\" >ILG</td>\n",
    "      <td id=\"T_c15c7_row9_col1\" class=\"data row9 col1\" >CAK</td>\n",
    "      <td id=\"T_c15c7_row9_col2\" class=\"data row9 col2\" >0.0</td>\n",
    "    </tr>\n",
    "  </tbody>\n",
    "</table>\n",
    "\n",
    "<br>\n",
    "\n",
    "> These routes are under-utilized considering the assumption that we have not considered routes that have no *Distance*, with no passengers recorded on average. This may indicate low demand or possibly infrequent flights, which could suggest an opportunity for route optimization or better marketing strategies to increase passenger traffic.\n"
   ]
  },
  {
   "cell_type": "markdown",
   "metadata": {},
   "source": [
    "##### **Over-Utilized Routes**\n",
    "\n",
    "<style type=\"text/css\">\n",
    "</style>\n",
    "<table id=\"T_fc661\">\n",
    "  <thead>\n",
    "    <tr>\n",
    "      <th id=\"T_fc661_level0_col0\" class=\"col_heading level0 col0\" >Origin_airport</th>\n",
    "      <th id=\"T_fc661_level0_col1\" class=\"col_heading level0 col1\" >Destination_airport</th>\n",
    "      <th id=\"T_fc661_level0_col2\" class=\"col_heading level0 col2\" >Average_Passengers</th>\n",
    "    </tr>\n",
    "  </thead>\n",
    "  <tbody>\n",
    "    <tr>\n",
    "      <td id=\"T_fc661_row0_col0\" class=\"data row0 col0\" >DAL</td>\n",
    "      <td id=\"T_fc661_row0_col1\" class=\"data row0 col1\" >HOU</td>\n",
    "      <td id=\"T_fc661_row0_col2\" class=\"data row0 col2\" >21828.4</td>\n",
    "    </tr>\n",
    "    <tr>\n",
    "      <td id=\"T_fc661_row1_col0\" class=\"data row1 col0\" >HOU</td>\n",
    "      <td id=\"T_fc661_row1_col1\" class=\"data row1 col1\" >DAL</td>\n",
    "      <td id=\"T_fc661_row1_col2\" class=\"data row1 col2\" >21686.0</td>\n",
    "    </tr>\n",
    "    <tr>\n",
    "      <td id=\"T_fc661_row2_col0\" class=\"data row2 col0\" >LGA</td>\n",
    "      <td id=\"T_fc661_row2_col1\" class=\"data row2 col1\" >DCA</td>\n",
    "      <td id=\"T_fc661_row2_col2\" class=\"data row2 col2\" >15371.6</td>\n",
    "    </tr>\n",
    "    <tr>\n",
    "      <td id=\"T_fc661_row3_col0\" class=\"data row3 col0\" >DCA</td>\n",
    "      <td id=\"T_fc661_row3_col1\" class=\"data row3 col1\" >LGA</td>\n",
    "      <td id=\"T_fc661_row3_col2\" class=\"data row3 col2\" >14628.6</td>\n",
    "    </tr>\n",
    "    <tr>\n",
    "      <td id=\"T_fc661_row4_col0\" class=\"data row4 col0\" >HNL</td>\n",
    "      <td id=\"T_fc661_row4_col1\" class=\"data row4 col1\" >OGG</td>\n",
    "      <td id=\"T_fc661_row4_col2\" class=\"data row4 col2\" >14043.8</td>\n",
    "    </tr>\n",
    "    <tr>\n",
    "      <td id=\"T_fc661_row5_col0\" class=\"data row5 col0\" >BOS</td>\n",
    "      <td id=\"T_fc661_row5_col1\" class=\"data row5 col1\" >LGA</td>\n",
    "      <td id=\"T_fc661_row5_col2\" class=\"data row5 col2\" >13865.1</td>\n",
    "    </tr>\n",
    "    <tr>\n",
    "      <td id=\"T_fc661_row6_col0\" class=\"data row6 col0\" >LGA</td>\n",
    "      <td id=\"T_fc661_row6_col1\" class=\"data row6 col1\" >BOS</td>\n",
    "      <td id=\"T_fc661_row6_col2\" class=\"data row6 col2\" >13674.9</td>\n",
    "    </tr>\n",
    "    <tr>\n",
    "      <td id=\"T_fc661_row7_col0\" class=\"data row7 col0\" >OGG</td>\n",
    "      <td id=\"T_fc661_row7_col1\" class=\"data row7 col1\" >HNL</td>\n",
    "      <td id=\"T_fc661_row7_col2\" class=\"data row7 col2\" >13490.9</td>\n",
    "    </tr>\n",
    "    <tr>\n",
    "      <td id=\"T_fc661_row8_col0\" class=\"data row8 col0\" >OAK</td>\n",
    "      <td id=\"T_fc661_row8_col1\" class=\"data row8 col1\" >JFK</td>\n",
    "      <td id=\"T_fc661_row8_col2\" class=\"data row8 col2\" >12615.6</td>\n",
    "    </tr>\n",
    "    <tr>\n",
    "      <td id=\"T_fc661_row9_col0\" class=\"data row9 col0\" >HOU</td>\n",
    "      <td id=\"T_fc661_row9_col1\" class=\"data row9 col1\" >MSY</td>\n",
    "      <td id=\"T_fc661_row9_col2\" class=\"data row9 col2\" >11942.8</td>\n",
    "    </tr>\n",
    "  </tbody>\n",
    "</table>\n",
    "<br>\n",
    "\n",
    "> These routes are characterized by high passenger traffic, indicating strong demand, such as *Dallas to Houston* and *Houston to Dallas* that the ones with the highest average.\n",
    "____"
   ]
  },
  {
   "cell_type": "markdown",
   "metadata": {},
   "source": [
    "## **Nodes' Contribution (Q2)**"
   ]
  },
  {
   "cell_type": "markdown",
   "metadata": {},
   "source": [
    "1. Implement a function `analyze_centrality(flight_network, airport)` that computes the following centrality measures for a given airport:\n",
    "\n",
    "\n",
    "    - *Betweenness* *centrality*: Measures how often a node appears on the shortest paths between other nodes.\n",
    "    \n",
    "    - *Closeness* *centrality*: Measures how easily a node can access all other nodes in the network.\n",
    "    \n",
    "    - *Degree* *centrality*: Simply counts the number of direct connections to the node.\n",
    "    \n",
    "    - *PageRank*: Computes the \"importance\" of a node based on incoming connections and their weights.\n"
   ]
  },
  {
   "cell_type": "code",
   "execution_count": 12,
   "metadata": {},
   "outputs": [],
   "source": [
    "df['weight'] = 1\n",
    "\n",
    "# Aggregare i dati per sommare i pesi (numero di voli tra le coppie di aeroporti)\n",
    "aggregated_df = df.groupby(['Origin_airport', 'Destination_airport'], as_index=False).agg({'weight': 'sum'})\n",
    "\n",
    "# Creare la lista unica di aeroporti\n",
    "airports = pd.concat([df['Origin_airport'], df['Destination_airport']]).unique()\n",
    "\n",
    "# Creare il dizionario edges\n",
    "edges = {\n",
    "    (row['Origin_airport'], row['Destination_airport']): row['weight']\n",
    "    for _, row in aggregated_df.iterrows()\n",
    "}\n",
    "\n",
    "# Mappare gli aeroporti agli indici\n",
    "airport_to_idx = {airport: idx for idx, airport in enumerate(airports)}\n",
    "\n",
    "# Creare la matrice di adiacenza\n",
    "n = len(airports)\n",
    "adjacency_matrix = np.zeros((n, n), dtype=float)\n",
    "\n",
    "# Riempire la matrice di adiacenza usando il dizionario edges\n",
    "for (source, target), weight in edges.items():\n",
    "    i = airport_to_idx[source]\n",
    "    j = airport_to_idx[target]\n",
    "    adjacency_matrix[i, j] = weight\n"
   ]
  },
  {
   "cell_type": "code",
   "execution_count": 19,
   "metadata": {},
   "outputs": [],
   "source": [
    "from functions import betweenness_centrality, closeness_centrality ,degree_centrality, pagerank\n",
    "import matplotlib.pyplot as plt\n",
    "import networkx as nx"
   ]
  },
  {
   "cell_type": "code",
   "execution_count": 16,
   "metadata": {},
   "outputs": [],
   "source": [
    "def analyze_centrality(flight_network, airport):\n",
    "    if airport not in flight_network:\n",
    "        raise ValueError(f\"Airport '{airport}' not found in the flight network.\")\n",
    "    \n",
    "    # Compute centralities for all nodes\n",
    "    betweenness = betweenness_centrality(flight_network)\n",
    "    closeness = closeness_centrality(flight_network)\n",
    "    degree = degree_centrality(flight_network)\n",
    "    pagerank_scores = pagerank(flight_network)\n",
    "\n",
    "    # Extract values for the specified airport\n",
    "    return {\n",
    "        \"betweenness\": betweenness.get(airport, 0.0),\n",
    "        \"closeness\": closeness.get(airport, 0.0),\n",
    "        \"degree\": degree.get(airport, 0.0),\n",
    "        \"pagerank\": pagerank_scores.get(airport, 0.0)\n",
    "    }\n"
   ]
  },
  {
   "cell_type": "code",
   "execution_count": 21,
   "metadata": {},
   "outputs": [
    {
     "data": {
      "text/markdown": [
       "| Measure     |       Value |\n",
       "|:------------|------------:|\n",
       "| betweenness | 12.0196     |\n",
       "| closeness   |  0.503132   |\n",
       "| degree      |  0.0788382  |\n",
       "| pagerank    |  0.00126066 |"
      ],
      "text/plain": [
       "<IPython.core.display.Markdown object>"
      ]
     },
     "metadata": {},
     "output_type": "display_data"
    }
   ],
   "source": [
    "flight_network = nx.to_dict_of_lists(graph)\n",
    "result = analyze_centrality(flight_network, \"OGG\")\n",
    "resultt = pd.DataFrame.from_dict(result, orient=\"index\", columns=[\"Centrality\"])\n",
    "resultt.reset_index(inplace=True)\n",
    "resultt.columns = [\"Measure\", \"Value\"]\n",
    "\n",
    "# Convert DataFrame to Markdown\n",
    "markdown_table = resultt.to_markdown(index=False)\n",
    "display(Markdown(markdown_table))"
   ]
  },
  {
   "cell_type": "markdown",
   "metadata": {},
   "source": [
    "`betweenness=12` $\\rightarrow$ This value indicates that the airport \"OGG\" plays a significant role in connecting different nodes (airports) in the network\n",
    "\n",
    "`closeness=0.5` $\\rightarrow$ closeness centrality measures how quickly \"OGG\" can reach all other airports in the networw, a value of 0.503132 suggests that \"OGG\" has moderate accessibility within the network.\n",
    "\n",
    "`degree=0.079` $\\rightarrow$ A value of 0.0788382 means that \"OGG\" is directly connected to about 7.88% of all airports in the network.\n",
    "\n",
    "`pagerank=0.00126` $\\rightarrow$ PageRank measures the \"importance\" of OGG based on its connections and the importance of the nodes it's connected to. A value of 0.00126066 is low, suggesting that \"OGG\" is not highly influential in terms of the overall connectivity of the network."
   ]
  },
  {
   "cell_type": "markdown",
   "metadata": {},
   "source": [
    "2.  Write a function `compare_centralities(flight_network)` to:\n",
    "\n",
    "    - Compute and compare centrality values for all nodes in the graph.\n",
    "    \n",
    "    - Plot centrality distributions (histograms for each centrality measure).\n",
    "    \n",
    "    - Return the top 5 airports for each centrality measure.\n",
    "\n"
   ]
  },
  {
   "cell_type": "code",
   "execution_count": 31,
   "metadata": {},
   "outputs": [],
   "source": [
    "def compare_centralities(flight_network):\n",
    "    \"\"\"\n",
    "    Computes centralities (Degree, Closeness, Betweenness, PageRank) on a flight network.\n",
    "    If the input is a NetworkX DiGraph, it is first converted to a dict-of-lists adjacency.\n",
    "    Plots histograms of each centrality measure and returns the top 5 airports per measure.\n",
    "    \"\"\"\n",
    "    #convert to a dictionary of adjacency lists\n",
    "    if isinstance(flight_network, (nx.Graph, nx.DiGraph)):\n",
    "        flight_network = nx.to_dict_of_lists(flight_network)\n",
    "\n",
    "    # calculate centrality \n",
    "    degree_centr = degree_centrality(flight_network)\n",
    "    closeness_centr = closeness_centrality(flight_network)\n",
    "    betweenness_centr = betweenness_centrality(flight_network)\n",
    "    pagerank2 = pagerank(flight_network)\n",
    "\n",
    "    #build a pandas DataFrame for comparison\n",
    "    centrality_df = pd.DataFrame({\n",
    "        'Airport': list(degree_centr.keys()),\n",
    "        'Degree Centrality': list(degree_centr.values()),\n",
    "        'Closeness Centrality': [closeness_centr[node] for node in degree_centr],\n",
    "        'Betweenness Centrality': [betweenness_centr[node] for node in degree_centr],\n",
    "        'PageRank': [pagerank2[node] for node in degree_centr]\n",
    "    })\n",
    "\n",
    "    #plot histograms of each centrality measure\n",
    "    fig, axes = plt.subplots(2, 2, figsize=(15, 10))\n",
    "    fig.suptitle(\"Centrality Distributions for Airports\", fontsize=16)\n",
    "\n",
    "    centrality_df['Degree Centrality'].hist(ax=axes[0, 0], bins=50, color='skyblue')\n",
    "    axes[0, 0].set_title(\"Degree Centrality Distribution\")\n",
    "    axes[0, 0].set_xlabel(\"Degree Centrality\")\n",
    "    axes[0, 0].set_ylabel(\"Frequency\")\n",
    "\n",
    "    centrality_df['Closeness Centrality'].hist(ax=axes[0, 1], bins=50, color='lightgreen')\n",
    "    axes[0, 1].set_title(\"Closeness Centrality Distribution\")\n",
    "    axes[0, 1].set_xlabel(\"Closeness Centrality\")\n",
    "    axes[0, 1].set_ylabel(\"Frequency\")\n",
    "\n",
    "    centrality_df['Betweenness Centrality'].hist(ax=axes[1, 0], bins=50, color='lightcoral')\n",
    "    axes[1, 0].set_title(\"Betweenness Centrality Distribution\")\n",
    "    axes[1, 0].set_xlabel(\"Betweenness Centrality\")\n",
    "    axes[1, 0].set_ylabel(\"Frequency\")\n",
    "\n",
    "    centrality_df['PageRank'].hist(ax=axes[1, 1], bins=50, color='gold')\n",
    "    axes[1, 1].set_title(\"PageRank Distribution\")\n",
    "    axes[1, 1].set_xlabel(\"PageRank\")\n",
    "    axes[1, 1].set_ylabel(\"Frequency\")\n",
    "\n",
    "    plt.tight_layout(rect=[0, 0, 1, 0.96])\n",
    "    plt.show()\n",
    "\n",
    "    # 5) Return the top 5 airports by each centrality\n",
    "    top_airports = {\n",
    "        'Top Degree Centrality': centrality_df.nlargest(5, 'Degree Centrality')[['Airport', 'Degree Centrality']],\n",
    "        'Top Closeness Centrality': centrality_df.nlargest(5, 'Closeness Centrality')[['Airport', 'Closeness Centrality']],\n",
    "        'Top Betweenness Centrality': centrality_df.nlargest(5, 'Betweenness Centrality')[['Airport', 'Betweenness Centrality']],\n",
    "        'Top PageRank': centrality_df.nlargest(5, 'PageRank')[['Airport', 'PageRank']]\n",
    "    }\n",
    "    for key, result_df in top_airports.items():\n",
    "        markdown_table = result_df.to_markdown(index=False)\n",
    "        display(Markdown(f\"### {key}\\n\\n{markdown_table}\"))\n",
    "\n",
    "    return "
   ]
  },
  {
   "cell_type": "code",
   "execution_count": 32,
   "metadata": {},
   "outputs": [
    {
     "data": {
      "image/png": "[encoded data removed]",
      "text/plain": [
       "<Figure size 1500x1000 with 4 Axes>"
      ]
     },
     "metadata": {},
     "output_type": "display_data"
    },
    {
     "data": {
      "text/markdown": [
       "### Top Degree Centrality\n",
       "\n",
       "| Airport   |   Degree Centrality |\n",
       "|:----------|--------------------:|\n",
       "| MSP       |            0.593361 |\n",
       "| YIP       |            0.578838 |\n",
       "| ORD       |            0.574689 |\n",
       "| ATL       |            0.551867 |\n",
       "| MEM       |            0.547718 |"
      ],
      "text/plain": [
       "<IPython.core.display.Markdown object>"
      ]
     },
     "metadata": {},
     "output_type": "display_data"
    },
    {
     "data": {
      "text/markdown": [
       "### Top Closeness Centrality\n",
       "\n",
       "| Airport   |   Closeness Centrality |\n",
       "|:----------|-----------------------:|\n",
       "| MSP       |               0.708824 |\n",
       "| ORD       |               0.699565 |\n",
       "| YIP       |               0.698551 |\n",
       "| ATL       |               0.687589 |\n",
       "| MEM       |               0.68661  |"
      ],
      "text/plain": [
       "<IPython.core.display.Markdown object>"
      ]
     },
     "metadata": {},
     "output_type": "display_data"
    },
    {
     "data": {
      "text/markdown": [
       "### Top Betweenness Centrality\n",
       "\n",
       "| Airport   |   Betweenness Centrality |\n",
       "|:----------|-------------------------:|\n",
       "| YIP       |                  4327.52 |\n",
       "| MSP       |                  3995.85 |\n",
       "| PHX       |                  2739.58 |\n",
       "| MIA       |                  2302.22 |\n",
       "| TUS       |                  2299.1  |"
      ],
      "text/plain": [
       "<IPython.core.display.Markdown object>"
      ]
     },
     "metadata": {},
     "output_type": "display_data"
    },
    {
     "data": {
      "text/markdown": [
       "### Top PageRank\n",
       "\n",
       "| Airport   |   PageRank |\n",
       "|:----------|-----------:|\n",
       "| MSP       | 0.00818836 |\n",
       "| YIP       | 0.00799235 |\n",
       "| MEM       | 0.0070689  |\n",
       "| STL       | 0.00666363 |\n",
       "| MCI       | 0.00660087 |"
      ],
      "text/plain": [
       "<IPython.core.display.Markdown object>"
      ]
     },
     "metadata": {},
     "output_type": "display_data"
    }
   ],
   "source": [
    "compare_centralities(graph)"
   ]
  },
  {
   "cell_type": "markdown",
   "metadata": {},
   "source": [
    "`MSP (Minneapolis-Saint Paul)` has the highest degree centrality (0.593361), indicating it has the largest number of direct connections; ranks highest (0.708824) for closeness centrality, which measures how efficiently an airport can reach all other airports in the network; and again holds the highest pagerank (0.00818836), reinforcing its importance not only as a well-connected node but also as a hub connected to other highly influential nodes.\n",
    "\n",
    "`YIP (Willow Run)` has a strong importance in terms of degree centrality (0.5788,the direct connectivity); dominates betweenness centrality (4327.52), meaning it acts as a major bridge for traffic between other airports; and is also significant in terms of influence within the network, with a pagerank of 0.00799235.\n",
    "\n",
    "In summary:\n",
    "\n",
    "\n",
    "-`MSP`emerges as the most important airport overall, leading across multiple centrality measures.\n",
    "\n",
    "-`YIP`plays a critical bridging role, as indicated by its high betweenness centrality.\n",
    "\n",
    "-`ORD, ATL, and MEM` are versatile nodes, demonstrating both direct connectivity and influence in network access.\n",
    "\n"
   ]
  },
  {
   "cell_type": "markdown",
   "metadata": {},
   "source": [
    "3. Ask LLM (eg. ChatGPT) to suggest alternative centrality measures that might be relevant to this task. How can you check that the results given by the LLM are trustable?"
   ]
  },
  {
   "cell_type": "markdown",
   "metadata": {},
   "source": [
    "here is the output of ChatGpt:\n",
    "| **Centrality Measure**         | **Relevance**                                                | **When to Use**                          |\n",
    "|--------------------------------|-------------------------------------------------------------|------------------------------------------|\n",
    "| **Eigenvector Centrality**     | Importance based on connections to influential nodes.       | Identify hubs connected to other hubs.   |\n",
    "| **Katz Centrality**            | Balances influence of hubs and smaller nodes.               | Highlight strategic regional airports.   |\n",
    "| **Harmonic Centrality**        | Accounts for disconnected nodes.                            | Sparse or disconnected networks.         |\n",
    "| **Load Centrality**            | Measures flow through nodes.                                | Critical intermediaries for traffic.     |\n",
    "| **Clustering Coefficient**     | Tendency to form local, tight clusters.                     | Identify regional clusters of routes.    |\n",
    "| **Edge Betweenness Centrality**| Identifies critical edges in the network.                   | Find key flight routes.                  |\n",
    "| **Strength Centrality**        | Weighted degree: accounts for passenger/traffic volume.     | Identify traffic-heavy airports.         |\n"
   ]
  },
  {
   "cell_type": "markdown",
   "metadata": {},
   "source": [
    "to check his reliability we can check with a correlation methods to compare the centrality scores"
   ]
  },
  {
   "cell_type": "markdown",
   "metadata": {},
   "source": [
    "4. Implement one of these measures suggested by the LLM, compare its results to the centralities you've already computed, and analyze whether it adds any new insights."
   ]
  },
  {
   "cell_type": "code",
   "execution_count": 30,
   "metadata": {},
   "outputs": [],
   "source": [
    "import networkx as nx\n",
    "import pandas as pd\n",
    "from scipy.stats import spearmanr\n",
    "import matplotlib.pyplot as plt\n",
    "\n",
    "def calculate_alternative_centralities(flight_network):\n",
    "    \"\"\"\n",
    "    Calculate Degree Centrality and Eigenvector Centrality for a given graph.\n",
    "    Returns a DataFrame with centrality measures.\n",
    "    \"\"\"\n",
    "    # Degree Centrality\n",
    "    degree_centrality = nx.degree_centrality(flight_network)\n",
    "\n",
    "    # Eigenvector Centrality\n",
    "    eigenvector_centrality = nx.eigenvector_centrality(flight_network, weight='weight')\n",
    "\n",
    "    # Create a DataFrame with centrality measures\n",
    "    centrality_df2 = pd.DataFrame({\n",
    "        'Airport': list(degree_centrality.keys()),\n",
    "        'Degree Centrality': list(degree_centrality.values()),\n",
    "        'Eigenvector Centrality': [eigenvector_centrality[node] for node in degree_centrality]\n",
    "    })\n",
    "\n",
    "    return centrality_df2\n",
    "\n",
    "def plot_centrality_distributions(centrality_df):\n",
    "    \"\"\"\n",
    "    Plot the distributions of Degree Centrality and Eigenvector Centrality.\n",
    "    \"\"\"\n",
    "    plt.figure(figsize=(12, 5))\n",
    "\n",
    "    # Degree Centrality Histogram\n",
    "    plt.subplot(1, 2, 1)\n",
    "    plt.hist(centrality_df['Degree Centrality'], bins=30, color='skyblue')\n",
    "    plt.title('Degree Centrality Distribution')\n",
    "    plt.xlabel('Degree Centrality')\n",
    "    plt.ylabel('Frequency')\n",
    "\n",
    "    # Eigenvector Centrality Histogram\n",
    "    plt.subplot(1, 2, 2)\n",
    "    plt.hist(centrality_df['Eigenvector Centrality'], bins=30, color='lightcoral')\n",
    "    plt.title('Eigenvector Centrality Distribution')\n",
    "    plt.xlabel('Eigenvector Centrality')\n",
    "    plt.ylabel('Frequency')\n",
    "\n",
    "    plt.tight_layout()\n",
    "    plt.show()"
   ]
  },
  {
   "cell_type": "code",
   "execution_count": 33,
   "metadata": {},
   "outputs": [],
   "source": [
    "centrality_df2=calculate_alternative_centralities(graph)"
   ]
  },
  {
   "cell_type": "code",
   "execution_count": 25,
   "metadata": {},
   "outputs": [],
   "source": [
    "def test_centrality_correlation(centrality_df):\n",
    "    degree = centrality_df['Degree Centrality']\n",
    "    eigenvector = centrality_df['Eigenvector Centrality']\n",
    "\n",
    "    #Spearman's rank correlation\n",
    "    correlation, p_value = spearmanr(degree, eigenvector)\n",
    "\n",
    "    print(\"Spearman's Rank Correlation between Degree and Eigenvector Centrality:\")\n",
    "    print(f\"Correlation Coefficient: {correlation:.4f}\")\n",
    "    print(f\"P-value: {p_value:.4e}\")\n",
    "\n",
    "    return correlation, p_value"
   ]
  },
  {
   "cell_type": "code",
   "execution_count": 34,
   "metadata": {},
   "outputs": [
    {
     "name": "stdout",
     "output_type": "stream",
     "text": [
      "Spearman's Rank Correlation between Degree and Eigenvector Centrality:\n",
      "Correlation Coefficient: 0.9552\n",
      "P-value: 1.9173e-256\n"
     ]
    },
    {
     "data": {
      "text/plain": [
       "(np.float64(0.9551831531163336), np.float64(1.9172640537759008e-256))"
      ]
     },
     "execution_count": 34,
     "metadata": {},
     "output_type": "execute_result"
    }
   ],
   "source": [
    "test_centrality_correlation(centrality_df2)"
   ]
  },
  {
   "cell_type": "markdown",
   "metadata": {},
   "source": [
    "because the correlation coefficient its high (its maximum its 1) we can consider his output trustable"
   ]
  },
  {
   "cell_type": "markdown",
   "metadata": {},
   "source": [
    "____\n",
    "## **Finding Best Routes (Q3)**"
   ]
  },
  {
   "cell_type": "markdown",
   "metadata": {},
   "source": [
    "- In this task, you need to implement a function that, given an origin and destination city, determines the best possible route between them. To simplify, the focus will be limited to flights operating on a specific day."
   ]
  },
  {
   "cell_type": "markdown",
   "metadata": {},
   "source": [
    "**Note**: Each city may have multiple airports; in such cases, the function should calculate the best route for every possible airport pair between the two cities. For example, if city A has airports $a_1$ , $a_2$ and city B has $b_1$ , $b_2$ , the function should compute the best routes for $a_1 → b_1$ , $a_1 → b_2$ , $a_2 → b_1$ and $a_2 → b_2$ . If it’s not possible to travel from one airport in the origin city to another airport in the destination city on that date, you must report it as well.\n",
    "\n",
    "The function takes the following inputs:\n",
    "\n",
    "1. Flights network\n",
    "\n",
    "2. Origin city name\n",
    "\n",
    "3. Destination city name\n",
    "\n",
    "4. Considered Date (in yyyy-mm-dd format)\n",
    "\n",
    "The function output:\n",
    "\n",
    "1. A table with three columns: 'Origin_city_airport', 'Destination_city_airport', and the 'Best_route'.\n",
    "\n",
    "**Note**: In the \"Best_route\" column, we expect a list of airport names connected by → , showing the order in which they are to be visited during the optimal route. If no such route exists, the entry should display \"No route found.\"\n"
   ]
  },
  {
   "cell_type": "markdown",
   "metadata": {},
   "source": [
    "> We choose the date with the most flights in the dataset"
   ]
  },
  {
   "cell_type": "code",
   "execution_count": 45,
   "metadata": {},
   "outputs": [
    {
     "data": {
      "text/plain": [
       "'2007-12-01'"
      ]
     },
     "execution_count": 45,
     "metadata": {},
     "output_type": "execute_result"
    }
   ],
   "source": [
    "Date = df.groupby('Fly_date')['Origin_airport'].count().idxmax()\n",
    "Date"
   ]
  },
  {
   "cell_type": "markdown",
   "metadata": {},
   "source": [
    "> After debug and analyzing our `distances_dictionary` from *Seattle*, we choose one of the routes with the highest `best_distance` in order to highlight the sequence of flights that brings to the destination. "
   ]
  },
  {
   "cell_type": "code",
   "execution_count": 46,
   "metadata": {},
   "outputs": [],
   "source": [
    "Origin_city = \"Seattle\"\n",
    "Destination_city = \"Bloomington\""
   ]
  },
  {
   "cell_type": "markdown",
   "metadata": {},
   "source": [
    "> To compute the best route we can use the **Dijkstra's algorithm**.\n",
    "\n",
    "#### **Dijkstra's algorithm**\n",
    "\n",
    "\n",
    "Here it is a pseudocode:\n",
    "\n",
    "```python\n",
    "\n",
    "1. Initialize a priority queue (min-heap) called 'pq'\n",
    "\n",
    "2. For each node in the graph:\n",
    "\n",
    "    a. Set the distance to the source node as 0\n",
    "\n",
    "    b. Set the distance to all other nodes as infinity\n",
    "\n",
    "    c. Set the previous node for all nodes as undefined (None)\n",
    "\n",
    "3. Insert the source node into the priority queue with distance 0\n",
    "\n",
    "4. While the priority queue 'pq' is not empty:\n",
    "\n",
    "    - Pop the node 'current' with the smallest distance from 'pq'\n",
    "\n",
    "    - For each neighbor of the current node:\n",
    "\n",
    "        - Calculate the new distance to the neighbor: new_distance = current_distance + edge_weight\n",
    "        \n",
    "        - If the new distance is smaller than the current known distance to the neighbor:\n",
    "\n",
    "            - Update the shortest distance to this neighbor\n",
    "\n",
    "            - Set the previous node to the current node\n",
    "\n",
    "            - Insert the neighbor into the priority queue with the updated distance\n",
    "\n",
    "5. After all nodes are processed, the algorithm ends.\n",
    "\n",
    "6. The shortest path from the source to any node can be reconstructed by following the previous nodes.\n"
   ]
  },
  {
   "cell_type": "markdown",
   "metadata": {},
   "source": [
    "**Function** `compute_best_route(graph, origin, destination, date)`\n",
    "\n",
    "The Function `compute_best_route` computes the best route in a specific date between two cities.\n",
    "\n",
    "- The graph is filtered using `filter_graph_by_date` function that creates a new graph adding only the edges relative to the input date\n",
    "\n",
    "- Then we iterate over the all the pairs between the airports in the source and destination cities and minimize the distance between them using the `compute_Dijkstra` function. Since the Dijkstra algorithm computes a dictionary of distances from the minimized sources, we can apply it only once and then iterate over the number of airports in the destination city indexing in the `distances_dict`\n",
    "\n",
    "- If the distance computed is less than the best_distance so update it and apply the `reconstruct_path` function where it builds the path to reach the destination iterating over the `prev` dictionary\n",
    "\n",
    "- We return a Dataframe with all the infos needed"
   ]
  },
  {
   "cell_type": "code",
   "execution_count": 47,
   "metadata": {},
   "outputs": [
    {
     "data": {
      "text/html": [
       "<style type=\"text/css\">\n",
       "</style>\n",
       "<table id=\"T_96192\">\n",
       "  <thead>\n",
       "    <tr>\n",
       "      <th id=\"T_96192_level0_col0\" class=\"col_heading level0 col0\" >Origin_city_airport</th>\n",
       "      <th id=\"T_96192_level0_col1\" class=\"col_heading level0 col1\" >Destination_city_airport</th>\n",
       "      <th id=\"T_96192_level0_col2\" class=\"col_heading level0 col2\" >Best_route</th>\n",
       "    </tr>\n",
       "  </thead>\n",
       "  <tbody>\n",
       "    <tr>\n",
       "      <td id=\"T_96192_row0_col0\" class=\"data row0 col0\" >Seattle</td>\n",
       "      <td id=\"T_96192_row0_col1\" class=\"data row0 col1\" >Bloomington</td>\n",
       "      <td id=\"T_96192_row0_col2\" class=\"data row0 col2\" >BFI->JFK->TCL->BDL->PWM->AVP->BMI</td>\n",
       "    </tr>\n",
       "  </tbody>\n",
       "</table>\n"
      ],
      "text/plain": [
       "<pandas.io.formats.style.Styler at 0x1edefc89150>"
      ]
     },
     "execution_count": 47,
     "metadata": {},
     "output_type": "execute_result"
    }
   ],
   "source": [
    "table = functions.compute_best_route(graph, Origin_city, Destination_city, Date)\n",
    "\n",
    "# To hide the index of the row (only row of the dataframe)\n",
    "table.style.hide(axis=\"index\")"
   ]
  },
  {
   "cell_type": "markdown",
   "metadata": {},
   "source": [
    "## **Airline Network Partitioning (Q4)**"
   ]
  },
  {
   "cell_type": "markdown",
   "metadata": {},
   "source": [
    "- In graph theory, this task is known as a graph disconnection problem. Your goal is to write a function that removes the minimum number of flights between airports to separate the original flight network into two disconnected subgraphs."
   ]
  },
  {
   "cell_type": "code",
   "execution_count": null,
   "metadata": {},
   "outputs": [],
   "source": []
  },
  {
   "cell_type": "markdown",
   "metadata": {},
   "source": [
    "## **Finding and Extracting Communities (Q5)**"
   ]
  },
  {
   "cell_type": "markdown",
   "metadata": {},
   "source": [
    "1. In this task, you are asked to analyze the graph and identify the communities based on the flight network provided. For the airline, the primary focus is on the cities, so your communities should reflect the connectivity between cities through the flights that link them."
   ]
  },
  {
   "cell_type": "markdown",
   "metadata": {},
   "source": [
    "Based ong the function created in Q1:\n",
    "\n",
    "**Function** `create_airport_graph`\n",
    "\n",
    "Our goal is to analyze communities through a function that takes in the flight network and two cities name, and outputs the total number of communities, has to visualize the graph highlighting the communities with different colors and tell if the two cities are within the same commnunity.\n",
    "\n",
    "To do this we are going to use Louvain algorithm, which is more suitable for a complex graph, like the one we are analyzing"
   ]
  },
  {
   "cell_type": "markdown",
   "metadata": {},
   "source": [
    "### Function: `modularity`\n",
    "\n",
    "This function calculates the **modularity** of a partition in a graph, which is a measure of the strength of division of a network into communities. A higher modularity score indicates a stronger division of the network into well-defined communities. The function works for undirected graphs and takes into account the edge weights.\n",
    "\n",
    "#### Parameters:\n",
    "- **G** (`networkx.Graph`): An object representing the network.\n",
    "  - The weights of the edges represent the strength of the connection between nodes, in this case the distance between the airports\n",
    "  \n",
    "- **partition** (`dict`): A dictionary where:\n",
    "  - **Key**: Node (representation of an airport).\n",
    "  - **Value**: The community number that the node belongs to.\n",
    "\n",
    "#### Returns:\n",
    "- **float**: The modularity score of the given partition. A higher modularity score indicates better community structure.\n",
    "\n",
    "#### Algorithm:\n",
    "1. **Degree Calculation**: The degree of each node is computed based on the weights of the edges.\n",
    "2. **Community Structure**: The nodes are grouped into their respective communities as per the `partition` dictionary.\n",
    "3. **Modularity Formula**:\n",
    "\n",
    "  $$ Q = \\frac{1}{2m} \\sum_{c} \\left( \\sum_{i,j \\in c} A_{ij} - \\frac{d_i d_j}{2m} \\right) $$\n",
    "\n",
    "&nbsp;&nbsp;&nbsp;&nbsp;where:  \n",
    "&nbsp;&nbsp;&nbsp;&nbsp;- $A_{ij}$ is the edge weight between nodes $i$ and $j$  \n",
    "&nbsp;&nbsp;&nbsp;&nbsp;- $d_i, d_j$ are degrees of nodes $i$ and $j$  \n",
    "&nbsp;&nbsp;&nbsp;&nbsp;- $m$ is total edge weight in the graph  \n",
    "&nbsp;&nbsp;&nbsp;&nbsp;- sum over all node pairs in community $c$\n"
   ]
  },
  {
   "cell_type": "code",
   "execution_count": 11,
   "metadata": {},
   "outputs": [],
   "source": [
    "def modularity(G, partition):\n",
    "    m = G.size(weight='weight')\n",
    "    degrees = dict(G.degree(weight='weight'))\n",
    "    communities = {}\n",
    "    \n",
    "    for node, community in partition.items():\n",
    "        if community not in communities:\n",
    "            communities[community] = []\n",
    "        communities[community].append(node)\n",
    "    \n",
    "    q = 0\n",
    "    for community, nodes in communities.items():\n",
    "        l_c = sum([G[u][v]['weight'] for u in nodes for v in nodes if G.has_edge(u, v)])\n",
    "        d_c = sum([degrees[node] for node in nodes])\n",
    "        q += l_c / (2 * m) - (d_c / (2 * m))**2\n",
    "    \n",
    "    return q\n"
   ]
  },
  {
   "cell_type": "markdown",
   "metadata": {},
   "source": [
    "### Function: `louvain_method`\n",
    "\n",
    "It is an algorithm that finds communities optimizing modularity.\n",
    "\n",
    "1. **How does it work?**\n",
    "   - Iterates through each node\n",
    "   - Tests moving node to neighboring communities\n",
    "   - Calculates modularity change for each potential move  \n",
    "   - Selects move giving highest modularity increase\n",
    "   - Repeats until no moves improve modularity\n",
    "\n",
    "2. **Implementation**\n",
    "   - Initial state: each node in separate community\n",
    "   - `move_node()`: handles single iteration of node movements\n",
    "   - Main loop continues until no further improvements possible\n",
    "   - Returns final community assignments as dictionary"
   ]
  },
  {
   "cell_type": "code",
   "execution_count": 12,
   "metadata": {},
   "outputs": [],
   "source": [
    "def louvain_method(G):\n",
    "    def move_node(G, partition):\n",
    "        moved = False\n",
    "        for node in G.nodes():\n",
    "            best_community = partition[node]\n",
    "            best_increase = 0\n",
    "            for neighbor in G.neighbors(node):\n",
    "                community = partition[neighbor]\n",
    "                if community == partition[node]:\n",
    "                    continue\n",
    "                original_modularity = modularity(G, partition)\n",
    "                partition[node] = community\n",
    "                new_modularity = modularity(G, partition)\n",
    "                increase = new_modularity - original_modularity\n",
    "                if increase > best_increase:\n",
    "                    best_community = community\n",
    "                    best_increase = increase\n",
    "                partition[node] = best_community\n",
    "            if best_community != partition[node]:\n",
    "                partition[node] = best_community\n",
    "                moved = True\n",
    "        return moved\n",
    "\n",
    "    partition = {node: i for i, node in enumerate(G.nodes())}\n",
    "    while True:\n",
    "        if not move_node(G, partition):\n",
    "            break\n",
    "\n",
    "    return partition"
   ]
  },
  {
   "cell_type": "markdown",
   "metadata": {},
   "source": [
    "### Function `analyze_flight_network_louvain_fs`\n",
    "\n",
    "Main function to apply the algorithm.\n",
    "\n",
    "**Steps**\n",
    "1. Community detection\n",
    "2. Checking if the two cities given as input are part of the same community\n",
    "3. Creates a Folium map to represent the communities, dividing them by color"
   ]
  },
  {
   "cell_type": "code",
   "execution_count": 13,
   "metadata": {},
   "outputs": [],
   "source": [
    "import folium\n",
    "\n",
    "def analyze_flight_network_louvain_fs(G, city1, city2):\n",
    "\n",
    "    G_undirected = G.to_undirected()\n",
    "\n",
    "    partition = louvain_method(G_undirected)\n",
    "    \n",
    "    num_communities = len(set(partition.values()))\n",
    "\n",
    "    communities = {}\n",
    "    for node, community in partition.items():\n",
    "        communities.setdefault(community, []).append(node)\n",
    "    \n",
    "    city1_community = None\n",
    "    city2_community = None\n",
    "    \n",
    "    for community, nodes in communities.items():\n",
    "        community_cities = {G.nodes[node]['city'] for node in nodes}\n",
    "        if city1 in community_cities:\n",
    "            city1_community = community\n",
    "        if city2 in community_cities:\n",
    "            city2_community = community\n",
    "\n",
    "    same_community = (city1_community == city2_community)\n",
    "\n",
    "    map_center = [df['Org_airport_lat'].mean(), df['Org_airport_long'].mean()]\n",
    "    m = folium.Map(location=map_center, zoom_start=5)\n",
    "\n",
    "    np.random.seed(0)\n",
    "    colors = np.random.randint(0, 256, size=(num_communities, 3))\n",
    "    colors = [f'#{r:02x}{g:02x}{b:02x}' for r, g, b in colors]\n",
    "\n",
    "    for community, nodes in communities.items():\n",
    "        for node in nodes:\n",
    "            lat = G.nodes[node]['lat']\n",
    "            long = G.nodes[node]['long']\n",
    "            city = G.nodes[node]['city']\n",
    "            folium.CircleMarker(\n",
    "                location=[lat, long],\n",
    "                radius=5,\n",
    "                color=colors[community % len(colors)],\n",
    "                fill=True,\n",
    "                fill_color=colors[community % len(colors)],\n",
    "                fill_opacity=0.6,\n",
    "                popup=city\n",
    "            ).add_to(m)\n",
    "\n",
    "    '''\n",
    "    for u, v, data in G.edges(data=True):\n",
    "        origin_lat = G.nodes[u]['lat']\n",
    "        origin_long = G.nodes[u]['long']\n",
    "        dest_lat = G.nodes[v]['lat']\n",
    "        dest_long = G.nodes[v]['long']\n",
    "        folium.PolyLine(\n",
    "            locations=[(origin_lat, origin_long), (dest_lat, dest_long)],\n",
    "            color='gray',\n",
    "            weight=1,\n",
    "            opacity=0.5\n",
    "        ).add_to(m)'''\n",
    "\n",
    "    return num_communities, communities, same_community, m\n"
   ]
  },
  {
   "cell_type": "code",
   "execution_count": 15,
   "metadata": {},
   "outputs": [
    {
     "name": "stdout",
     "output_type": "stream",
     "text": [
      "Number of communities: 38\n",
      "Communities: {171: ['EUG', 'YKM', 'CLM', 'PUW', 'GGG', 'GTF', 'FAT', 'TUS', 'MWH', 'BIL', 'DFW', 'CPR', 'ANC', 'AZA', 'IAH', 'TUL', 'OMA', 'PIA', 'GJT', 'CYS', 'ABR', 'ROW', 'BIS', 'FCA', 'BLI', 'DSM', 'GFK', 'BFL', 'SGF', 'FSD', 'BTR', 'IDA', 'ORD', 'YUM', 'MOT', 'BNA', 'IND', 'TWF', 'MTJ', 'DTW', 'CVG', 'JAC', 'FWA', 'HOU', 'RKS', 'PIH', 'ATL', 'EWR', 'JFK', 'MDT', 'IAD', 'MHT', 'FAI', 'JLN', 'OGG', 'ILN', 'HMN', 'POB', 'LAF', 'NKX', 'LSV', 'EIL', 'JMS', 'PFN', 'EWN', 'NQX', 'PIB', 'MIE', 'SSC', 'TMB', 'BFM', 'HIF', 'MIB', 'ISN', 'OGD', 'SGU', 'MUO', 'PVU', 'NZY', 'MDH', 'ANB', 'IMT', 'MGY', 'ADQ', 'ALW', 'VAD', 'TIW', 'VEL', 'OLM', 'MGW', 'HSH', 'LAM'], 60: ['RDM', 'RDD', 'FBK', 'SAF', 'FSM', 'DLH', 'HLN', 'AUS', 'MSO', 'SBA', 'ITH', 'ROA', 'BTV', 'TYS', 'HVR', 'APF', 'HVN', 'MRI'], 371: ['MFR', 'PDX', 'EAT', 'FOE', 'COS', 'RFD', 'SAT', 'CID', 'SPI', 'BZN', 'SBN', 'GRK', 'BOS', 'SYR', 'MCO', 'LAN', 'BWG', 'GPT', 'KTN', 'RIV', 'SAV', 'FLG', 'FFO', 'TCM', 'SBP', 'TTN', 'DOV', 'MWA', 'ADM', 'SVN', 'NBG', 'PKB', 'OXR', 'JNU', 'LNS', 'UVA', 'IAB'], 347: ['SEA', 'AST', 'SPS', 'MAF', 'CRP', 'JAN', 'CLE', 'CLL', 'ABI', 'TOL', 'BRO', 'MCE', 'PIT', 'PHL', 'GSO', 'RIC', 'BHM', 'PWM', 'RDU', 'GSP', 'CHA', 'CAE', 'DET', 'SUS', 'TLH', 'SNA', 'DAL', 'MHR', 'LFT', 'XNA', 'COU', 'TYR', 'EFD', 'AFW', 'CSG', 'FTW', 'AGS', 'ABY', 'MEI', 'BYH', 'NEW', 'OGS', 'SBY', 'HLG'], 36: ['LMT', 'ACV', 'DRO', 'ELP', 'PGV', 'CLU', 'MFD', 'LGU', 'BTL', 'AND', 'CVO', 'JBR', 'OKK'], 258: ['SFO', 'STL', 'YIP', 'ABE', 'PVD', 'ACY', 'ROC', 'SCE', 'CHO', 'SFB', 'HSV', 'TVC', 'DRT', 'TPA', 'ITO', 'GUS', 'MOB', 'JAX', 'PBI', 'ELD', 'ATW', 'PDK', 'AVL', 'HOB', 'MCN', 'DHN', 'LYH', 'TUP', 'JST', 'STP', 'OWB', 'PRC', 'CBE', 'MWC'], 368: ['LAX', 'FYV', 'ALB', 'CRW', 'MBS', 'GLH', 'PAH', 'GTR', 'ARA', 'OCF', 'HOT', 'MKC', 'ESN', 'ISM'], 136: ['EKO', 'ICT', 'DBQ', 'ACT', 'CWA', 'LBF', 'BRD', 'GCC', 'LNK', 'LSE', 'FOD', 'EAU', 'RAP', 'BFF', 'GRI', 'GCK', 'DEC', 'PIR', 'GYY', 'EVV', 'MEM', 'CMI', 'SCK', 'BMI', 'LRD', 'CAK', 'DAY', 'AZO', 'UIN', 'RIW', 'SJT', 'FNT', 'GRR', 'JHW', 'HUF', 'RWI', 'AGC', 'ILG', 'HII', 'IPL', 'HGR', 'MQT', 'VLD', 'CSV', 'DPA', 'SKY', 'HKY', 'DIK', 'OFK', 'OLS', 'CGI', 'STJ', 'BJI', 'AOO', 'JEF', 'RAC', 'ESC', 'STE', 'AXN'], 100: ['SLE'], 274: ['GEG', 'LBB', 'MLU', 'RST', 'DCA', 'BWI', 'MHK', 'APC', 'LCH', 'DMA', 'OAJ', 'STC', 'ATY', 'LGD'], 257: ['LWS', 'ABQ', 'MSN', 'SHV', 'FAR', 'CMH', 'CLT', 'LEX', 'YNG', 'BGM', 'BDL', 'ISO', 'HNL', 'BAD', 'SZL', 'OSH', 'BQK', 'SDM', 'LAL', 'GUP'], 115: ['PDT', 'SFF'], 320: ['SJC', 'VGT', 'LUK', 'LRU', 'GNV', 'LAR', 'VIS', 'DVT', 'SEE'], 360: ['SMF', 'EKA', 'BKL', 'UKI'], 426: ['FLL', 'PUB', 'AMA', 'MKE', 'MOD', 'CDC', 'ORH', 'CHS', 'MYR', 'SHD', 'PBG', 'PGD', 'MCC', 'JXN'], 409: ['PHX', 'SHR', 'AVP', 'PNS', 'BRL', 'RDG', 'PWK', 'CKB', 'PNE', 'RUT', 'RKD', 'MKL', 'FTY'], 339: ['BFI', 'TIK', 'PWT'], 312: ['SLC', 'MCW', 'VCT'], 166: ['RNO', 'LIT', 'ERI', 'FDY'], 355: ['BIF', 'MSP', 'ILM', 'FLO', 'LCK', 'MIA', 'AEX', 'APN', 'WRB', 'EDF', 'MCF', 'NPA', 'NJK', 'LSF', 'BDR', 'NQA', 'SKA', 'BKW'], 236: ['CIC', 'MGM'], 373: ['LAS', 'STS', 'BUF', 'MSY', 'MKG', 'HON', 'FXE', 'BIH', 'SOW'], 392: ['CEC'], 259: ['OKC', 'MCI', 'BPT', 'ELM', 'MDW', 'LGA', 'IRK', 'EYW', 'AHN', 'ART', 'AUO', 'AUG', 'HRO', 'SAC', 'FFT', 'LWC', 'FCM'], 175: ['SAN'], 384: ['OAK', 'SLN', 'BMG', 'TCL', 'FAY', 'OPF', 'MTN', 'PUC', 'MAE', 'POU', 'SNS'], 172: ['BTM'], 431: ['LBL', 'BFD'], 112: ['ALO'], 398: ['GRB'], 294: ['SUX'], 178: ['LAW', 'IPT'], 313: ['BGR', 'SKF', 'RCA', 'LTS', 'DYS', 'ORL', 'OFF'], 421: ['ADS'], 316: ['GSB', 'PAM'], 337: ['DDC', 'CNM', 'CVN', 'FMN', 'ALM'], 252: ['HYS', 'TBN'], 376: ['LUF']}\n",
      "Do City1 and City2 belong to the same community? False\n"
     ]
    }
   ],
   "source": [
    "num_communities, communities, same_community, map = analyze_flight_network_louvain_fs(graph.copy(), 'Sacramento, CA', 'Los Angeles. CA')\n",
    "print(f\"Number of communities: {num_communities}\")\n",
    "print(f\"Communities: {communities}\")\n",
    "print(f\"Do City1 and City2 belong to the same community? {same_community}\")\n",
    "map.save(\"./assets/flight_network_map_louvain.html\")"
   ]
  },
  {
   "cell_type": "markdown",
   "metadata": {},
   "source": [
    "2. Ask a LLM (ChatGPT, Claude AI, Gemini, Perplexity, etc.) to suggest an alternative algorithm for extracting communities and explain the steps required to implement it. Then, implement this algorithm and compare its results with the current method you've chosen. Discuss the differences in the outcomes and analyze which approach you think is better, providing reasons for your choice."
   ]
  },
  {
   "cell_type": "markdown",
   "metadata": {},
   "source": [
    "**LLM suggestion**\n",
    "\n",
    "An alternative method, suggested by ChatGPT, for community detection is the **Label Propagation Algorithm**. \n",
    "\n",
    "This algorithm works with the following procedure:\n",
    "1. Initialization: assigning a unique label to each node in the network --> This step uses the function created in QA1 to create the graph\n",
    "2. Label Propagation: the label of each node gets updated based on the most frequent label among its neighbors.\n",
    "3. Convergence: label propagation is repeated unitl the label no longer change or a maximum number of iterations is reached"
   ]
  },
  {
   "cell_type": "markdown",
   "metadata": {},
   "source": [
    "### Label Propagation Algorithm"
   ]
  },
  {
   "cell_type": "code",
   "execution_count": 16,
   "metadata": {},
   "outputs": [],
   "source": [
    "from collections import Counter\n",
    "import random\n",
    "\n",
    "def label_prop(Graph, max_iter=100, tol=0.1):\n",
    "    nodes = list(Graph.nodes())\n",
    "    labels = {node: i for i, node in enumerate(nodes)}\n",
    "    \n",
    "    iter_count = 0\n",
    "    stabilized = False\n",
    "    \n",
    "    while not stabilized and iter_count < max_iter:\n",
    "        iter_count += 1\n",
    "        old_labels = labels.copy()\n",
    "        random.shuffle(nodes)\n",
    "        \n",
    "        for node in nodes:\n",
    "            if not list(Graph.neighbors(node)):\n",
    "                continue\n",
    "                \n",
    "            # Weight labels by edge weights if available\n",
    "            neighbor_labels = []\n",
    "            for neighbor in Graph.neighbors(node):\n",
    "                weight = Graph[node][neighbor].get('weight', 1.0)\n",
    "                neighbor_labels.extend([labels[neighbor]] * int(weight * 10))\n",
    "            \n",
    "            if neighbor_labels:\n",
    "                # Get top 3 most common labels\n",
    "                most_common = Counter(neighbor_labels).most_common(1)\n",
    "                # Randomly select from top labels with preference to more common ones\n",
    "                weights = [count for _, count in most_common]\n",
    "                new_label = random.choices([label for label, _ in most_common], \n",
    "                                        weights=weights)[0]\n",
    "                labels[node] = new_label\n",
    "    \n",
    "    return labels"
   ]
  },
  {
   "cell_type": "markdown",
   "metadata": {},
   "source": [
    "#### Analysis using LPA"
   ]
  },
  {
   "cell_type": "code",
   "execution_count": 17,
   "metadata": {},
   "outputs": [],
   "source": [
    "def analyze_flight_network_lpa(Graph, city1, city2):\n",
    "\n",
    "    G_undirected = Graph.to_undirected()\n",
    "\n",
    "    for u, v in G_undirected.edges():\n",
    "        lat1, lon1 = G_undirected.nodes[u]['lat'], G_undirected.nodes[u]['long']\n",
    "        lat2, lon2 = G_undirected.nodes[v]['lat'], G_undirected.nodes[v]['long']\n",
    "        dist = np.sqrt((lat1 - lat2)**2 + (lon1 - lon2)**2)\n",
    "        G_undirected[u][v]['weight'] = 1 / (1 + dist)\n",
    "\n",
    "    partition = label_prop(G_undirected)\n",
    "\n",
    "    num_communities = len(set(partition.values()))\n",
    "\n",
    "    communities = {}\n",
    "    for node, community in partition.items():\n",
    "        if community not in communities:\n",
    "            communities[community] = []\n",
    "        communities[community].append(node)\n",
    "\n",
    "    city1_community = None\n",
    "    city2_community = None\n",
    "\n",
    "    for community, nodes in communities.items():\n",
    "        community_cities = {Graph.nodes[node]['city'] for node in nodes}\n",
    "        if city1 in community_cities:\n",
    "            city1_community = community\n",
    "        if city2 in community_cities:\n",
    "            city2_community = community\n",
    "    \n",
    "    same_community = (city1_community == city2_community)\n",
    "\n",
    "    map_center = [\n",
    "        np.mean([Graph.nodes[node]['lat'] for node in Graph.nodes()]),\n",
    "        np.mean([Graph.nodes[node]['long'] for node in Graph.nodes()])\n",
    "    ]\n",
    "    map = folium.Map(location=map_center, zoom_start=5)\n",
    "\n",
    "    np.random.seed(0)\n",
    "    colors = np.random.randint(0, 256, size=(num_communities, 3))\n",
    "    colors = [f'#{r:02x}{g:02x}{b:02x}' for r, g, b in colors]\n",
    "\n",
    "    '''\n",
    "    for (u, v) in G_undirected.edges():\n",
    "        coords = [(Graph.nodes[u]['lat'], Graph.nodes[u]['long']),\n",
    "                 (Graph.nodes[v]['lat'], Graph.nodes[v]['long'])]\n",
    "        folium.PolyLine(coords, weight=1, color='blue', opacity=0.1).add_to(map)'''\n",
    "\n",
    "    for community, nodes in communities.items():\n",
    "        for node in nodes:\n",
    "            lat = Graph.nodes[node]['lat']\n",
    "            long = Graph.nodes[node]['long']\n",
    "            city = Graph.nodes[node]['city']\n",
    "            folium.CircleMarker(\n",
    "                location=[lat, long],\n",
    "                radius=5,\n",
    "                color=colors[community % len(colors)],\n",
    "                fill_opacity=0.6,\n",
    "                popup=city\n",
    "            ).add_to(map)\n",
    "    \n",
    "    return num_communities, communities, same_community, map"
   ]
  },
  {
   "cell_type": "code",
   "execution_count": 18,
   "metadata": {},
   "outputs": [
    {
     "name": "stdout",
     "output_type": "stream",
     "text": [
      "Number of communities: 16\n",
      "Communities: {3: ['EUG', 'RDM', 'MFR', 'SEA', 'PDX', 'LMT', 'EAT', 'YKM', 'SLE', 'GEG', 'LWS', 'AST', 'CLM', 'PDT', 'PUW', 'BFI', 'MWH', 'MSO', 'FCA', 'BLI', 'TCM', 'CVO', 'ALW', 'SKA', 'OLM', 'LGD', 'SFF'], 6: ['SFO', 'RDD', 'SJC', 'ACV', 'SMF', 'RNO', 'CIC', 'CEC', 'STS', 'OAK', 'MOD', 'SCK', 'MCE', 'APC', 'MHR', 'EKA', 'UKI', 'MCC', 'SNS'], 7: ['LAX', 'PHX', 'FAT', 'TUS', 'LAS', 'AZA', 'SAN', 'BFL', 'SBA', 'YUM', 'VGT', 'CDC', 'SNA', 'RIV', 'FLG', 'HMN', 'DMA', 'HII', 'IPL', 'SBP', 'NKX', 'LUF', 'LSV', 'NJK', 'SDM', 'SGU', 'MUO', 'NZY', 'OLS', 'BIH', 'OXR', 'VIS', 'SOW', 'MAE', 'SAC', 'PRC', 'DVT', 'SEE', 'HSH'], 323: ['EKO', 'GTF', 'BIL', 'SLC', 'CPR', 'SAF', 'ABQ', 'DRO', 'HLN', 'BTM', 'PUB', 'COS', 'GJT', 'CYS', 'GCC', 'RAP', 'BFF', 'IDA', 'BZN', 'MOT', 'TWF', 'MTJ', 'JAC', 'RKS', 'PIH', 'RIW', 'SHR', 'LGU', 'RCA', 'LAR', 'HVR', 'FMN', 'HIF', 'MIB', 'ISN', 'DIK', 'OGD', 'PUC', 'PVU', 'GUP', 'VEL', 'LAM'], 210: ['FLL', 'GGG', 'FSM', 'ICT', 'DLH', 'OKC', 'DBQ', 'TUL', 'OMA', 'PIA', 'CWA', 'FOE', 'LBF', 'ABR', 'BRD', 'BIS', 'LBL', 'MSN', 'LNK', 'ALO', 'RFD', 'GRB', 'LSE', 'MKE', 'FOD', 'DSM', 'EAU', 'MCW', 'LIT', 'SHV', 'MCI', 'GFK', 'MSP', 'SGF', 'FSD', 'GRI', 'CID', 'FYV', 'SUX', 'GCK', 'BTR', 'SPI', 'DEC', 'ORD', 'PIR', 'MLU', 'GYY', 'FAR', 'RST', 'STL', 'BNA', 'EVV', 'MEM', 'JAN', 'CMI', 'IND', 'BMI', 'CAK', 'CLE', 'DTW', 'DAY', 'CVG', 'CMH', 'SBN', 'FWA', 'AZO', 'SLN', 'UIN', 'TOL', 'PIT', 'ERI', 'ORH', 'ITH', 'ELM', 'BOS', 'ATL', 'MDW', 'PHL', 'GSO', 'FNT', 'BUF', 'EWR', 'BGR', 'CLT', 'JFK', 'SYR', 'RIC', 'GRR', 'YIP', 'ABE', 'LGA', 'PVD', 'LEX', 'BHM', 'ACY', 'MCO', 'YNG', 'PWM', 'MDT', 'BGM', 'IAD', 'ALB', 'MSY', 'ROC', 'AVP', 'ROA', 'RDU', 'GSP', 'BTV', 'CRW', 'CHS', 'DCA', 'CHA', 'SCE', 'CHO', 'LAN', 'BDL', 'CAE', 'JHW', 'MHT', 'ILM', 'FLO', 'ISO', 'BWI', 'SFB', 'PGV', 'TYS', 'HSV', 'BWG', 'DET', 'SUS', 'GSB', 'MYR', 'MBS', 'CLU', 'LCK', 'TLH', 'BMG', 'LUK', 'MGM', 'MFD', 'PNS', 'TVC', 'MIA', 'GPT', 'TCL', 'AEX', 'HUF', 'RWI', 'TPA', 'AGC', 'DDC', 'HYS', 'MHK', 'BRL', 'JLN', 'TBN', 'GUS', 'LFT', 'LCH', 'ILN', 'MOB', 'XNA', 'COU', 'JAX', 'PBI', 'SAV', 'CSG', 'ELD', 'FFO', 'PAM', 'GNV', 'ILG', 'POB', 'TTN', 'ATW', 'BTL', 'PDK', 'LAF', 'RDG', 'MKG', 'HGR', 'MQT', 'FAY', 'AGS', 'AVL', 'VLD', 'DOV', 'TIK', 'JMS', 'MWA', 'GLH', 'SZL', 'OSH', 'PWK', 'APN', 'IRK', 'PAH', 'CSV', 'DPA', 'SKY', 'HON', 'MCN', 'BQK', 'ABY', 'DHN', 'OAJ', 'MEI', 'GTR', 'PFN', 'WRB', 'LYH', 'EYW', 'BKL', 'ARA', 'APF', 'EWN', 'AHN', 'BYH', 'MCF', 'NQX', 'OPF', 'HKY', 'CKB', 'NPA', 'TUP', 'PIB', 'LSF', 'OCF', 'MIE', 'NEW', 'SVN', 'ORL', 'FXE', 'SSC', 'TMB', 'JST', 'AND', 'BFM', 'HOT', 'PNE', 'MTN', 'LAL', 'MKC', 'SHD', 'OFF', 'OFK', 'MDH', 'ANB', 'FDY', 'BDR', 'HVN', 'RUT', 'OGS', 'RKD', 'ART', 'STC', 'AUO', 'PBG', 'IMT', 'CGI', 'PKB', 'AUG', 'SBY', 'PGD', 'IPT', 'HRO', 'JBR', 'ATY', 'STJ', 'BJI', 'MGY', 'MKL', 'BFD', 'ESN', 'OKK', 'AOO', 'NQA', 'JEF', 'LNS', 'VAD', 'ESC', 'STE', 'FTY', 'ISM', 'BKW', 'AXN', 'STP', 'JXN', 'OWB', 'FFT', 'LWC', 'MGW', 'HLG', 'CBE', 'MWC'], 425: ['DFW', 'IAH', 'ACT', 'AUS', 'SPS', 'AMA', 'LBB', 'MAF', 'SAT', 'CRP', 'LRD', 'CLL', 'ABI', 'HOU', 'BPT', 'LAW', 'BRO', 'SJT', 'GRK', 'ADS', 'DRT', 'DAL', 'TYR', 'EFD', 'AFW', 'SKF', 'FTW', 'LTS', 'BAD', 'ADM', 'DYS', 'NBG', 'VCT', 'UVA', 'IAB'], 252: ['FBK', 'FAI', 'EIL'], 355: ['ANC', 'EDF', 'ADQ', 'MRI'], 53: ['BIF', 'ELP', 'LRU', 'ALM'], 73: ['ROW', 'HOB', 'CNM', 'CVN'], 257: ['HNL', 'ITO', 'OGG'], 265: ['KTN', 'JNU'], 447: ['RAC'], 448: ['POU'], 470: ['TIW', 'PWT'], 482: ['FCM']}\n",
      "Do City1 and City2 belong to the same community? False\n"
     ]
    }
   ],
   "source": [
    "num_communities, communities, same_community, map_lpa = analyze_flight_network_lpa(graph.copy(), 'Sacramento, CA', 'Chicago, IL')\n",
    "print(f\"Number of communities: {num_communities}\")\n",
    "print(f\"Communities: {communities}\")\n",
    "print(f\"Do City1 and City2 belong to the same community? {same_community}\")\n",
    "\n",
    "map_lpa.save(\"flight_network_map_lpa.html\")"
   ]
  },
  {
   "cell_type": "markdown",
   "metadata": {},
   "source": [
    "#### **Result comparison**\n",
    "It is possible to see differences in the number of communities the two algorithms are able to identify; **Louvain algorithm** was able to identify 38 communities, while **Label Propagation** just 16.\n",
    "Time complexity is sensibly lower in Label Propagation Algorithm.\n",
    "<br><br>\n",
    "Visually, the map generated using the **Label Propagation Algorithm** seems to identify communities close to each other; while Louvain seems able to identify communities where nodes are not close to each other.\n",
    "<br><br>\n",
    "In my opinion Louvain is better because of its ability to identify connections where nodes are not actually close to each other, that might exist in dividing the graph, based on how the edges are formed."
   ]
  },
  {
   "cell_type": "markdown",
   "metadata": {},
   "source": [
    "## **Bonus Question - Connected Components on MapReduce**"
   ]
  },
  {
   "cell_type": "markdown",
   "metadata": {},
   "source": [
    "1. In this task, you are required to use PySpark and the MapReduce paradigm to identify the connected components in a flight network graph. The focus should be on airports rather than cities. As you know, a connected component refers to a group of airports where every pair of airports within the group is connected either directly or indirectly."
   ]
  },
  {
   "cell_type": "code",
   "execution_count": null,
   "metadata": {},
   "outputs": [],
   "source": []
  },
  {
   "cell_type": "markdown",
   "metadata": {},
   "source": [
    "2. Compare the execution time and the results of your implementation with those of the GraphFrames package for identifying connected components. If there is any difference in the results, provide an explanation for why that might occur."
   ]
  },
  {
   "cell_type": "code",
   "execution_count": null,
   "metadata": {},
   "outputs": [],
   "source": []
  },
  {
   "cell_type": "markdown",
   "metadata": {},
   "source": [
    "## **Algorithmic Question (AQ)**"
   ]
  },
  {
   "cell_type": "markdown",
   "metadata": {},
   "source": [
    "Arya needs to travel between cities using a network of flights. Each flight has a fixed cost (in euros), and she wants to find the cheapest possible way to travel from her starting city to her destination city. However, there are some constraints on the journey:\n",
    "\n",
    "- Arya can make at most `k` stops during her trip (this means up to `k+1` flights).\n",
    "    \n",
    "- If no valid route exists within these constraints, the result should be `-1`.\n",
    "\n",
    "Given a graph of cities connected by flights, your job is to find the minimum cost for Arya to travel between two specified cities (`src` to `dst`) while following the constraints."
   ]
  },
  {
   "cell_type": "markdown",
   "metadata": {},
   "source": [
    "**a)** Write a pseudocode that describes the algorithm to find the cheapest route with at most k stops."
   ]
  },
  {
   "cell_type": "markdown",
   "metadata": {},
   "source": [
    "```\n",
    "Function findCheapestPrice(n, flights, src, dst, k):\n",
    "    # Input:\n",
    "    # n: number of cities (0 to n-1)\n",
    "    # flights: list of edges [from, to, cost]\n",
    "    # src: starting city\n",
    "    # dst: destination city\n",
    "    # k: maximum number of stops allowed\n",
    "\n",
    "    # Represent the graph as an adjacency list\n",
    "    graph = Create an empty adjacency list for n cities\n",
    "    For each flight in flights:\n",
    "        Add an edge from flight[0] to flight[1] with cost flight[2]\n",
    "\n",
    "    # Initialize the priority queue (min-heap)\n",
    "    # Priority queue will store tuples in the form: (current_cost, current_city, stops_used)\n",
    "    pq = MinHeap()\n",
    "    pq.push((0, src, 0))  # Start with cost 0, starting city, and 0 stops\n",
    "\n",
    "    # Initialize a visited dictionary to track the minimum cost to each city with at most x stops\n",
    "    visited = Dictionary with default value of Infinity\n",
    "    visited[(src, 0)] = 0\n",
    "\n",
    "    # Perform BFS/Modified Dijkstra\n",
    "    While pq is not empty:\n",
    "        (current_cost, current_city, stops_used) = pq.pop()\n",
    "\n",
    "        # If destination is reached, return the cost\n",
    "        If current_city == dst:\n",
    "            Return current_cost\n",
    "\n",
    "        # If the number of stops exceeds k, skip processing further\n",
    "        If stops_used > k:\n",
    "            Continue\n",
    "\n",
    "        # Explore neighbors\n",
    "        For each neighbor in graph[current_city]:\n",
    "            next_city = neighbor[0]\n",
    "            flight_cost = neighbor[1]\n",
    "            new_cost = current_cost + flight_cost\n",
    "\n",
    "            # Check if this route is better than previously known costs\n",
    "            If new_cost < visited.get((next_city, stops_used + 1), Infinity):\n",
    "                visited[(next_city, stops_used + 1)] = new_cost\n",
    "                pq.push((new_cost, next_city, stops_used + 1))\n",
    "\n",
    "    # If destination not reachable within k stops, return -1\n",
    "    Return -1\n",
    "```"
   ]
  },
  {
   "cell_type": "markdown",
   "metadata": {},
   "source": [
    "**b)** Implement the algorithm in Python and simulate the given test cases."
   ]
  },
  {
   "cell_type": "code",
   "execution_count": 12,
   "metadata": {},
   "outputs": [
    {
     "name": "stdout",
     "output_type": "stream",
     "text": [
      "700\n",
      "200\n",
      "500\n",
      "400\n",
      "400\n"
     ]
    }
   ],
   "source": [
    "import heapq\n",
    "from collections import defaultdict\n",
    "\n",
    "def findCheapestPrice(n, flights, src, dst, k):\n",
    "    # Represent the graph as an adjacency list\n",
    "    graph = defaultdict(list)\n",
    "    for u, v, cost in flights:\n",
    "        graph[u].append((v, cost))\n",
    "\n",
    "    # Initialize the priority queue (min-heap)\n",
    "    # Priority queue stores tuples in the form (current_cost, current_city, stops_used)\n",
    "    pq = [(0, src, 0)]  # (cost, node, stops)\n",
    "\n",
    "    # Initialize visited dictionary\n",
    "    visited = {}  # Key: (city, stops), Value: minimum cost\n",
    "\n",
    "    # Perform the modified Dijkstra's/BFS\n",
    "    while pq:\n",
    "        current_cost, current_city, stops_used = heapq.heappop(pq)\n",
    "\n",
    "        # If destination is reached, return the cost\n",
    "        if current_city == dst:\n",
    "            return current_cost\n",
    "\n",
    "        # If stops used exceeds the limit, continue\n",
    "        if stops_used > k:\n",
    "            continue\n",
    "\n",
    "        # Explore neighbors\n",
    "        for neighbor, flight_cost in graph[current_city]:\n",
    "            new_cost = current_cost + flight_cost\n",
    "\n",
    "            # Only process if this route is cheaper than previously known costs\n",
    "            if (neighbor, stops_used + 1) not in visited or new_cost < visited[(neighbor, stops_used + 1)]:\n",
    "                visited[(neighbor, stops_used + 1)] = new_cost\n",
    "                heapq.heappush(pq, (new_cost, neighbor, stops_used + 1))\n",
    "\n",
    "    # If destination is not reachable within k stops, return -1\n",
    "    return -1\n",
    "\n",
    "# Test cases\n",
    "print(findCheapestPrice(4, [[0, 1, 100], [1, 2, 100], [2, 0, 100], [1, 3, 600], [2, 3, 200]], 0, 3, 1))\n",
    "print(findCheapestPrice(3, [[0, 1, 100], [1, 2, 100], [0, 2, 500]], 0, 2, 1))\n",
    "print(findCheapestPrice(3, [[0, 1, 100], [1, 2, 100], [0, 2, 500]], 0, 2, 0))\n",
    "print(findCheapestPrice(4, [[0, 1, 100], [0, 2, 200], [1, 3, 300], [2, 3, 300]], 0, 3, 2))\n",
    "print(findCheapestPrice(4, [[0, 1, 100], [0, 2, 200], [1, 3, 300], [2, 3, 200]], 0, 3, 2))"
   ]
  },
  {
   "cell_type": "markdown",
   "metadata": {},
   "source": [
    "**c)** Analyze the algorithm's efficiency. Provide its time complexity and space complexity, and explain whether it is efficient for large graphs (e.g., `n > 100`)."
   ]
  },
  {
   "cell_type": "markdown",
   "metadata": {},
   "source": [
    "#### Time Complexity\n",
    "\n",
    "The time complexity can be analyzed based on the following factors:\n",
    "\n",
    "- **Building the Graph**:\n",
    "  - The adjacency list is built by iterating through the `flights` list.\n",
    "  - Time complexity: `O(E)`, where `E` is the number of edges (flights).\n",
    "\n",
    "- **Heap Operations**:\n",
    "  - In the worst case, each node `V` can be pushed into and popped from the heap multiple times (up to `k + 1` stops).\n",
    "  - Each heap operation (push/pop) takes `O(log V)`, where `V` is the number of vertices (cities).\n",
    "\n",
    "- **Iterating Over Neighbors**:\n",
    "  - For each node, the algorithm iterates over its neighbors, which collectively across all nodes is `O(E)`, where `E` is the number of edges.\n",
    "\n",
    "Overall, the total time complexity is:\n",
    "$$\n",
    "O(E + (V + kE) * log V)\n",
    "$$\n",
    "\n",
    "For sparse graphs (E ≈ V), this simplifies to:\n",
    "$$\n",
    "O((k + 1) * V * log V)\n",
    "$$\n",
    "\n",
    "---\n",
    "\n",
    "#### Space Complexity\n",
    "\n",
    "- **Graph Storage**:\n",
    "  - The adjacency list requires \\(O(V + E)\\) space.\n",
    "- **Heap Storage**:\n",
    "  - The heap can grow to at most \\(O(V)\\) entries at a time.\n",
    "- **Visited Dictionary**:\n",
    "  - Stores at most \\(O(V)\\) entries for all cities.\n",
    "\n",
    "Overall space complexity:\n",
    "$$\n",
    "O(V + E)\n",
    "$$\n",
    "\n",
    "---\n",
    "\n",
    "#### Efficiency for Large Graphs\n",
    "\n",
    "- For large graphs with \\(n > 100\\) (e.g., $n = 10^4$), the algorithm may remain efficient if \\(k\\) (the number of allowed stops) is small, as the heap operations dominate the complexity.\n",
    "- However, for dense graphs where $E \\approx V^2$, the performance could degrade significantly due to the $O(E)$ factor."
   ]
  },
  {
   "cell_type": "markdown",
   "metadata": {},
   "source": [
    "**d)** Optimize the algorithm to handle larger graphs. Provide an updated pseudocode and analyze the computational complexity of your optimization."
   ]
  },
  {
   "cell_type": "markdown",
   "metadata": {},
   "source": [
    "```\n",
    "function find_cheapest_price(n, flights, src, dst, k):\n",
    "    # Build the adjacency list for forward and backward graphs\n",
    "    forward_graph = defaultdict(list)\n",
    "    backward_graph = defaultdict(list)\n",
    "    for u, v, cost in flights:\n",
    "        forward_graph[u].append((v, cost))\n",
    "        backward_graph[v].append((u, cost))\n",
    "    \n",
    "    # Initialize min-heaps for forward and backward searches\n",
    "    forward_heap = [(0, src, 0)]  # (cost, current_city, stops)\n",
    "    backward_heap = [(0, dst, 0)]  # (cost, current_city, stops)\n",
    "    \n",
    "    # Initialize visited dictionaries for both directions\n",
    "    forward_visited = {}\n",
    "    backward_visited = {}\n",
    "\n",
    "    # Track minimum cost across both searches\n",
    "    min_cost = float('inf')\n",
    "    \n",
    "    # Perform the bidirectional search\n",
    "    while forward_heap or backward_heap:\n",
    "        # Process forward search\n",
    "        if forward_heap:\n",
    "            forward_cost, forward_city, forward_stops = heapq.heappop(forward_heap)\n",
    "            \n",
    "            # Update visited for forward search\n",
    "            if forward_city in forward_visited and forward_visited[forward_city] <= forward_stops:\n",
    "                continue\n",
    "            forward_visited[forward_city] = forward_stops\n",
    "            \n",
    "            # Check for connection with backward search\n",
    "            if forward_city in backward_visited:\n",
    "                total_stops = forward_stops + backward_visited[forward_city] - 1\n",
    "                if total_stops <= k:\n",
    "                    min_cost = min(min_cost, forward_cost + backward_visited[forward_city])\n",
    "            \n",
    "            # Add neighbors to forward heap\n",
    "            if forward_stops <= k:\n",
    "                for neighbor, cost in forward_graph[forward_city]:\n",
    "                    heapq.heappush(forward_heap, (forward_cost + cost, neighbor, forward_stops + 1))\n",
    "        \n",
    "        # Process backward search\n",
    "        if backward_heap:\n",
    "            backward_cost, backward_city, backward_stops = heapq.heappop(backward_heap)\n",
    "            \n",
    "            # Update visited for backward search\n",
    "            if backward_city in backward_visited and backward_visited[backward_city] <= backward_stops:\n",
    "                continue\n",
    "            backward_visited[backward_city] = backward_stops\n",
    "            \n",
    "            # Check for connection with forward search\n",
    "            if backward_city in forward_visited:\n",
    "                total_stops = forward_visited[backward_city] + backward_stops - 1\n",
    "                if total_stops <= k:\n",
    "                    min_cost = min(min_cost, backward_cost + forward_visited[backward_city])\n",
    "            \n",
    "            # Add neighbors to backward heap\n",
    "            if backward_stops <= k:\n",
    "                for neighbor, cost in backward_graph[backward_city]:\n",
    "                    heapq.heappush(backward_heap, (backward_cost + cost, neighbor, backward_stops + 1))\n",
    "    \n",
    "    # Return result\n",
    "    return min_cost if min_cost != float('inf') else -1\n",
    "```\n",
    "---"
   ]
  },
  {
   "cell_type": "markdown",
   "metadata": {},
   "source": [
    "1. Bidirectional Search:\n",
    "\n",
    "- Instead of searching the entire graph from one direction, simultaneously search from both the source and the destination.\n",
    "- Reduces the number of nodes explored, especially for large graphs.\n",
    "\n",
    "2. Pruning:\n",
    "\n",
    "- Terminate searches early if stops exceed the allowed $k$.\n",
    "- Avoid revisiting nodes with higher or equal stops using the $visited$ dictionaries.\n",
    "\n",
    "3. Connection Checking:\n",
    "\n",
    "- Combine results from forward and backward searches when they meet in the middle, reducing the computation required.\n",
    "\n",
    "---"
   ]
  },
  {
   "cell_type": "markdown",
   "metadata": {},
   "source": [
    "1. Time Complexity:\n",
    "- Each search (forward and backward) processes up to `(k+1) * V` heap operations.\n",
    "- Each heap operation takes `O(log V)`\n",
    "- Total complexity: $$ O((k + 1) * V * log V) $$\n",
    "\n",
    "2. Space Complexity:\n",
    "- Graph Storage: O(V + E) for adjacency lists.\n",
    "- Heap Storage: O(V) for each heap\n",
    "- Visited Dictionaries: O(V) for forward and backward searches\n",
    "- Total complexity: $$ O(V + E) $$\n",
    "\n",
    "The bidirectional search reduces the number of nodes explored, making the algorithm faster for large graphs.\n",
    "By carefully pruning the search space, it avoids redundant computations, improving scalability."
   ]
  },
  {
   "cell_type": "markdown",
   "metadata": {},
   "source": [
    "**e)** Ask LLM (e.g., ChatGPT) for an optimized version of your algorithm. Compare its solution to yours in terms of performance, time complexity, and correctness."
   ]
  },
  {
   "cell_type": "markdown",
   "metadata": {},
   "source": [
    "ChatGPT responded with this: \n",
    "\n",
    "Here’s an optimized version of your algorithm. The main improvements involve reducing redundant exploration and avoiding unnecessary heap pushes when conditions can be pre-checked."
   ]
  },
  {
   "cell_type": "code",
   "execution_count": null,
   "metadata": {},
   "outputs": [],
   "source": [
    "import heapq\n",
    "from collections import defaultdict\n",
    "\n",
    "def findCheapestPath(n, flights, src, dst, k):\n",
    "    # Step 1: Build the graph as an adjacency list\n",
    "    graph = defaultdict(list)\n",
    "    for u, v, cost in flights:\n",
    "        graph[u].append((v, cost))\n",
    "    \n",
    "    # Step 2: Priority queue to store (current_cost, current_city, stops)\n",
    "    pq = [(0, src, 0)]  # Start with cost 0, src city, and 0 stops\n",
    "    \n",
    "    # Step 3: Dictionary to track the minimum cost to a city with a specific number of stops\n",
    "    min_cost = {(src, 0): 0}\n",
    "    \n",
    "    # Step 4: Use Dijkstra-like traversal with constraint on stops\n",
    "    while pq:\n",
    "        current_cost, current_city, stops = heapq.heappop(pq)\n",
    "        \n",
    "        # If destination is reached, return the cost\n",
    "        if current_city == dst:\n",
    "            return current_cost\n",
    "        \n",
    "        # If stops exceed the limit, skip further processing\n",
    "        if stops > k:\n",
    "            continue\n",
    "        \n",
    "        # Expand neighbors\n",
    "        for neighbor, cost in graph[current_city]:\n",
    "            new_cost = current_cost + cost\n",
    "            # Only push to heap if this path is cheaper than any previously found path to the neighbor\n",
    "            if new_cost < min_cost.get((neighbor, stops + 1), float('inf')):\n",
    "                min_cost[(neighbor, stops + 1)] = new_cost\n",
    "                heapq.heappush(pq, (new_cost, neighbor, stops + 1))\n",
    "    \n",
    "    # If no valid path found, return -1\n",
    "    return -1"
   ]
  },
  {
   "cell_type": "markdown",
   "metadata": {},
   "source": [
    "## Key Differences\n",
    "\n",
    "### 1. **Unidirectional vs. Bidirectional Search**\n",
    "\n",
    "- **ChatGPT's Code**:\n",
    "  - It uses a **unidirectional search** (Dijkstra-like approach), starting from the source city and exploring neighbors up to \\(k\\) stops.\n",
    "- **My Optimized Code**:\n",
    "  - It employs a **bidirectional search**:\n",
    "    - One search starts from the source (`forward_heap`).\n",
    "    - Another search starts from the destination (`backward_heap`).\n",
    "    - The two searches meet in the middle, potentially reducing the number of states explored.\n",
    "\n",
    "### 2. **Graph Representation**\n",
    "\n",
    "- Both algorithms use an adjacency list, but my code constructs two graphs:\n",
    "  - `forward_graph` for the forward search.\n",
    "  - `backward_graph` for the backward search.\n",
    "- ChatGPT's code only uses a single adjacency list for the forward traversal.\n",
    "\n",
    "### 3. **Visited Tracking**\n",
    "\n",
    "- **ChatGPT's Code**:\n",
    "  - Tracks the minimum cost to reach a city with a specific number of stops using a dictionary (`min_cost`).\n",
    "- **My Code**:\n",
    "  - Tracks visited cities separately for forward and backward searches with their respective dictionaries (`forward_visited` and `backward_visited`).\n",
    "\n",
    "### 4. **Meeting Criteria**\n",
    "\n",
    "- **ChatGPT's Code**:\n",
    "  - Finds the cheapest cost path when reaching the destination within \\(k\\) stops.\n",
    "- **My Code**:\n",
    "  - Merges the forward and backward results when the two searches overlap at a city, ensuring the total stops do not exceed \\(k\\).\n",
    "\n",
    "---\n",
    "\n",
    "## Pros and Cons\n",
    "\n",
    "#### ChatGPT's Code\n",
    "\n",
    "**Pros**:\n",
    "\n",
    "- Simpler implementation.\n",
    "- Uses fewer data structures (only one heap and one graph).\n",
    "\n",
    "**Cons**:\n",
    "\n",
    "- May explore redundant paths in one direction.\n",
    "- Can be slower for large graphs compared to bidirectional search.\n",
    "\n",
    "#### My Code\n",
    "\n",
    "**Pros**:\n",
    "\n",
    "- Bidirectional search can potentially explore fewer paths by meeting in the middle.\n",
    "- Handles paths more systematically from both ends.\n",
    "\n",
    "**Cons**:\n",
    "\n",
    "- More complex to implement.\n",
    "- Requires additional memory for two heaps, two graphs, and two visited dictionaries."
   ]
  }
 ],
 "metadata": {
  "kernelspec": {
   "display_name": ".venv",
   "language": "python",
   "name": "python3"
  },
  "language_info": {
   "codemirror_mode": {
    "name": "ipython",
    "version": 3
   },
   "file_extension": ".py",
   "mimetype": "text/x-python",
   "name": "python",
   "nbconvert_exporter": "python",
   "pygments_lexer": "ipython3",
   "version": "3.11.0"
  }
 },
 "nbformat": 4,
 "nbformat_minor": 4
}
