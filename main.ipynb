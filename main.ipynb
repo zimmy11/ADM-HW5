{
 "cells": [
  {
   "cell_type": "markdown",
   "metadata": {},
   "source": [
    "# **Homework 5 - USA Airport Flight Analysis**\n",
    "\n",
    "*Group#12*\n",
    "\n",
    "- **Marco Zimmatore** - [zimmatore.1947442@studenti.uniroma1.it](mailto:zimmatore.1947442@studenti.uniroma1.it)\n",
    "- **Davide Vitale** - [vitale.1794386@studenti.uniroma1.it](mailto:vitale.1794386@studenti.uniroma1.it)\n",
    "- **Darkhan Maksutov** - [maksutov.2113209@studenti.uniroma1.it](mailto:maksutov.2113209@studenti.uniroma1.it)\n",
    "- **Riccardo Soleo** - [soleo.1911063@studenti.uniroma1.it](mailto:soleo.1911063@studenti.uniroma1.it)\n",
    "\n",
    "___"
   ]
  },
  {
   "cell_type": "code",
   "execution_count": 2,
   "metadata": {},
   "outputs": [],
   "source": [
    "import functions\n",
    "import pandas as pd\n",
    "\n",
    "dataset_path = \"../archive/Airports2.csv\"       "
   ]
  },
  {
   "cell_type": "code",
   "execution_count": 3,
   "metadata": {},
   "outputs": [
    {
     "data": {
      "text/plain": [
       "<module 'functions' from 'c:\\\\Users\\\\Marco\\\\Desktop\\\\Magistrale\\\\ADM\\\\ADM-HW5\\\\ADM-HW5\\\\functions.py'>"
      ]
     },
     "execution_count": 3,
     "metadata": {},
     "output_type": "execute_result"
    }
   ],
   "source": [
    "import importlib\n",
    "importlib.reload(functions)"
   ]
  },
  {
   "cell_type": "code",
   "execution_count": 4,
   "metadata": {},
   "outputs": [
    {
     "data": {
      "text/html": [
       "<div>\n",
       "<style scoped>\n",
       "    .dataframe tbody tr th:only-of-type {\n",
       "        vertical-align: middle;\n",
       "    }\n",
       "\n",
       "    .dataframe tbody tr th {\n",
       "        vertical-align: top;\n",
       "    }\n",
       "\n",
       "    .dataframe thead th {\n",
       "        text-align: right;\n",
       "    }\n",
       "</style>\n",
       "<table border=\"1\" class=\"dataframe\">\n",
       "  <thead>\n",
       "    <tr style=\"text-align: right;\">\n",
       "      <th></th>\n",
       "      <th>Origin_airport</th>\n",
       "      <th>Destination_airport</th>\n",
       "      <th>Origin_city</th>\n",
       "      <th>Destination_city</th>\n",
       "      <th>Passengers</th>\n",
       "      <th>Seats</th>\n",
       "      <th>Flights</th>\n",
       "      <th>Distance</th>\n",
       "      <th>Fly_date</th>\n",
       "      <th>Origin_population</th>\n",
       "      <th>Destination_population</th>\n",
       "      <th>Org_airport_lat</th>\n",
       "      <th>Org_airport_long</th>\n",
       "      <th>Dest_airport_lat</th>\n",
       "      <th>Dest_airport_long</th>\n",
       "    </tr>\n",
       "  </thead>\n",
       "  <tbody>\n",
       "    <tr>\n",
       "      <th>0</th>\n",
       "      <td>MHK</td>\n",
       "      <td>AMW</td>\n",
       "      <td>Manhattan, KS</td>\n",
       "      <td>Ames, IA</td>\n",
       "      <td>21</td>\n",
       "      <td>30</td>\n",
       "      <td>1</td>\n",
       "      <td>254</td>\n",
       "      <td>2008-10-01</td>\n",
       "      <td>122049</td>\n",
       "      <td>86219</td>\n",
       "      <td>39.140999</td>\n",
       "      <td>-96.670799</td>\n",
       "      <td>NaN</td>\n",
       "      <td>NaN</td>\n",
       "    </tr>\n",
       "    <tr>\n",
       "      <th>1</th>\n",
       "      <td>EUG</td>\n",
       "      <td>RDM</td>\n",
       "      <td>Eugene, OR</td>\n",
       "      <td>Bend, OR</td>\n",
       "      <td>41</td>\n",
       "      <td>396</td>\n",
       "      <td>22</td>\n",
       "      <td>103</td>\n",
       "      <td>1990-11-01</td>\n",
       "      <td>284093</td>\n",
       "      <td>76034</td>\n",
       "      <td>44.124599</td>\n",
       "      <td>-123.211998</td>\n",
       "      <td>44.254101</td>\n",
       "      <td>-121.150002</td>\n",
       "    </tr>\n",
       "    <tr>\n",
       "      <th>2</th>\n",
       "      <td>EUG</td>\n",
       "      <td>RDM</td>\n",
       "      <td>Eugene, OR</td>\n",
       "      <td>Bend, OR</td>\n",
       "      <td>88</td>\n",
       "      <td>342</td>\n",
       "      <td>19</td>\n",
       "      <td>103</td>\n",
       "      <td>1990-12-01</td>\n",
       "      <td>284093</td>\n",
       "      <td>76034</td>\n",
       "      <td>44.124599</td>\n",
       "      <td>-123.211998</td>\n",
       "      <td>44.254101</td>\n",
       "      <td>-121.150002</td>\n",
       "    </tr>\n",
       "    <tr>\n",
       "      <th>3</th>\n",
       "      <td>EUG</td>\n",
       "      <td>RDM</td>\n",
       "      <td>Eugene, OR</td>\n",
       "      <td>Bend, OR</td>\n",
       "      <td>11</td>\n",
       "      <td>72</td>\n",
       "      <td>4</td>\n",
       "      <td>103</td>\n",
       "      <td>1990-10-01</td>\n",
       "      <td>284093</td>\n",
       "      <td>76034</td>\n",
       "      <td>44.124599</td>\n",
       "      <td>-123.211998</td>\n",
       "      <td>44.254101</td>\n",
       "      <td>-121.150002</td>\n",
       "    </tr>\n",
       "    <tr>\n",
       "      <th>4</th>\n",
       "      <td>MFR</td>\n",
       "      <td>RDM</td>\n",
       "      <td>Medford, OR</td>\n",
       "      <td>Bend, OR</td>\n",
       "      <td>0</td>\n",
       "      <td>18</td>\n",
       "      <td>1</td>\n",
       "      <td>156</td>\n",
       "      <td>1990-02-01</td>\n",
       "      <td>147300</td>\n",
       "      <td>76034</td>\n",
       "      <td>42.374199</td>\n",
       "      <td>-122.873001</td>\n",
       "      <td>44.254101</td>\n",
       "      <td>-121.150002</td>\n",
       "    </tr>\n",
       "  </tbody>\n",
       "</table>\n",
       "</div>"
      ],
      "text/plain": [
       "  Origin_airport Destination_airport    Origin_city Destination_city  \\\n",
       "0            MHK                 AMW  Manhattan, KS         Ames, IA   \n",
       "1            EUG                 RDM     Eugene, OR         Bend, OR   \n",
       "2            EUG                 RDM     Eugene, OR         Bend, OR   \n",
       "3            EUG                 RDM     Eugene, OR         Bend, OR   \n",
       "4            MFR                 RDM    Medford, OR         Bend, OR   \n",
       "\n",
       "   Passengers  Seats  Flights  Distance    Fly_date  Origin_population  \\\n",
       "0          21     30        1       254  2008-10-01             122049   \n",
       "1          41    396       22       103  1990-11-01             284093   \n",
       "2          88    342       19       103  1990-12-01             284093   \n",
       "3          11     72        4       103  1990-10-01             284093   \n",
       "4           0     18        1       156  1990-02-01             147300   \n",
       "\n",
       "   Destination_population  Org_airport_lat  Org_airport_long  \\\n",
       "0                   86219        39.140999        -96.670799   \n",
       "1                   76034        44.124599       -123.211998   \n",
       "2                   76034        44.124599       -123.211998   \n",
       "3                   76034        44.124599       -123.211998   \n",
       "4                   76034        42.374199       -122.873001   \n",
       "\n",
       "   Dest_airport_lat  Dest_airport_long  \n",
       "0               NaN                NaN  \n",
       "1         44.254101        -121.150002  \n",
       "2         44.254101        -121.150002  \n",
       "3         44.254101        -121.150002  \n",
       "4         44.254101        -121.150002  "
      ]
     },
     "execution_count": 4,
     "metadata": {},
     "output_type": "execute_result"
    }
   ],
   "source": [
    "df = pd.read_csv(dataset_path)\n",
    "df.head()"
   ]
  },
  {
   "cell_type": "markdown",
   "metadata": {},
   "source": [
    "> We wanna build a graph with edges for each route, where each node represents an airport and eac edge is the existent route between two airports, with all the infos on that route. For this reason, we decide to remove all the rows with *NA* values in them, because each information is crucial for the next exercises computations."
   ]
  },
  {
   "cell_type": "code",
   "execution_count": 5,
   "metadata": {},
   "outputs": [
    {
     "data": {
      "text/html": [
       "<div>\n",
       "<style scoped>\n",
       "    .dataframe tbody tr th:only-of-type {\n",
       "        vertical-align: middle;\n",
       "    }\n",
       "\n",
       "    .dataframe tbody tr th {\n",
       "        vertical-align: top;\n",
       "    }\n",
       "\n",
       "    .dataframe thead th {\n",
       "        text-align: right;\n",
       "    }\n",
       "</style>\n",
       "<table border=\"1\" class=\"dataframe\">\n",
       "  <thead>\n",
       "    <tr style=\"text-align: right;\">\n",
       "      <th></th>\n",
       "      <th>Origin_airport</th>\n",
       "      <th>Destination_airport</th>\n",
       "      <th>Origin_city</th>\n",
       "      <th>Destination_city</th>\n",
       "      <th>Passengers</th>\n",
       "      <th>Seats</th>\n",
       "      <th>Flights</th>\n",
       "      <th>Distance</th>\n",
       "      <th>Fly_date</th>\n",
       "      <th>Origin_population</th>\n",
       "      <th>Destination_population</th>\n",
       "      <th>Org_airport_lat</th>\n",
       "      <th>Org_airport_long</th>\n",
       "      <th>Dest_airport_lat</th>\n",
       "      <th>Dest_airport_long</th>\n",
       "    </tr>\n",
       "  </thead>\n",
       "  <tbody>\n",
       "    <tr>\n",
       "      <th>1</th>\n",
       "      <td>EUG</td>\n",
       "      <td>RDM</td>\n",
       "      <td>Eugene, OR</td>\n",
       "      <td>Bend, OR</td>\n",
       "      <td>41</td>\n",
       "      <td>396</td>\n",
       "      <td>22</td>\n",
       "      <td>103</td>\n",
       "      <td>1990-11-01</td>\n",
       "      <td>284093</td>\n",
       "      <td>76034</td>\n",
       "      <td>44.124599</td>\n",
       "      <td>-123.211998</td>\n",
       "      <td>44.254101</td>\n",
       "      <td>-121.150002</td>\n",
       "    </tr>\n",
       "    <tr>\n",
       "      <th>2</th>\n",
       "      <td>EUG</td>\n",
       "      <td>RDM</td>\n",
       "      <td>Eugene, OR</td>\n",
       "      <td>Bend, OR</td>\n",
       "      <td>88</td>\n",
       "      <td>342</td>\n",
       "      <td>19</td>\n",
       "      <td>103</td>\n",
       "      <td>1990-12-01</td>\n",
       "      <td>284093</td>\n",
       "      <td>76034</td>\n",
       "      <td>44.124599</td>\n",
       "      <td>-123.211998</td>\n",
       "      <td>44.254101</td>\n",
       "      <td>-121.150002</td>\n",
       "    </tr>\n",
       "    <tr>\n",
       "      <th>3</th>\n",
       "      <td>EUG</td>\n",
       "      <td>RDM</td>\n",
       "      <td>Eugene, OR</td>\n",
       "      <td>Bend, OR</td>\n",
       "      <td>11</td>\n",
       "      <td>72</td>\n",
       "      <td>4</td>\n",
       "      <td>103</td>\n",
       "      <td>1990-10-01</td>\n",
       "      <td>284093</td>\n",
       "      <td>76034</td>\n",
       "      <td>44.124599</td>\n",
       "      <td>-123.211998</td>\n",
       "      <td>44.254101</td>\n",
       "      <td>-121.150002</td>\n",
       "    </tr>\n",
       "    <tr>\n",
       "      <th>4</th>\n",
       "      <td>MFR</td>\n",
       "      <td>RDM</td>\n",
       "      <td>Medford, OR</td>\n",
       "      <td>Bend, OR</td>\n",
       "      <td>0</td>\n",
       "      <td>18</td>\n",
       "      <td>1</td>\n",
       "      <td>156</td>\n",
       "      <td>1990-02-01</td>\n",
       "      <td>147300</td>\n",
       "      <td>76034</td>\n",
       "      <td>42.374199</td>\n",
       "      <td>-122.873001</td>\n",
       "      <td>44.254101</td>\n",
       "      <td>-121.150002</td>\n",
       "    </tr>\n",
       "    <tr>\n",
       "      <th>5</th>\n",
       "      <td>MFR</td>\n",
       "      <td>RDM</td>\n",
       "      <td>Medford, OR</td>\n",
       "      <td>Bend, OR</td>\n",
       "      <td>11</td>\n",
       "      <td>18</td>\n",
       "      <td>1</td>\n",
       "      <td>156</td>\n",
       "      <td>1990-03-01</td>\n",
       "      <td>147300</td>\n",
       "      <td>76034</td>\n",
       "      <td>42.374199</td>\n",
       "      <td>-122.873001</td>\n",
       "      <td>44.254101</td>\n",
       "      <td>-121.150002</td>\n",
       "    </tr>\n",
       "  </tbody>\n",
       "</table>\n",
       "</div>"
      ],
      "text/plain": [
       "  Origin_airport Destination_airport  Origin_city Destination_city  \\\n",
       "1            EUG                 RDM   Eugene, OR         Bend, OR   \n",
       "2            EUG                 RDM   Eugene, OR         Bend, OR   \n",
       "3            EUG                 RDM   Eugene, OR         Bend, OR   \n",
       "4            MFR                 RDM  Medford, OR         Bend, OR   \n",
       "5            MFR                 RDM  Medford, OR         Bend, OR   \n",
       "\n",
       "   Passengers  Seats  Flights  Distance    Fly_date  Origin_population  \\\n",
       "1          41    396       22       103  1990-11-01             284093   \n",
       "2          88    342       19       103  1990-12-01             284093   \n",
       "3          11     72        4       103  1990-10-01             284093   \n",
       "4           0     18        1       156  1990-02-01             147300   \n",
       "5          11     18        1       156  1990-03-01             147300   \n",
       "\n",
       "   Destination_population  Org_airport_lat  Org_airport_long  \\\n",
       "1                   76034        44.124599       -123.211998   \n",
       "2                   76034        44.124599       -123.211998   \n",
       "3                   76034        44.124599       -123.211998   \n",
       "4                   76034        42.374199       -122.873001   \n",
       "5                   76034        42.374199       -122.873001   \n",
       "\n",
       "   Dest_airport_lat  Dest_airport_long  \n",
       "1         44.254101        -121.150002  \n",
       "2         44.254101        -121.150002  \n",
       "3         44.254101        -121.150002  \n",
       "4         44.254101        -121.150002  \n",
       "5         44.254101        -121.150002  "
      ]
     },
     "execution_count": 5,
     "metadata": {},
     "output_type": "execute_result"
    }
   ],
   "source": [
    "df = df.dropna()\n",
    "df.head()"
   ]
  },
  {
   "cell_type": "markdown",
   "metadata": {},
   "source": [
    "## **Flight Network Analysis (Q1)**"
   ]
  },
  {
   "cell_type": "markdown",
   "metadata": {},
   "source": [
    "##### **Function** `create_airport_graph`"
   ]
  },
  {
   "cell_type": "code",
   "execution_count": 7,
   "metadata": {},
   "outputs": [],
   "source": [
    "graph = functions.create_airport_graph(df)\n"
   ]
  },
  {
   "cell_type": "markdown",
   "metadata": {},
   "source": [
    "1. Implement a function `analyze_graph_features(flight_network)` that takes the flight network as input and computes the following:\n",
    "\n",
    "    - Count the number of airports (`nodes`) and flights (`edges`) in the graph.\n",
    "\n",
    "    - Compute the density of the graph using the formula: $ Density = \\frac{2\\times E}{N(N − 1)}$\n",
    "\n",
    "    - Calculate both `in-degree` and `out-degree` for each airport and visualize them using histograms.\n",
    "\n",
    "    - Identify airports with degrees higher than the 90th percentile and list them as \"`hubs`\".\n",
    "    \n",
    "    - Determine if the graph is sparse or dense based on its density.\n",
    "\n"
   ]
  },
  {
   "cell_type": "code",
   "execution_count": null,
   "metadata": {},
   "outputs": [],
   "source": []
  },
  {
   "cell_type": "markdown",
   "metadata": {},
   "source": [
    "2. Write a function `summarize_graph_features(flight_network)` that generates a detailed report of the graph's features. A summary report needs to include:\n",
    "\n",
    "    - The number of nodes and edges.\n",
    "    \n",
    "    - The graph density.\n",
    "    \n",
    "    - Degree distribution plots for in-degree and out-degree.\n",
    "    \n",
    "    - A table of identified hubs.\n",
    "\n"
   ]
  },
  {
   "cell_type": "code",
   "execution_count": null,
   "metadata": {},
   "outputs": [],
   "source": []
  },
  {
   "cell_type": "markdown",
   "metadata": {},
   "source": [
    "3. Now let's dive deeper into the analysis of the dataset. Do the following:\n",
    "\n",
    "    - Compute total passenger flow between origin and destination cities.\n",
    "    \n",
    "    - Identify and visualize the busiest routes by passenger traffic.\n",
    "    \n",
    "    - Calculate the average passengers per flight for each route and highlight under/over-utilized connections.\n",
    "    \n",
    "    - Create an interactive map visualizing the geographic spread of the flight network.\n",
    "\n"
   ]
  },
  {
   "cell_type": "code",
   "execution_count": null,
   "metadata": {},
   "outputs": [],
   "source": []
  },
  {
   "cell_type": "markdown",
   "metadata": {},
   "source": [
    "## **Nodes' Contribution (Q2)**"
   ]
  },
  {
   "cell_type": "markdown",
   "metadata": {},
   "source": [
    "1. Implement a function `analyze_centrality(flight_network, airport)` that computes the following centrality measures for a given airport:\n",
    "\n",
    "\n",
    "    - *Betweenness* *centrality*: Measures how often a node appears on the shortest paths between other nodes.\n",
    "    \n",
    "    - *Closeness* *centrality*: Measures how easily a node can access all other nodes in the network.\n",
    "    \n",
    "    - *Degree* *centrality*: Simply counts the number of direct connections to the node.\n",
    "    \n",
    "    - *PageRank*: Computes the \"importance\" of a node based on incoming connections and their weights.\n"
   ]
  },
  {
   "cell_type": "code",
   "execution_count": null,
   "metadata": {},
   "outputs": [],
   "source": []
  },
  {
   "cell_type": "markdown",
   "metadata": {},
   "source": [
    "2.  Write a function *compare_centralities(flight_network)* to:\n",
    "\n",
    "    - Compute and compare centrality values for all nodes in the graph.\n",
    "    \n",
    "    - Plot centrality distributions (histograms for each centrality measure).\n",
    "    \n",
    "    - Return the top 5 airports for each centrality measure.\n",
    "\n"
   ]
  },
  {
   "cell_type": "code",
   "execution_count": null,
   "metadata": {},
   "outputs": [],
   "source": []
  },
  {
   "cell_type": "markdown",
   "metadata": {},
   "source": [
    "3. Ask LLM (eg. ChatGPT) to suggest alternative centrality measures that might be relevant to this task. How can you check that the results given by the LLM are trustable?"
   ]
  },
  {
   "cell_type": "code",
   "execution_count": null,
   "metadata": {},
   "outputs": [],
   "source": []
  },
  {
   "cell_type": "markdown",
   "metadata": {},
   "source": [
    "4. Implement one of these measures suggested by the LLM, compare its results to the centralities you've already computed, and analyze whether it adds any new insights."
   ]
  },
  {
   "cell_type": "code",
   "execution_count": null,
   "metadata": {},
   "outputs": [],
   "source": []
  },
  {
   "cell_type": "markdown",
   "metadata": {},
   "source": [
    "## **Finding Best Routes (Q3)**"
   ]
  },
  {
   "cell_type": "markdown",
   "metadata": {},
   "source": [
    "- In this task, you need to implement a function that, given an origin and destination city, determines the best possible route between them. To simplify, the focus will be limited to flights operating on a specific day."
   ]
  },
  {
   "cell_type": "markdown",
   "metadata": {},
   "source": [
    "**Note**: Each city may have multiple airports; in such cases, the function should calculate the best route for every possible airport pair between the two cities. For example, if city A has airports a 1 , a 2 and city B has b 1 , b 2 , the function should compute the best routes for $a_1 → b_1$ , $a_1 → b_2$ , $a_2 → b_1$ and $a_2 → b_2$ . If it’s not possible to travel from one airport in the origin city to another airport in the destination city on that date, you must report it as well."
   ]
  },
  {
   "cell_type": "code",
   "execution_count": null,
   "metadata": {},
   "outputs": [],
   "source": []
  },
  {
   "cell_type": "markdown",
   "metadata": {},
   "source": [
    "## **Airline Network Partitioning (Q4)**"
   ]
  },
  {
   "cell_type": "markdown",
   "metadata": {},
   "source": [
    "- In graph theory, this task is known as a graph disconnection problem. Your goal is to write a function that removes the minimum number of flights between airports to separate the original flight network into two disconnected subgraphs."
   ]
  },
  {
   "cell_type": "code",
   "execution_count": null,
   "metadata": {},
   "outputs": [],
   "source": []
  },
  {
   "cell_type": "markdown",
   "metadata": {},
   "source": [
    "## **Finding and Extracting Communities (Q5)**"
   ]
  },
  {
   "cell_type": "markdown",
   "metadata": {},
   "source": [
    "1. In this task, you are asked to analyze the graph and identify the communities based on the flight network provided. For the airline, the primary focus is on the cities, so your communities should reflect the connectivity between cities through the flights that link them."
   ]
  },
  {
   "cell_type": "code",
   "execution_count": null,
   "metadata": {},
   "outputs": [],
   "source": []
  },
  {
   "cell_type": "markdown",
   "metadata": {},
   "source": [
    "2. Ask a LLM (ChatGPT, Claude AI, Gemini, Perplexity, etc.) to suggest an alternative algorithm for extracting communities and explain the steps required to implement it. Then, implement this algorithm and compare its results with the current method you've chosen. Discuss the differences in the outcomes and analyze which approach you think is better, providing reasons for your choice."
   ]
  },
  {
   "cell_type": "code",
   "execution_count": null,
   "metadata": {},
   "outputs": [],
   "source": []
  },
  {
   "cell_type": "markdown",
   "metadata": {},
   "source": [
    "## **Bonus Question - Connected Components on MapReduce**"
   ]
  },
  {
   "cell_type": "markdown",
   "metadata": {},
   "source": [
    "1. In this task, you are required to use PySpark and the MapReduce paradigm to identify the connected components in a flight network graph. The focus should be on airports rather than cities. As you know, a connected component refers to a group of airports where every pair of airports within the group is connected either directly or indirectly."
   ]
  },
  {
   "cell_type": "code",
   "execution_count": null,
   "metadata": {},
   "outputs": [],
   "source": []
  },
  {
   "cell_type": "markdown",
   "metadata": {},
   "source": [
    "2. Compare the execution time and the results of your implementation with those of the GraphFrames package for identifying connected components. If there is any difference in the results, provide an explanation for why that might occur."
   ]
  },
  {
   "cell_type": "code",
   "execution_count": null,
   "metadata": {},
   "outputs": [],
   "source": []
  },
  {
   "cell_type": "markdown",
   "metadata": {},
   "source": [
    "## **Algorithmic Question (AQ)**"
   ]
  },
  {
   "cell_type": "markdown",
   "metadata": {},
   "source": [
    "Arya needs to travel between cities using a network of flights. Each flight has a fixed cost (in euros), and she wants to find the cheapest possible way to travel from her starting city to her destination city. However, there are some constraints on the journey:\n",
    "\n",
    "- Arya can make at most `k` stops during her trip (this means up to `k+1` flights).\n",
    "    \n",
    "- If no valid route exists within these constraints, the result should be `-1`.\n",
    "\n",
    "Given a graph of cities connected by flights, your job is to find the minimum cost for Arya to travel between two specified cities (`src` to `dst`) while following the constraints."
   ]
  },
  {
   "cell_type": "markdown",
   "metadata": {},
   "source": [
    "**a)** Write a pseudocode that describes the algorithm to find the cheapest route with at most k stops."
   ]
  },
  {
   "cell_type": "code",
   "execution_count": null,
   "metadata": {},
   "outputs": [],
   "source": []
  },
  {
   "cell_type": "markdown",
   "metadata": {},
   "source": [
    "**b)** Implement the algorithm in Python and simulate the given test cases."
   ]
  },
  {
   "cell_type": "code",
   "execution_count": null,
   "metadata": {},
   "outputs": [],
   "source": []
  },
  {
   "cell_type": "markdown",
   "metadata": {},
   "source": [
    "**c)** Analyze the algorithm's efficiency. Provide its time complexity and space complexity, and explain whether it is efficient for large graphs (e.g., `n > 100`)."
   ]
  },
  {
   "cell_type": "code",
   "execution_count": null,
   "metadata": {},
   "outputs": [],
   "source": []
  },
  {
   "cell_type": "markdown",
   "metadata": {},
   "source": [
    "**d)** Optimize the algorithm to handle larger graphs. Provide an updated pseudocode and analyze the computational complexity of your optimization."
   ]
  },
  {
   "cell_type": "code",
   "execution_count": null,
   "metadata": {},
   "outputs": [],
   "source": []
  },
  {
   "cell_type": "markdown",
   "metadata": {},
   "source": [
    "**e)** Ask LLM (e.g., ChatGPT) for an optimized version of your algorithm. Compare its solution to yours in terms of performance, time complexity, and correctness."
   ]
  },
  {
   "cell_type": "code",
   "execution_count": null,
   "metadata": {},
   "outputs": [],
   "source": []
  }
 ],
 "metadata": {
  "kernelspec": {
   "display_name": "Python 3",
   "language": "python",
   "name": "python3"
  },
  "language_info": {
   "codemirror_mode": {
    "name": "ipython",
    "version": 3
   },
   "file_extension": ".py",
   "mimetype": "text/x-python",
   "name": "python",
   "nbconvert_exporter": "python",
   "pygments_lexer": "ipython3",
   "version": "3.11.9"
  }
 },
 "nbformat": 4,
 "nbformat_minor": 2
}
